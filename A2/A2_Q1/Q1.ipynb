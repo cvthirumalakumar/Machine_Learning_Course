{
 "cells": [
  {
   "cell_type": "markdown",
   "metadata": {
    "id": "blv6XBI5GxO9"
   },
   "source": [
    "# SMAI Assignment - 2\n",
    "\n",
    "## Question 1: Naive Bayes and Clustering\n",
    "\n",
    "### Part 1: Naive Bayes\n",
    "\n",
    "[Files](https://drive.google.com/drive/folders/1OUVrOMp2jSSBDJSqvEyXDFTrhiyZnqit?usp=sharing)\n",
    "\n",
    "You will be performing Sentiment Analysis on a product review dataset with reviews from customers and star rating belonging to four classes (1,2,4,5). You can use sklearn for this question. Your tasks are as follows:\n",
    "\n",
    "1.   Clean the text by removing punctations and preprocess them using techniques such as stop word removal, stemming etc. You can explore anything!\n",
    "1.  Create BoW features using the word counts. You can choose the words that form the features such that the performance is optimised. Use the train-test split provided in `train_test_index.pickle` and report any interesting observations based on metrics such as accurarcy, precision, recall and f1 score (You can use Classification report in sklearn).\n",
    "1. Repeat Task 2 with TfIdf features."
   ]
  },
  {
   "cell_type": "code",
   "execution_count": 1,
   "metadata": {},
   "outputs": [
    {
     "name": "stderr",
     "output_type": "stream",
     "text": [
      "/tmp/ipykernel_490840/2591776323.py:3: DeprecationWarning: \n",
      "Pyarrow will become a required dependency of pandas in the next major release of pandas (pandas 3.0),\n",
      "(to allow more performant data types, such as the Arrow string type, and better interoperability with other libraries)\n",
      "but was not found to be installed on your system.\n",
      "If this would cause problems for you,\n",
      "please provide us feedback at https://github.com/pandas-dev/pandas/issues/54466\n",
      "        \n",
      "  import pandas as pd\n"
     ]
    }
   ],
   "source": [
    "from sklearn.feature_extraction.text import CountVectorizer, TfidfVectorizer\n",
    "import pickle\n",
    "import pandas as pd\n",
    "import string\n",
    "import contractions\n",
    "import re\n",
    "from sklearn.naive_bayes import MultinomialNB\n",
    "from sklearn.metrics import accuracy_score, classification_report, confusion_matrix\n",
    "from nltk.stem import PorterStemmer\n",
    "import gzip\n",
    "import numpy as np\n",
    "from sklearn.cluster import KMeans\n",
    "import matplotlib.pyplot as plt\n"
   ]
  },
  {
   "cell_type": "code",
   "execution_count": 2,
   "metadata": {
    "id": "U0nNsliRUjqd"
   },
   "outputs": [],
   "source": [
    "with open('train_test_index.pickle', 'rb') as handle:\n",
    "    train_test_index_dict = pickle.load(handle)"
   ]
  },
  {
   "cell_type": "code",
   "execution_count": 3,
   "metadata": {
    "id": "86GXlinlUz8b"
   },
   "outputs": [
    {
     "data": {
      "text/html": [
       "<div>\n",
       "<style scoped>\n",
       "    .dataframe tbody tr th:only-of-type {\n",
       "        vertical-align: middle;\n",
       "    }\n",
       "\n",
       "    .dataframe tbody tr th {\n",
       "        vertical-align: top;\n",
       "    }\n",
       "\n",
       "    .dataframe thead th {\n",
       "        text-align: right;\n",
       "    }\n",
       "</style>\n",
       "<table border=\"1\" class=\"dataframe\">\n",
       "  <thead>\n",
       "    <tr style=\"text-align: right;\">\n",
       "      <th></th>\n",
       "      <th>text</th>\n",
       "      <th>stars</th>\n",
       "      <th>sentiment</th>\n",
       "    </tr>\n",
       "  </thead>\n",
       "  <tbody>\n",
       "    <tr>\n",
       "      <th>0</th>\n",
       "      <td>Total bill for this horrible service? Over $8G...</td>\n",
       "      <td>1.0</td>\n",
       "      <td>0</td>\n",
       "    </tr>\n",
       "    <tr>\n",
       "      <th>1</th>\n",
       "      <td>Went in for a lunch. Steak sandwich was delici...</td>\n",
       "      <td>5.0</td>\n",
       "      <td>1</td>\n",
       "    </tr>\n",
       "    <tr>\n",
       "      <th>2</th>\n",
       "      <td>This place has gone down hill.  Clearly they h...</td>\n",
       "      <td>1.0</td>\n",
       "      <td>0</td>\n",
       "    </tr>\n",
       "    <tr>\n",
       "      <th>3</th>\n",
       "      <td>Walked in around 4 on a Friday afternoon, we s...</td>\n",
       "      <td>1.0</td>\n",
       "      <td>0</td>\n",
       "    </tr>\n",
       "    <tr>\n",
       "      <th>4</th>\n",
       "      <td>Michael from Red Carpet VIP is amazing ! I rea...</td>\n",
       "      <td>4.0</td>\n",
       "      <td>1</td>\n",
       "    </tr>\n",
       "  </tbody>\n",
       "</table>\n",
       "</div>"
      ],
      "text/plain": [
       "                                                text  stars  sentiment\n",
       "0  Total bill for this horrible service? Over $8G...    1.0          0\n",
       "1  Went in for a lunch. Steak sandwich was delici...    5.0          1\n",
       "2  This place has gone down hill.  Clearly they h...    1.0          0\n",
       "3  Walked in around 4 on a Friday afternoon, we s...    1.0          0\n",
       "4  Michael from Red Carpet VIP is amazing ! I rea...    4.0          1"
      ]
     },
     "execution_count": 3,
     "metadata": {},
     "output_type": "execute_result"
    }
   ],
   "source": [
    "data = pd.read_csv('product_reviews.csv')\n",
    "data.head()"
   ]
  },
  {
   "cell_type": "code",
   "execution_count": 4,
   "metadata": {},
   "outputs": [],
   "source": [
    "train_data = data.iloc[train_test_index_dict['train_index']]\n",
    "test_data = data.iloc[train_test_index_dict['test_index']]"
   ]
  },
  {
   "cell_type": "code",
   "execution_count": 7,
   "metadata": {},
   "outputs": [
    {
     "data": {
      "text/plain": [
       "stars\n",
       "5.0    10315\n",
       "4.0     4022\n",
       "1.0     2332\n",
       "2.0     1193\n",
       "Name: count, dtype: int64"
      ]
     },
     "execution_count": 7,
     "metadata": {},
     "output_type": "execute_result"
    }
   ],
   "source": [
    "train_data['stars'].value_counts()"
   ]
  },
  {
   "cell_type": "markdown",
   "metadata": {},
   "source": [
    "### Observation\n",
    "1. Data is not balanced across classes"
   ]
  },
  {
   "cell_type": "code",
   "execution_count": 5,
   "metadata": {},
   "outputs": [],
   "source": [
    "def pre_process(text):\n",
    "    t = contractions.fix(text) # expands short forms like don't -> do not \n",
    "    t = re.sub(r'[^\\w\\s]', ' ', t) # replace punctaution with spaces\n",
    "    t = re.sub(r'\\s+', ' ', t) # collapse multiple spaces to single space\n",
    "    stemmer = PorterStemmer()\n",
    "    t = \" \".join(stemmer.stem(word) for word in t.split()) # stemming\n",
    "    return t.lower()"
   ]
  },
  {
   "cell_type": "code",
   "execution_count": 6,
   "metadata": {},
   "outputs": [],
   "source": [
    "train_sentences, train_labels = train_data['text'].apply(pre_process).to_list(), train_data['stars'].values\n",
    "test_sentences, test_labels = test_data['text'].apply(pre_process).to_list(), test_data['stars'].values"
   ]
  },
  {
   "cell_type": "code",
   "execution_count": 7,
   "metadata": {},
   "outputs": [
    {
     "name": "stdout",
     "output_type": "stream",
     "text": [
      "CLassification report\n",
      "              precision    recall  f1-score   support\n",
      "\n",
      "         1.0       0.72      0.75      0.73      1149\n",
      "         2.0       0.46      0.13      0.21       587\n",
      "         4.0       0.47      0.53      0.50      1981\n",
      "         5.0       0.80      0.82      0.81      5082\n",
      "\n",
      "    accuracy                           0.70      8799\n",
      "   macro avg       0.61      0.56      0.56      8799\n",
      "weighted avg       0.69      0.70      0.69      8799\n",
      "\n",
      "Confusion Matrix\n",
      "[[ 861   76  108  104]\n",
      " [ 202   78  223   84]\n",
      " [  48   11 1052  870]\n",
      " [  84    4  838 4156]]\n"
     ]
    }
   ],
   "source": [
    "# Bag of words feature extraction and training\n",
    "vectorizer = CountVectorizer(stop_words='english') # removes stop words while fitting\n",
    "x_train_bow = vectorizer.fit_transform(train_sentences)\n",
    "x_test_bow = vectorizer.transform(test_sentences)\n",
    "\n",
    "classifier_bow = MultinomialNB()\n",
    "classifier_bow.fit(x_train_bow, train_labels)\n",
    "preds_bow = classifier_bow.predict(x_test_bow)\n",
    "accuracy = accuracy_score(test_labels, preds_bow)\n",
    "print(\"CLassification report\")\n",
    "print(classification_report(test_labels, preds_bow))\n",
    "print(\"Confusion Matrix\")\n",
    "print(confusion_matrix(test_labels, preds_bow))"
   ]
  },
  {
   "cell_type": "markdown",
   "metadata": {},
   "source": [
    "### Above classification metrics are using Bag of Words features\n",
    "#### Observations\n",
    "1. It has been observed that class 2 f1-score is the lowest and second lowest being class 4\n",
    "2. From the confusion matrix most of the class 2 sentences are predicted as either 1 or 4 and also class 5 as a result recall is low for class 2.\n",
    "3. Also most of the class 4 observations around 50% are classified as class 5 as a result recall was reduced to 0.53.\n",
    "4. Final accuracy is 70% and class 5 and class 1 achieved highest f1-score.\n",
    "5. Over all it seems like model is more confident about class 1 and 5 as they could have entirely different patterns and low confidence in class 2 as most of them may be overlap with class 1 and 4. Also class 4 seems more overlapped with class 5."
   ]
  },
  {
   "cell_type": "code",
   "execution_count": 8,
   "metadata": {},
   "outputs": [
    {
     "name": "stdout",
     "output_type": "stream",
     "text": [
      "CLassification report\n",
      "              precision    recall  f1-score   support\n",
      "\n",
      "         1.0       0.91      0.16      0.27      1149\n",
      "         2.0       0.00      0.00      0.00       587\n",
      "         4.0       0.51      0.02      0.04      1981\n",
      "         5.0       0.59      1.00      0.74      5082\n",
      "\n",
      "    accuracy                           0.60      8799\n",
      "   macro avg       0.50      0.29      0.26      8799\n",
      "weighted avg       0.58      0.60      0.47      8799\n",
      "\n",
      "Confusion Matrix\n",
      "[[ 184    0   10  955]\n",
      " [  17    0   12  558]\n",
      " [   0    0   38 1943]\n",
      " [   1    0   14 5067]]\n"
     ]
    }
   ],
   "source": [
    "# TF-IDF feature extraction and training\n",
    "tfidf_vectorizer = TfidfVectorizer(stop_words='english')\n",
    "x_train_tfidf = tfidf_vectorizer.fit_transform(train_sentences)\n",
    "x_test_tfidf = tfidf_vectorizer.transform(test_sentences)\n",
    "\n",
    "classifier_tfidf = MultinomialNB()\n",
    "classifier_tfidf.fit(x_train_tfidf, train_labels)\n",
    "preds_tfidf = classifier_tfidf.predict(x_test_tfidf)\n",
    "accuracy = accuracy_score(test_labels, preds_tfidf)\n",
    "print(\"CLassification report\")\n",
    "print(classification_report(test_labels, preds_tfidf, zero_division=0))\n",
    "print(\"Confusion Matrix\")\n",
    "print(confusion_matrix(test_labels, preds_tfidf))"
   ]
  },
  {
   "cell_type": "markdown",
   "metadata": {},
   "source": [
    "### Above classification metrics are using TF-IDF features\n",
    "#### Observations\n",
    "1. The main observation is that most of the observations in classes 1,2 and 4 are classified as class 5.\n",
    "2. This can be because most of the training data (documents in terms of TF-IDF terminology) is from classes 4 and 5 as shown initially, so classes 5 and 4 IDF will be affected by these classes.\n",
    "3. As a result almost all classes are predicted as class 5 and very little class 1 data is predicted with 0.91 precision. And class 2 got 0 f1-score.\n",
    "4. Whereas BoW is dependent only on that document, that feature is reliable when data is not balanced."
   ]
  },
  {
   "cell_type": "markdown",
   "metadata": {
    "id": "T8GYzpkuUcs6"
   },
   "source": [
    "### Part 2: Clustering\n",
    "\n",
    "You will be performing kmeans clustering on the same product reviews dataset from Part 1. In this question, instead of statistically computing features, you will use the embeddings obtained from a neural sentiment analysis model (huggingface: siebert/sentiment-roberta-large-english).\n",
    "\n",
    "You can use sklearn for this question. Your tasks are as follows:\n",
    "\n",
    "\n",
    "1. Perform kmeans clustering using sklearn. Try various values for number of clusters (k) and plot the elbow curve. For each value of k, plot WCSS (Within-Cluster Sum of Square). WCSS is the sum of the squared distance between each point and the centroid in a cluster.\n",
    "1. Perform task 1 with cluster initialisation methods [k-means++, forgy (\"random\" in sklearn)].\n",
    "1. In this case, since the ground truth labels (star rating) are available we can evaluate the clustering using metrics like purity, nmi and rand score. Implement these metrics from scratch and evaluate the clustering. [Reference](https://nlp.stanford.edu/IR-book/html/htmledition/evaluation-of-clustering-1.html)"
   ]
  },
  {
   "cell_type": "code",
   "execution_count": 9,
   "metadata": {
    "id": "5ddsz-nxGvfE"
   },
   "outputs": [
    {
     "name": "stdout",
     "output_type": "stream",
     "text": [
      "(26661, 1024)\n"
     ]
    }
   ],
   "source": [
    "f = gzip.GzipFile('roberta_embeds.npy.gz', \"r\")\n",
    "embeds = np.load(f)\n",
    "print(embeds.shape)"
   ]
  },
  {
   "cell_type": "code",
   "execution_count": 10,
   "metadata": {},
   "outputs": [],
   "source": [
    "train_embeddings = embeds[train_test_index_dict['train_index'],:]\n",
    "test_embeddings = embeds[train_test_index_dict['test_index'],:]"
   ]
  },
  {
   "cell_type": "code",
   "execution_count": 11,
   "metadata": {},
   "outputs": [
    {
     "name": "stdout",
     "output_type": "stream",
     "text": [
      "Training k = 19\r"
     ]
    },
    {
     "data": {
      "image/png": "[encoded data removed]",
      "text/plain": [
       "<Figure size 640x480 with 1 Axes>"
      ]
     },
     "metadata": {},
     "output_type": "display_data"
    }
   ],
   "source": [
    "# With kmeans++ initialisation\n",
    "wcss_values = []\n",
    "for k in range(1,20):\n",
    "    kmeans = KMeans(n_clusters=k, n_init='auto',init='k-means++')\n",
    "    kmeans.fit(train_embeddings)\n",
    "    wcss = kmeans.inertia_\n",
    "    wcss_values.append(wcss)\n",
    "    print(\"Training k =\",k, end='\\r')\n",
    "plt.plot(range(1,20), wcss_values, marker='x')\n",
    "plt.title('Elbow Curve with kmeans++ initialisation')\n",
    "plt.xlabel('Number of Clusters (K)')\n",
    "plt.ylabel('WCSS')\n",
    "plt.show()"
   ]
  },
  {
   "cell_type": "code",
   "execution_count": 12,
   "metadata": {},
   "outputs": [
    {
     "name": "stdout",
     "output_type": "stream",
     "text": [
      "Training k = 19\r"
     ]
    },
    {
     "data": {
      "image/png": "[encoded data removed]",
      "text/plain": [
       "<Figure size 640x480 with 1 Axes>"
      ]
     },
     "metadata": {},
     "output_type": "display_data"
    }
   ],
   "source": [
    "# with random initialisation\n",
    "wcss_values_random = []\n",
    "for k in range(1,20):\n",
    "    kmeans = KMeans(n_clusters=k, n_init='auto',init='random')\n",
    "    kmeans.fit(train_embeddings)\n",
    "    wcss = kmeans.inertia_\n",
    "    wcss_values_random.append(wcss)\n",
    "    print(\"Training k =\",k, end='\\r')\n",
    "plt.plot(range(1,20), wcss_values_random, marker='x')\n",
    "plt.title('Elbow Curve with random initialisation')\n",
    "plt.xlabel('Number of Clusters (K)')\n",
    "plt.ylabel('WCSS')\n",
    "plt.show()"
   ]
  },
  {
   "cell_type": "markdown",
   "metadata": {},
   "source": [
    "### Observations\n",
    "1. The elbow point is at k=2\n",
    "2. Both initialisations gave same result, but kmeans++ initialisation converged very fast whereas as random initialisation took time. Both acieved same result as n_init is different for kmeass++ and random.\n",
    "3. Kmeans++ n_init is 1, menas model trained only single time wheras random initialisation is training model 10 times with 10 different initialisations and picking the best. This is because I have used n_init='auto'."
   ]
  },
  {
   "cell_type": "code",
   "execution_count": 13,
   "metadata": {},
   "outputs": [],
   "source": [
    "def purity(true_labels: np.ndarray, predicted_labels: np.ndarray):\n",
    "    correct_count = 0\n",
    "    clusters = unique_values = np.unique(predicted_labels)\n",
    "    count = 0\n",
    "    for c in clusters:\n",
    "        unique_values, counts = np.unique(true_labels[predicted_labels==c], return_counts=True)\n",
    "        count += np.max(counts)\n",
    "    return count/len(true_labels)\n",
    "\n",
    "def rand_score(true_labels: np.ndarray, predicted_labels: np.ndarray):\n",
    "    count = 0\n",
    "    total_count = 0\n",
    "    n_samples = len(true_labels)\n",
    "    for i in range(n_samples):\n",
    "        for j in range(i + 1, n_samples):\n",
    "            total_count += 1\n",
    "            if true_labels[i] == true_labels[j] and predicted_labels[i] == predicted_labels[j]:\n",
    "                count += 1  # Same cluster and same class\n",
    "            elif true_labels[i] != true_labels[j] and predicted_labels[i] != predicted_labels[j]:\n",
    "                count += 1  # Different cluster and different class\n",
    "    return count/total_count\n",
    "\n",
    "def entropy(labels):\n",
    "    classes, counts = np.unique(labels, return_counts=True)\n",
    "    probabilities = counts / len(labels)\n",
    "    return -np.sum(probabilities * np.log2(probabilities))\n",
    "\n",
    "def nmi(true_labels: np.ndarray, predicted_labels: np.ndarray):\n",
    "    classes = np.unique(true_labels)\n",
    "    clusters = np.unique(predicted_labels)\n",
    "    mi = 0\n",
    "    n_samples = len(true_labels)\n",
    "    for class_t in classes:\n",
    "        for cluster_t in clusters:\n",
    "            intersection_count = np.sum(true_labels[predicted_labels == cluster_t] == class_t)\n",
    "            cluster_t_count = np.sum(predicted_labels == cluster_t)\n",
    "            class_t_count = np.sum(true_labels == class_t)\n",
    "            if intersection_count !=0:\n",
    "                mi += (intersection_count/n_samples)*np.log2((intersection_count*n_samples)/(cluster_t_count*class_t_count))\n",
    "    classes_entropy = entropy(true_labels)\n",
    "    clusters_entropy = entropy(predicted_labels)\n",
    "    return mi/np.sqrt(classes_entropy+clusters_entropy)\n",
    "            \n",
    "            "
   ]
  },
  {
   "cell_type": "code",
   "execution_count": 15,
   "metadata": {},
   "outputs": [
    {
     "name": "stdout",
     "output_type": "stream",
     "text": [
      "K-measn with k-means++ initialisation and clusters = 4\n",
      "Purity = 0.7120127287191726\n",
      "NMI = 0.41224898377174957\n",
      "Rand Score = 0.7251997652815586\n",
      "---------------------------------------------------------\n",
      "K-measn with random initialisation and clusters = 4\n",
      "Purity = 0.7120127287191726\n",
      "NMI = 0.4122489837717495\n",
      "Rand Score = 0.7251997652815586\n"
     ]
    }
   ],
   "source": [
    "kmeans_plus = KMeans(n_clusters=4, n_init='auto',init='k-means++')\n",
    "kmeans_plus.fit(train_embeddings)\n",
    "preds_plus = kmeans_plus.predict(test_embeddings)\n",
    "print(\"K-measn with k-means++ initialisation and clusters = 4\")\n",
    "print(\"Purity =\",purity(test_labels, preds_plus))\n",
    "print(\"NMI =\",nmi(test_labels, preds_plus))\n",
    "print(\"Rand Score =\",rand_score(test_labels, preds_plus))\n",
    "\n",
    "kmeans_random = KMeans(n_clusters=4, n_init='auto',init='random')\n",
    "kmeans_random.fit(train_embeddings)\n",
    "preds_random = kmeans_random.predict(test_embeddings)\n",
    "print(\"---------------------------------------------------------\")\n",
    "print(\"K-measn with random initialisation and clusters = 4\")\n",
    "print(\"Purity =\",purity(test_labels, preds_random))\n",
    "print(\"NMI =\",nmi(test_labels, preds_random))\n",
    "print(\"Rand Score =\",rand_score(test_labels, preds_random))"
   ]
  },
  {
   "cell_type": "code",
   "execution_count": null,
   "metadata": {},
   "outputs": [],
   "source": []
  }
 ],
 "metadata": {
  "colab": {
   "provenance": []
  },
  "kernelspec": {
   "display_name": "Python 3 (ipykernel)",
   "language": "python",
   "name": "python3"
  },
  "language_info": {
   "codemirror_mode": {
    "name": "ipython",
    "version": 3
   },
   "file_extension": ".py",
   "mimetype": "text/x-python",
   "name": "python",
   "nbconvert_exporter": "python",
   "pygments_lexer": "ipython3",
   "version": "3.10.12"
  }
 },
 "nbformat": 4,
 "nbformat_minor": 4
}
