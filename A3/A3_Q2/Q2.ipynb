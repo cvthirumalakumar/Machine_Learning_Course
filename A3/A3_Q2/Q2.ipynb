{
 "cells": [
  {
   "cell_type": "code",
   "execution_count": 1,
   "id": "133b0aa9-32c0-47b2-984f-68f4a337905f",
   "metadata": {},
   "outputs": [],
   "source": [
    "import torch\n",
    "import torch.nn as nn\n",
    "import torch.optim as optim\n",
    "import torchvision\n",
    "import torchvision.transforms as transforms\n",
    "from torch.utils.data import DataLoader, random_split\n",
    "from tqdm import tqdm\n",
    "import random\n",
    "import numpy as np\n",
    "from sklearn.metrics import accuracy_score\n",
    "from skimage.metrics import structural_similarity as ssim\n",
    "\n",
    "random_seed = 40\n",
    "random.seed(random_seed)\n",
    "np.random.seed(random_seed)\n",
    "torch.manual_seed(random_seed)\n",
    "torch.cuda.manual_seed_all(random_seed)"
   ]
  },
  {
   "cell_type": "code",
   "execution_count": 2,
   "id": "c3bfe4bd-03af-4fdc-888a-1fa4311c544c",
   "metadata": {},
   "outputs": [],
   "source": [
    "transform = transforms.Compose([\n",
    "    transforms.ToTensor(),\n",
    "    transforms.Normalize((0.5,), (0.5,))\n",
    "])\n",
    "dataset = torchvision.datasets.MNIST(root='data', train=True,download=True, transform=transform)\n",
    "test_dataset = torchvision.datasets.MNIST(root='data', train=False, download=True,transform=transform)\n",
    "\n",
    "train_size, val_size = 0.9, 0.1\n",
    "batch_size = 128\n",
    "\n",
    "train_dataset, val_dataset = random_split(dataset, [train_size, val_size])\n",
    "train_loader = DataLoader(train_dataset, batch_size=batch_size, shuffle=True)\n",
    "val_loader = DataLoader(val_dataset, batch_size=batch_size, shuffle=False)\n",
    "test_loader = DataLoader(test_dataset, batch_size=batch_size, shuffle=False)\n"
   ]
  },
  {
   "cell_type": "markdown",
   "id": "e14fb994-6cd2-4792-9e52-6da34a1a74d6",
   "metadata": {},
   "source": [
    "# Auto Encoder"
   ]
  },
  {
   "cell_type": "code",
   "execution_count": 3,
   "id": "1e923acc-2445-4398-a001-467e7a303d64",
   "metadata": {},
   "outputs": [],
   "source": [
    "class Autoencoder(nn.Module):\n",
    "    def __init__(self, bottle_neck_dimension=128):\n",
    "        super(Autoencoder, self).__init__()\n",
    "        self.encoder = nn.Sequential(\n",
    "            nn.Conv2d(1, 16, kernel_size=3), \n",
    "            nn.ReLU(),\n",
    "            nn.Conv2d(16, 32, kernel_size=3),  \n",
    "            nn.ReLU(),\n",
    "            nn.Conv2d(32, 64, kernel_size=3), \n",
    "            nn.ReLU(),\n",
    "            nn.Flatten(),  \n",
    "            nn.Linear(64 * 22 * 22, bottle_neck_dimension), \n",
    "            nn.ReLU()\n",
    "        )\n",
    "        self.decoder = nn.Sequential(\n",
    "            nn.Linear(bottle_neck_dimension, 64 * 22 * 22),  \n",
    "            nn.ReLU(),\n",
    "            nn.Unflatten(1, (64, 22, 22)), \n",
    "            nn.ConvTranspose2d(64, 32, kernel_size=3),  \n",
    "            nn.ReLU(),\n",
    "            nn.ConvTranspose2d(32, 16, kernel_size=3), \n",
    "            nn.ReLU(),\n",
    "            nn.ConvTranspose2d(16, 1, kernel_size=3), \n",
    "            nn.Tanh()  \n",
    "        )\n",
    "\n",
    "    def forward(self, x):\n",
    "        x = self.encoder(x)\n",
    "        x = self.decoder(x)\n",
    "        return x\n",
    "\n",
    "class EarlyStopping:\n",
    "    def __init__(self, patience=5, delta=0, path='checkpoint.pt'):\n",
    "        self.patience = patience\n",
    "        self.counter = 0\n",
    "        self.best_score = None\n",
    "        self.early_stop = False\n",
    "        self.delta = delta\n",
    "        self.path = path\n",
    "\n",
    "    def __call__(self, score, model):\n",
    "        if self.best_score is None:\n",
    "            self.best_score = score\n",
    "            self.save_checkpoint( model)\n",
    "        elif score < self.best_score - self.delta:\n",
    "            self.best_score = score\n",
    "            self.save_checkpoint(model)\n",
    "            self.counter = 0\n",
    "        else:\n",
    "            self.counter += 1\n",
    "            if self.counter >= self.patience:\n",
    "                self.early_stop = True\n",
    "\n",
    "    def save_checkpoint(self, model):\n",
    "        torch.save(model.state_dict(), self.path)\n"
   ]
  },
  {
   "cell_type": "code",
   "execution_count": 4,
   "id": "c12211bf-1d07-4b0e-820f-c451c0b9e5d6",
   "metadata": {},
   "outputs": [
    {
     "name": "stdout",
     "output_type": "stream",
     "text": [
      "Utilising cuda\n",
      "Training........\n"
     ]
    },
    {
     "name": "stderr",
     "output_type": "stream",
     "text": [
      "Epoch 0: 100%|████████████████████████████████████████████████████████████████████████████████████████████████████████████| 422/422 [00:23<00:00, 17.75it/s, loss=0.0202]\n"
     ]
    },
    {
     "name": "stdout",
     "output_type": "stream",
     "text": [
      "Epoch 0, Train Loss: 0.05667869297796375, Val Loss: 0.018767114728689194\n"
     ]
    },
    {
     "name": "stderr",
     "output_type": "stream",
     "text": [
      "Epoch 1: 100%|████████████████████████████████████████████████████████████████████████████████████████████████████████████| 422/422 [00:21<00:00, 19.41it/s, loss=0.0127]\n"
     ]
    },
    {
     "name": "stdout",
     "output_type": "stream",
     "text": [
      "Epoch 1, Train Loss: 0.014970353389626713, Val Loss: 0.012435706332325935\n"
     ]
    },
    {
     "name": "stderr",
     "output_type": "stream",
     "text": [
      "Epoch 2: 100%|███████████████████████████████████████████████████████████████████████████████████████████████████████████| 422/422 [00:21<00:00, 19.36it/s, loss=0.00959]\n"
     ]
    },
    {
     "name": "stdout",
     "output_type": "stream",
     "text": [
      "Epoch 2, Train Loss: 0.010669663190947608, Val Loss: 0.009481982327997684\n"
     ]
    },
    {
     "name": "stderr",
     "output_type": "stream",
     "text": [
      "Epoch 3: 100%|███████████████████████████████████████████████████████████████████████████████████████████████████████████| 422/422 [00:21<00:00, 19.48it/s, loss=0.00848]\n"
     ]
    },
    {
     "name": "stdout",
     "output_type": "stream",
     "text": [
      "Epoch 3, Train Loss: 0.009006980087131402, Val Loss: 0.008716662414371967\n"
     ]
    },
    {
     "name": "stderr",
     "output_type": "stream",
     "text": [
      "Epoch 4: 100%|███████████████████████████████████████████████████████████████████████████████████████████████████████████| 422/422 [00:21<00:00, 19.41it/s, loss=0.00887]\n"
     ]
    },
    {
     "name": "stdout",
     "output_type": "stream",
     "text": [
      "Epoch 4, Train Loss: 0.008230864500706371, Val Loss: 0.008342944085597992\n"
     ]
    },
    {
     "name": "stderr",
     "output_type": "stream",
     "text": [
      "Epoch 5: 100%|████████████████████████████████████████████████████████████████████████████████████████████████████████████| 422/422 [00:21<00:00, 19.39it/s, loss=0.0084]\n"
     ]
    },
    {
     "name": "stdout",
     "output_type": "stream",
     "text": [
      "Epoch 5, Train Loss: 0.007642961850928328, Val Loss: 0.008183023892343044\n"
     ]
    },
    {
     "name": "stderr",
     "output_type": "stream",
     "text": [
      "Epoch 6: 100%|███████████████████████████████████████████████████████████████████████████████████████████████████████████| 422/422 [00:21<00:00, 19.38it/s, loss=0.00714]\n"
     ]
    },
    {
     "name": "stdout",
     "output_type": "stream",
     "text": [
      "Epoch 6, Train Loss: 0.007206562558912906, Val Loss: 0.007320489268749952\n"
     ]
    },
    {
     "name": "stderr",
     "output_type": "stream",
     "text": [
      "Epoch 7: 100%|███████████████████████████████████████████████████████████████████████████████████████████████████████████| 422/422 [00:21<00:00, 19.41it/s, loss=0.00628]\n"
     ]
    },
    {
     "name": "stdout",
     "output_type": "stream",
     "text": [
      "Epoch 7, Train Loss: 0.006942616281280585, Val Loss: 0.006926373578608036\n"
     ]
    },
    {
     "name": "stderr",
     "output_type": "stream",
     "text": [
      "Epoch 8: 100%|███████████████████████████████████████████████████████████████████████████████████████████████████████████| 422/422 [00:21<00:00, 19.50it/s, loss=0.00691]\n"
     ]
    },
    {
     "name": "stdout",
     "output_type": "stream",
     "text": [
      "Epoch 8, Train Loss: 0.006628131151852591, Val Loss: 0.007073782850056887\n"
     ]
    },
    {
     "name": "stderr",
     "output_type": "stream",
     "text": [
      "Epoch 9: 100%|███████████████████████████████████████████████████████████████████████████████████████████████████████████| 422/422 [00:21<00:00, 19.41it/s, loss=0.00634]\n"
     ]
    },
    {
     "name": "stdout",
     "output_type": "stream",
     "text": [
      "Epoch 9, Train Loss: 0.006363159376615879, Val Loss: 0.006920145358890295\n"
     ]
    },
    {
     "name": "stderr",
     "output_type": "stream",
     "text": [
      "Epoch 10: 100%|██████████████████████████████████████████████████████████████████████████████████████████████████████████| 422/422 [00:21<00:00, 19.41it/s, loss=0.00592]\n"
     ]
    },
    {
     "name": "stdout",
     "output_type": "stream",
     "text": [
      "Epoch 10, Train Loss: 0.006166587498754051, Val Loss: 0.006509554106742144\n"
     ]
    },
    {
     "name": "stderr",
     "output_type": "stream",
     "text": [
      "Epoch 11: 100%|██████████████████████████████████████████████████████████████████████████████████████████████████████████| 422/422 [00:21<00:00, 19.39it/s, loss=0.00624]\n"
     ]
    },
    {
     "name": "stdout",
     "output_type": "stream",
     "text": [
      "Epoch 11, Train Loss: 0.00596683374186757, Val Loss: 0.006368949078023434\n"
     ]
    },
    {
     "name": "stderr",
     "output_type": "stream",
     "text": [
      "Epoch 12: 100%|██████████████████████████████████████████████████████████████████████████████████████████████████████████| 422/422 [00:21<00:00, 19.40it/s, loss=0.00556]\n"
     ]
    },
    {
     "name": "stdout",
     "output_type": "stream",
     "text": [
      "Epoch 12, Train Loss: 0.0058302371365446335, Val Loss: 0.006285380106419325\n"
     ]
    },
    {
     "name": "stderr",
     "output_type": "stream",
     "text": [
      "Epoch 13: 100%|██████████████████████████████████████████████████████████████████████████████████████████████████████████| 422/422 [00:21<00:00, 19.40it/s, loss=0.00661]\n"
     ]
    },
    {
     "name": "stdout",
     "output_type": "stream",
     "text": [
      "Epoch 13, Train Loss: 0.0057279315040009845, Val Loss: 0.006241913419216871\n"
     ]
    },
    {
     "name": "stderr",
     "output_type": "stream",
     "text": [
      "Epoch 14: 100%|██████████████████████████████████████████████████████████████████████████████████████████████████████████| 422/422 [00:21<00:00, 19.37it/s, loss=0.00552]\n"
     ]
    },
    {
     "name": "stdout",
     "output_type": "stream",
     "text": [
      "Epoch 14, Train Loss: 0.005505483297375141, Val Loss: 0.005838149692863226\n"
     ]
    },
    {
     "name": "stderr",
     "output_type": "stream",
     "text": [
      "Epoch 15: 100%|██████████████████████████████████████████████████████████████████████████████████████████████████████████| 422/422 [00:21<00:00, 19.40it/s, loss=0.00531]\n"
     ]
    },
    {
     "name": "stdout",
     "output_type": "stream",
     "text": [
      "Epoch 15, Train Loss: 0.00534304848461637, Val Loss: 0.006081205327063799\n"
     ]
    },
    {
     "name": "stderr",
     "output_type": "stream",
     "text": [
      "Epoch 16: 100%|██████████████████████████████████████████████████████████████████████████████████████████████████████████| 422/422 [00:21<00:00, 19.51it/s, loss=0.00504]\n"
     ]
    },
    {
     "name": "stdout",
     "output_type": "stream",
     "text": [
      "Epoch 16, Train Loss: 0.005228176345536706, Val Loss: 0.00583655945956707\n"
     ]
    },
    {
     "name": "stderr",
     "output_type": "stream",
     "text": [
      "Epoch 17: 100%|██████████████████████████████████████████████████████████████████████████████████████████████████████████| 422/422 [00:21<00:00, 19.41it/s, loss=0.00545]\n"
     ]
    },
    {
     "name": "stdout",
     "output_type": "stream",
     "text": [
      "Epoch 17, Train Loss: 0.005106245206174621, Val Loss: 0.005570956040173769\n"
     ]
    },
    {
     "name": "stderr",
     "output_type": "stream",
     "text": [
      "Epoch 18: 100%|██████████████████████████████████████████████████████████████████████████████████████████████████████████| 422/422 [00:21<00:00, 19.48it/s, loss=0.00487]\n"
     ]
    },
    {
     "name": "stdout",
     "output_type": "stream",
     "text": [
      "Epoch 18, Train Loss: 0.0049640234036733046, Val Loss: 0.00564075680449605\n"
     ]
    },
    {
     "name": "stderr",
     "output_type": "stream",
     "text": [
      "Epoch 19: 100%|██████████████████████████████████████████████████████████████████████████████████████████████████████████| 422/422 [00:21<00:00, 19.55it/s, loss=0.00534]\n"
     ]
    },
    {
     "name": "stdout",
     "output_type": "stream",
     "text": [
      "Epoch 19, Train Loss: 0.004904931455285628, Val Loss: 0.005637903697788715\n"
     ]
    },
    {
     "name": "stderr",
     "output_type": "stream",
     "text": [
      "Epoch 20: 100%|██████████████████████████████████████████████████████████████████████████████████████████████████████████| 422/422 [00:21<00:00, 19.56it/s, loss=0.00453]\n"
     ]
    },
    {
     "name": "stdout",
     "output_type": "stream",
     "text": [
      "Epoch 20, Train Loss: 0.004761103414864195, Val Loss: 0.005490321200340986\n"
     ]
    },
    {
     "name": "stderr",
     "output_type": "stream",
     "text": [
      "Epoch 21: 100%|██████████████████████████████████████████████████████████████████████████████████████████████████████████| 422/422 [00:21<00:00, 19.44it/s, loss=0.00446]\n"
     ]
    },
    {
     "name": "stdout",
     "output_type": "stream",
     "text": [
      "Epoch 21, Train Loss: 0.004685811840783434, Val Loss: 0.005396382417529821\n"
     ]
    },
    {
     "name": "stderr",
     "output_type": "stream",
     "text": [
      "Epoch 22: 100%|██████████████████████████████████████████████████████████████████████████████████████████████████████████| 422/422 [00:21<00:00, 19.42it/s, loss=0.00481]\n"
     ]
    },
    {
     "name": "stdout",
     "output_type": "stream",
     "text": [
      "Epoch 22, Train Loss: 0.004598074541890649, Val Loss: 0.005356787703931332\n"
     ]
    },
    {
     "name": "stderr",
     "output_type": "stream",
     "text": [
      "Epoch 23: 100%|██████████████████████████████████████████████████████████████████████████████████████████████████████████| 422/422 [00:21<00:00, 19.41it/s, loss=0.00419]\n"
     ]
    },
    {
     "name": "stdout",
     "output_type": "stream",
     "text": [
      "Epoch 23, Train Loss: 0.004537867837898892, Val Loss: 0.005385107826441526\n"
     ]
    },
    {
     "name": "stderr",
     "output_type": "stream",
     "text": [
      "Epoch 24: 100%|██████████████████████████████████████████████████████████████████████████████████████████████████████████| 422/422 [00:21<00:00, 19.49it/s, loss=0.00453]\n"
     ]
    },
    {
     "name": "stdout",
     "output_type": "stream",
     "text": [
      "Epoch 24, Train Loss: 0.004432540208154239, Val Loss: 0.005392236169427633\n",
      "Best val loss is tensor(0.0054, device='cuda:0')\n"
     ]
    }
   ],
   "source": [
    "model = Autoencoder()\n",
    "loss_fn = criterion = nn.MSELoss()\n",
    "optimizer = torch.optim.Adam(model.parameters(), lr=1e-3)\n",
    "# optimizer = optim.SGD(model.parameters(), lr=0.001, momentum=0.9)\n",
    "\n",
    "device = \"cuda\" if torch.cuda.is_available() else \"cpu\"\n",
    "print(\"Utilising\",device)\n",
    "model = model.to(device)\n",
    "model_path = 'models/ae.pt'\n",
    "early_stopping = EarlyStopping(patience=5, path=model_path)\n",
    "\n",
    "print(\"Training........\")\n",
    "for epoch_num in range(25):\n",
    "    model.train()\n",
    "    epoch_loss = 0\n",
    "    progress_bar = tqdm(train_loader, desc=f\"Epoch {epoch_num}\", total=len(train_loader))\n",
    "\n",
    "    for batch_num, (input, labels) in enumerate(progress_bar):\n",
    "        (input, labels) = (input.to(device), labels.to(device))\n",
    "        pred = model(input)\n",
    "        loss = loss_fn(pred, input)\n",
    "        loss.backward()\n",
    "        optimizer.step()\n",
    "        optimizer.zero_grad()\n",
    "        epoch_loss += loss.item()\n",
    "        progress_bar.set_postfix({'loss': loss.item()})\n",
    "\n",
    "    epoch_loss /= len(train_loader)\n",
    "    model.eval()\n",
    "\n",
    "    with torch.no_grad():\n",
    "        val_loss = 0\n",
    "        for batch_num, (input, labels) in enumerate(val_loader):\n",
    "            (input, labels) = (input.to(device), labels.to(device))\n",
    "            pred = model(input)\n",
    "            val_loss += loss_fn(pred, input)\n",
    "        val_loss /= len(val_loader)\n",
    "\n",
    "    if epoch_num % 1 == 0:\n",
    "        print(f\"Epoch {epoch_num}, Train Loss: {epoch_loss}, Val Loss: {val_loss}\")\n",
    "\n",
    "    early_stopping(val_loss, model)\n",
    "    if early_stopping.early_stop:\n",
    "        print(\"Early stopping....\")\n",
    "        break\n",
    "print(\"Best val loss is\",early_stopping.best_score)"
   ]
  },
  {
   "cell_type": "code",
   "execution_count": 8,
   "id": "1e6e80c4-9ec3-45bb-896e-8203769f2643",
   "metadata": {},
   "outputs": [
    {
     "name": "stdout",
     "output_type": "stream",
     "text": [
      "Utilising cuda\n"
     ]
    },
    {
     "name": "stderr",
     "output_type": "stream",
     "text": [
      "100%|████████████████████████████████████████████████████████████████████████████████████████████████████████████████████████████████████| 79/79 [00:04<00:00, 19.47it/s]"
     ]
    },
    {
     "name": "stdout",
     "output_type": "stream",
     "text": [
      "0.9877505\n"
     ]
    },
    {
     "name": "stderr",
     "output_type": "stream",
     "text": [
      "\n"
     ]
    }
   ],
   "source": [
    "model = Autoencoder()\n",
    "device = \"cuda\" if torch.cuda.is_available() else \"cpu\"\n",
    "print(\"Utilising\",device)\n",
    "model = model.to(device)\n",
    "model_path = 'models/ae.pt'\n",
    "state_dict = torch.load(model_path)\n",
    "model.load_state_dict(state_dict)\n",
    "model.eval()\n",
    "\n",
    "ssim_scores = []\n",
    "with torch.no_grad():\n",
    "    for input_images, _ in tqdm(test_loader):\n",
    "        input_images = input_images.to(device)\n",
    "        output_images = model(input_images)\n",
    "        input_images_np = input_images.permute(0, 2, 3, 1).cpu().numpy()\n",
    "        output_images_np = output_images.permute(0, 2, 3, 1).cpu().numpy()\n",
    "        batch_ssim_scores = ssim(input_images_np, output_images_np, data_range=output_images_np.max() - output_images_np.min(),channel_axis=-1)\n",
    "        ssim_scores.append(batch_ssim_scores)\n",
    "ssim_temp = np.mean(ssim_scores)\n",
    "print(ssim_temp)"
   ]
  },
  {
   "cell_type": "markdown",
   "id": "ee1b4453-ac0b-41cd-b011-64171f98df0a",
   "metadata": {},
   "source": [
    "# Result\n",
    "Similarity score for base Auto encoder model is 0.98"
   ]
  },
  {
   "cell_type": "markdown",
   "id": "28186ad8-bfc4-48f6-9c3e-23c9e26efe4d",
   "metadata": {},
   "source": [
    "# Auto encoder with gaussian noise images"
   ]
  },
  {
   "cell_type": "code",
   "execution_count": 9,
   "id": "8732678b-2e25-418f-b008-c383a367b7b5",
   "metadata": {},
   "outputs": [],
   "source": [
    "def add_gaussian_noise(images, sigma):\n",
    "    noise = np.random.normal(loc=0, scale=sigma, size=images.shape)\n",
    "    noisy_images = images + noise\n",
    "    noisy_images = np.clip(noisy_images, 0, 1)  \n",
    "    return noisy_images"
   ]
  },
  {
   "cell_type": "code",
   "execution_count": 10,
   "id": "3ccb6b32-5c7e-450b-ad17-fcacded1b48b",
   "metadata": {},
   "outputs": [
    {
     "name": "stdout",
     "output_type": "stream",
     "text": [
      "Training with noisgy data, sigma =0.25\n",
      "Utilising cuda\n",
      "Adding gaussian noise\n",
      "Training........\n"
     ]
    },
    {
     "name": "stderr",
     "output_type": "stream",
     "text": [
      "Epoch 0: 100%|███████████████████████████████████████████████████████████████████████████████████████████████████████████| 422/422 [00:07<00:00, 57.24it/s, loss=0.00902]\n"
     ]
    },
    {
     "name": "stdout",
     "output_type": "stream",
     "text": [
      "Epoch 0, Train Loss: 0.017592732042021237, Val Loss: 0.008796132169663906\n"
     ]
    },
    {
     "name": "stderr",
     "output_type": "stream",
     "text": [
      "Epoch 1: 100%|███████████████████████████████████████████████████████████████████████████████████████████████████████████| 422/422 [00:07<00:00, 58.17it/s, loss=0.00693]\n"
     ]
    },
    {
     "name": "stdout",
     "output_type": "stream",
     "text": [
      "Epoch 1, Train Loss: 0.007720148225063326, Val Loss: 0.006976762320846319\n"
     ]
    },
    {
     "name": "stderr",
     "output_type": "stream",
     "text": [
      "Epoch 2: 100%|███████████████████████████████████████████████████████████████████████████████████████████████████████████| 422/422 [00:07<00:00, 59.01it/s, loss=0.00615]\n"
     ]
    },
    {
     "name": "stdout",
     "output_type": "stream",
     "text": [
      "Epoch 2, Train Loss: 0.006634387613596368, Val Loss: 0.0065934136509895325\n"
     ]
    },
    {
     "name": "stderr",
     "output_type": "stream",
     "text": [
      "Epoch 3: 100%|███████████████████████████████████████████████████████████████████████████████████████████████████████████| 422/422 [00:07<00:00, 57.60it/s, loss=0.00589]\n"
     ]
    },
    {
     "name": "stdout",
     "output_type": "stream",
     "text": [
      "Epoch 3, Train Loss: 0.006140648391786345, Val Loss: 0.005989500787109137\n"
     ]
    },
    {
     "name": "stderr",
     "output_type": "stream",
     "text": [
      "Epoch 4: 100%|███████████████████████████████████████████████████████████████████████████████████████████████████████████| 422/422 [00:07<00:00, 57.97it/s, loss=0.00546]\n"
     ]
    },
    {
     "name": "stdout",
     "output_type": "stream",
     "text": [
      "Epoch 4, Train Loss: 0.00582212295440595, Val Loss: 0.005937919951975346\n"
     ]
    },
    {
     "name": "stderr",
     "output_type": "stream",
     "text": [
      "Epoch 5: 100%|███████████████████████████████████████████████████████████████████████████████████████████████████████████| 422/422 [00:07<00:00, 57.42it/s, loss=0.00553]\n"
     ]
    },
    {
     "name": "stdout",
     "output_type": "stream",
     "text": [
      "Epoch 5, Train Loss: 0.0056296536164861435, Val Loss: 0.005657604895532131\n"
     ]
    },
    {
     "name": "stderr",
     "output_type": "stream",
     "text": [
      "Epoch 6: 100%|███████████████████████████████████████████████████████████████████████████████████████████████████████████| 422/422 [00:07<00:00, 57.56it/s, loss=0.00522]\n"
     ]
    },
    {
     "name": "stdout",
     "output_type": "stream",
     "text": [
      "Epoch 6, Train Loss: 0.005476457585461473, Val Loss: 0.005590980872511864\n"
     ]
    },
    {
     "name": "stderr",
     "output_type": "stream",
     "text": [
      "Epoch 7: 100%|███████████████████████████████████████████████████████████████████████████████████████████████████████████| 422/422 [00:07<00:00, 57.35it/s, loss=0.00505]\n"
     ]
    },
    {
     "name": "stdout",
     "output_type": "stream",
     "text": [
      "Epoch 7, Train Loss: 0.005347857699769227, Val Loss: 0.0057270037941634655\n"
     ]
    },
    {
     "name": "stderr",
     "output_type": "stream",
     "text": [
      "Epoch 8: 100%|████████████████████████████████████████████████████████████████████████████████████████████████████████████| 422/422 [00:07<00:00, 57.59it/s, loss=0.0049]\n"
     ]
    },
    {
     "name": "stdout",
     "output_type": "stream",
     "text": [
      "Epoch 8, Train Loss: 0.0052350610869790985, Val Loss: 0.0053712185472249985\n"
     ]
    },
    {
     "name": "stderr",
     "output_type": "stream",
     "text": [
      "Epoch 9: 100%|███████████████████████████████████████████████████████████████████████████████████████████████████████████| 422/422 [00:07<00:00, 57.58it/s, loss=0.00494]\n"
     ]
    },
    {
     "name": "stdout",
     "output_type": "stream",
     "text": [
      "Epoch 9, Train Loss: 0.005150424829635646, Val Loss: 0.005442766938358545\n"
     ]
    },
    {
     "name": "stderr",
     "output_type": "stream",
     "text": [
      "Epoch 10: 100%|██████████████████████████████████████████████████████████████████████████████████████████████████████████| 422/422 [00:07<00:00, 57.57it/s, loss=0.00482]\n"
     ]
    },
    {
     "name": "stdout",
     "output_type": "stream",
     "text": [
      "Epoch 10, Train Loss: 0.005048190683823838, Val Loss: 0.005569737870246172\n"
     ]
    },
    {
     "name": "stderr",
     "output_type": "stream",
     "text": [
      "Epoch 11: 100%|██████████████████████████████████████████████████████████████████████████████████████████████████████████| 422/422 [00:07<00:00, 57.57it/s, loss=0.00489]\n"
     ]
    },
    {
     "name": "stdout",
     "output_type": "stream",
     "text": [
      "Epoch 11, Train Loss: 0.005011324044670115, Val Loss: 0.005340599920600653\n"
     ]
    },
    {
     "name": "stderr",
     "output_type": "stream",
     "text": [
      "Epoch 12: 100%|██████████████████████████████████████████████████████████████████████████████████████████████████████████| 422/422 [00:07<00:00, 57.59it/s, loss=0.00455]\n"
     ]
    },
    {
     "name": "stdout",
     "output_type": "stream",
     "text": [
      "Epoch 12, Train Loss: 0.0049638423342610845, Val Loss: 0.0055768247693777084\n"
     ]
    },
    {
     "name": "stderr",
     "output_type": "stream",
     "text": [
      "Epoch 13: 100%|██████████████████████████████████████████████████████████████████████████████████████████████████████████| 422/422 [00:07<00:00, 57.29it/s, loss=0.00448]\n"
     ]
    },
    {
     "name": "stdout",
     "output_type": "stream",
     "text": [
      "Epoch 13, Train Loss: 0.00489876241648296, Val Loss: 0.0055013252422213554\n"
     ]
    },
    {
     "name": "stderr",
     "output_type": "stream",
     "text": [
      "Epoch 14: 100%|██████████████████████████████████████████████████████████████████████████████████████████████████████████| 422/422 [00:07<00:00, 57.36it/s, loss=0.00493]\n"
     ]
    },
    {
     "name": "stdout",
     "output_type": "stream",
     "text": [
      "Epoch 14, Train Loss: 0.004873540260171368, Val Loss: 0.005289773922413588\n"
     ]
    },
    {
     "name": "stderr",
     "output_type": "stream",
     "text": [
      "Epoch 15: 100%|██████████████████████████████████████████████████████████████████████████████████████████████████████████| 422/422 [00:07<00:00, 57.05it/s, loss=0.00476]\n"
     ]
    },
    {
     "name": "stdout",
     "output_type": "stream",
     "text": [
      "Epoch 15, Train Loss: 0.004808588985185982, Val Loss: 0.005606676451861858\n"
     ]
    },
    {
     "name": "stderr",
     "output_type": "stream",
     "text": [
      "Epoch 16: 100%|██████████████████████████████████████████████████████████████████████████████████████████████████████████| 422/422 [00:07<00:00, 57.23it/s, loss=0.00445]\n"
     ]
    },
    {
     "name": "stdout",
     "output_type": "stream",
     "text": [
      "Epoch 16, Train Loss: 0.004763583360257519, Val Loss: 0.005526203196495771\n"
     ]
    },
    {
     "name": "stderr",
     "output_type": "stream",
     "text": [
      "Epoch 17: 100%|██████████████████████████████████████████████████████████████████████████████████████████████████████████| 422/422 [00:07<00:00, 57.60it/s, loss=0.00449]\n"
     ]
    },
    {
     "name": "stdout",
     "output_type": "stream",
     "text": [
      "Epoch 17, Train Loss: 0.004749780519693313, Val Loss: 0.005300593096762896\n"
     ]
    },
    {
     "name": "stderr",
     "output_type": "stream",
     "text": [
      "Epoch 18: 100%|███████████████████████████████████████████████████████████████████████████████████████████████████████████| 422/422 [00:07<00:00, 59.29it/s, loss=0.0043]\n"
     ]
    },
    {
     "name": "stdout",
     "output_type": "stream",
     "text": [
      "Epoch 18, Train Loss: 0.004753916574006468, Val Loss: 0.005284844897687435\n"
     ]
    },
    {
     "name": "stderr",
     "output_type": "stream",
     "text": [
      "Epoch 19: 100%|██████████████████████████████████████████████████████████████████████████████████████████████████████████| 422/422 [00:07<00:00, 59.26it/s, loss=0.00434]\n"
     ]
    },
    {
     "name": "stdout",
     "output_type": "stream",
     "text": [
      "Epoch 19, Train Loss: 0.00469564019936309, Val Loss: 0.005195452831685543\n",
      "Best val loss is tensor(0.0052, device='cuda:0')\n",
      "Training with noisgy data, sigma =0.5\n",
      "Utilising cuda\n",
      "Adding gaussian noise\n",
      "Training........\n"
     ]
    },
    {
     "name": "stderr",
     "output_type": "stream",
     "text": [
      "Epoch 0: 100%|████████████████████████████████████████████████████████████████████████████████████████████████████████████| 422/422 [00:07<00:00, 57.70it/s, loss=0.0267]\n"
     ]
    },
    {
     "name": "stdout",
     "output_type": "stream",
     "text": [
      "Epoch 0, Train Loss: 0.0348489405278346, Val Loss: 0.026557087898254395\n"
     ]
    },
    {
     "name": "stderr",
     "output_type": "stream",
     "text": [
      "Epoch 1: 100%|████████████████████████████████████████████████████████████████████████████████████████████████████████████| 422/422 [00:07<00:00, 58.37it/s, loss=0.0243]\n"
     ]
    },
    {
     "name": "stdout",
     "output_type": "stream",
     "text": [
      "Epoch 1, Train Loss: 0.02536985606961482, Val Loss: 0.024235200136899948\n"
     ]
    },
    {
     "name": "stderr",
     "output_type": "stream",
     "text": [
      "Epoch 2: 100%|████████████████████████████████████████████████████████████████████████████████████████████████████████████| 422/422 [00:07<00:00, 57.81it/s, loss=0.0232]\n"
     ]
    },
    {
     "name": "stdout",
     "output_type": "stream",
     "text": [
      "Epoch 2, Train Loss: 0.023778398402070546, Val Loss: 0.023178229108452797\n"
     ]
    },
    {
     "name": "stderr",
     "output_type": "stream",
     "text": [
      "Epoch 3: 100%|████████████████████████████████████████████████████████████████████████████████████████████████████████████| 422/422 [00:07<00:00, 58.42it/s, loss=0.0226]\n"
     ]
    },
    {
     "name": "stdout",
     "output_type": "stream",
     "text": [
      "Epoch 3, Train Loss: 0.02291632720856305, Val Loss: 0.022682365030050278\n"
     ]
    },
    {
     "name": "stderr",
     "output_type": "stream",
     "text": [
      "Epoch 4: 100%|████████████████████████████████████████████████████████████████████████████████████████████████████████████| 422/422 [00:07<00:00, 57.77it/s, loss=0.0221]\n"
     ]
    },
    {
     "name": "stdout",
     "output_type": "stream",
     "text": [
      "Epoch 4, Train Loss: 0.022356512276588174, Val Loss: 0.022308126091957092\n"
     ]
    },
    {
     "name": "stderr",
     "output_type": "stream",
     "text": [
      "Epoch 5: 100%|████████████████████████████████████████████████████████████████████████████████████████████████████████████| 422/422 [00:07<00:00, 57.77it/s, loss=0.0218]\n"
     ]
    },
    {
     "name": "stdout",
     "output_type": "stream",
     "text": [
      "Epoch 5, Train Loss: 0.021985935047268867, Val Loss: 0.022277014330029488\n"
     ]
    },
    {
     "name": "stderr",
     "output_type": "stream",
     "text": [
      "Epoch 6: 100%|████████████████████████████████████████████████████████████████████████████████████████████████████████████| 422/422 [00:07<00:00, 57.97it/s, loss=0.0214]\n"
     ]
    },
    {
     "name": "stdout",
     "output_type": "stream",
     "text": [
      "Epoch 6, Train Loss: 0.02174423649130274, Val Loss: 0.021800504997372627\n"
     ]
    },
    {
     "name": "stderr",
     "output_type": "stream",
     "text": [
      "Epoch 7: 100%|████████████████████████████████████████████████████████████████████████████████████████████████████████████| 422/422 [00:07<00:00, 59.30it/s, loss=0.0212]\n"
     ]
    },
    {
     "name": "stdout",
     "output_type": "stream",
     "text": [
      "Epoch 7, Train Loss: 0.021458504081513927, Val Loss: 0.021676285192370415\n"
     ]
    },
    {
     "name": "stderr",
     "output_type": "stream",
     "text": [
      "Epoch 8: 100%|█████████████████████████████████████████████████████████████████████████████████████████████████████████████| 422/422 [00:07<00:00, 59.26it/s, loss=0.021]\n"
     ]
    },
    {
     "name": "stdout",
     "output_type": "stream",
     "text": [
      "Epoch 8, Train Loss: 0.021227329664850404, Val Loss: 0.02155005931854248\n"
     ]
    },
    {
     "name": "stderr",
     "output_type": "stream",
     "text": [
      "Epoch 9: 100%|████████████████████████████████████████████████████████████████████████████████████████████████████████████| 422/422 [00:07<00:00, 58.29it/s, loss=0.0209]\n"
     ]
    },
    {
     "name": "stdout",
     "output_type": "stream",
     "text": [
      "Epoch 9, Train Loss: 0.021036088131191608, Val Loss: 0.021431123837828636\n"
     ]
    },
    {
     "name": "stderr",
     "output_type": "stream",
     "text": [
      "Epoch 10: 100%|███████████████████████████████████████████████████████████████████████████████████████████████████████████| 422/422 [00:07<00:00, 57.14it/s, loss=0.0209]\n"
     ]
    },
    {
     "name": "stdout",
     "output_type": "stream",
     "text": [
      "Epoch 10, Train Loss: 0.020906657611695228, Val Loss: 0.021349430084228516\n"
     ]
    },
    {
     "name": "stderr",
     "output_type": "stream",
     "text": [
      "Epoch 11: 100%|███████████████████████████████████████████████████████████████████████████████████████████████████████████| 422/422 [00:07<00:00, 57.61it/s, loss=0.0207]\n"
     ]
    },
    {
     "name": "stdout",
     "output_type": "stream",
     "text": [
      "Epoch 11, Train Loss: 0.020911583716658903, Val Loss: 0.02123541384935379\n"
     ]
    },
    {
     "name": "stderr",
     "output_type": "stream",
     "text": [
      "Epoch 12: 100%|███████████████████████████████████████████████████████████████████████████████████████████████████████████| 422/422 [00:07<00:00, 57.56it/s, loss=0.0205]\n"
     ]
    },
    {
     "name": "stdout",
     "output_type": "stream",
     "text": [
      "Epoch 12, Train Loss: 0.02080968641609801, Val Loss: 0.02130040153861046\n"
     ]
    },
    {
     "name": "stderr",
     "output_type": "stream",
     "text": [
      "Epoch 13: 100%|███████████████████████████████████████████████████████████████████████████████████████████████████████████| 422/422 [00:07<00:00, 57.42it/s, loss=0.0204]\n"
     ]
    },
    {
     "name": "stdout",
     "output_type": "stream",
     "text": [
      "Epoch 13, Train Loss: 0.020622617022191744, Val Loss: 0.021164651960134506\n"
     ]
    },
    {
     "name": "stderr",
     "output_type": "stream",
     "text": [
      "Epoch 14: 100%|███████████████████████████████████████████████████████████████████████████████████████████████████████████| 422/422 [00:07<00:00, 57.20it/s, loss=0.0203]\n"
     ]
    },
    {
     "name": "stdout",
     "output_type": "stream",
     "text": [
      "Epoch 14, Train Loss: 0.020452229526794354, Val Loss: 0.02105886861681938\n"
     ]
    },
    {
     "name": "stderr",
     "output_type": "stream",
     "text": [
      "Epoch 15: 100%|███████████████████████████████████████████████████████████████████████████████████████████████████████████| 422/422 [00:07<00:00, 57.20it/s, loss=0.0202]\n"
     ]
    },
    {
     "name": "stdout",
     "output_type": "stream",
     "text": [
      "Epoch 15, Train Loss: 0.02030465586808338, Val Loss: 0.021032409742474556\n"
     ]
    },
    {
     "name": "stderr",
     "output_type": "stream",
     "text": [
      "Epoch 16: 100%|█████████████████████████████████████████████████████████████████████████████████████████████████████████████| 422/422 [00:07<00:00, 57.12it/s, loss=0.02]\n"
     ]
    },
    {
     "name": "stdout",
     "output_type": "stream",
     "text": [
      "Epoch 16, Train Loss: 0.02017752420139539, Val Loss: 0.021002531051635742\n"
     ]
    },
    {
     "name": "stderr",
     "output_type": "stream",
     "text": [
      "Epoch 17: 100%|█████████████████████████████████████████████████████████████████████████████████████████████████████████████| 422/422 [00:07<00:00, 57.62it/s, loss=0.02]\n"
     ]
    },
    {
     "name": "stdout",
     "output_type": "stream",
     "text": [
      "Epoch 17, Train Loss: 0.02010816698496658, Val Loss: 0.021000269800424576\n"
     ]
    },
    {
     "name": "stderr",
     "output_type": "stream",
     "text": [
      "Epoch 18: 100%|█████████████████████████████████████████████████████████████████████████████████████████████████████████████| 422/422 [00:07<00:00, 57.56it/s, loss=0.02]\n"
     ]
    },
    {
     "name": "stdout",
     "output_type": "stream",
     "text": [
      "Epoch 18, Train Loss: 0.020059667395260095, Val Loss: 0.020951740443706512\n"
     ]
    },
    {
     "name": "stderr",
     "output_type": "stream",
     "text": [
      "Epoch 19: 100%|███████████████████████████████████████████████████████████████████████████████████████████████████████████| 422/422 [00:07<00:00, 57.63it/s, loss=0.0199]\n"
     ]
    },
    {
     "name": "stdout",
     "output_type": "stream",
     "text": [
      "Epoch 19, Train Loss: 0.02001878745430171, Val Loss: 0.020970813930034637\n",
      "Best val loss is tensor(0.0210, device='cuda:0')\n",
      "Training with noisgy data, sigma =0.75\n",
      "Utilising cuda\n",
      "Adding gaussian noise\n",
      "Training........\n"
     ]
    },
    {
     "name": "stderr",
     "output_type": "stream",
     "text": [
      "Epoch 0: 100%|████████████████████████████████████████████████████████████████████████████████████████████████████████████| 422/422 [00:07<00:00, 57.49it/s, loss=0.0372]\n"
     ]
    },
    {
     "name": "stdout",
     "output_type": "stream",
     "text": [
      "Epoch 0, Train Loss: 0.04332340412477464, Val Loss: 0.035767920315265656\n"
     ]
    },
    {
     "name": "stderr",
     "output_type": "stream",
     "text": [
      "Epoch 1: 100%|████████████████████████████████████████████████████████████████████████████████████████████████████████████| 422/422 [00:07<00:00, 57.43it/s, loss=0.0358]\n"
     ]
    },
    {
     "name": "stdout",
     "output_type": "stream",
     "text": [
      "Epoch 1, Train Loss: 0.03519002729541318, Val Loss: 0.03442980349063873\n"
     ]
    },
    {
     "name": "stderr",
     "output_type": "stream",
     "text": [
      "Epoch 2: 100%|████████████████████████████████████████████████████████████████████████████████████████████████████████████| 422/422 [00:07<00:00, 57.49it/s, loss=0.0351]\n"
     ]
    },
    {
     "name": "stdout",
     "output_type": "stream",
     "text": [
      "Epoch 2, Train Loss: 0.034302217462122156, Val Loss: 0.03388630971312523\n"
     ]
    },
    {
     "name": "stderr",
     "output_type": "stream",
     "text": [
      "Epoch 3: 100%|████████████████████████████████████████████████████████████████████████████████████████████████████████████| 422/422 [00:07<00:00, 57.56it/s, loss=0.0348]\n"
     ]
    },
    {
     "name": "stdout",
     "output_type": "stream",
     "text": [
      "Epoch 3, Train Loss: 0.03379356091338876, Val Loss: 0.03411896526813507\n"
     ]
    },
    {
     "name": "stderr",
     "output_type": "stream",
     "text": [
      "Epoch 4: 100%|████████████████████████████████████████████████████████████████████████████████████████████████████████████| 422/422 [00:07<00:00, 57.57it/s, loss=0.0344]\n"
     ]
    },
    {
     "name": "stdout",
     "output_type": "stream",
     "text": [
      "Epoch 4, Train Loss: 0.033460494457474815, Val Loss: 0.03355775773525238\n"
     ]
    },
    {
     "name": "stderr",
     "output_type": "stream",
     "text": [
      "Epoch 5: 100%|█████████████████████████████████████████████████████████████████████████████████████████████████████████████| 422/422 [00:07<00:00, 57.22it/s, loss=0.034]\n"
     ]
    },
    {
     "name": "stdout",
     "output_type": "stream",
     "text": [
      "Epoch 5, Train Loss: 0.03320245153460458, Val Loss: 0.033315226435661316\n"
     ]
    },
    {
     "name": "stderr",
     "output_type": "stream",
     "text": [
      "Epoch 6: 100%|████████████████████████████████████████████████████████████████████████████████████████████████████████████| 422/422 [00:07<00:00, 57.33it/s, loss=0.0338]\n"
     ]
    },
    {
     "name": "stdout",
     "output_type": "stream",
     "text": [
      "Epoch 6, Train Loss: 0.03299396424179111, Val Loss: 0.033083993941545486\n"
     ]
    },
    {
     "name": "stderr",
     "output_type": "stream",
     "text": [
      "Epoch 7: 100%|████████████████████████████████████████████████████████████████████████████████████████████████████████████| 422/422 [00:07<00:00, 57.92it/s, loss=0.0338]\n"
     ]
    },
    {
     "name": "stdout",
     "output_type": "stream",
     "text": [
      "Epoch 7, Train Loss: 0.03283441968491716, Val Loss: 0.03309463709592819\n"
     ]
    },
    {
     "name": "stderr",
     "output_type": "stream",
     "text": [
      "Epoch 8: 100%|████████████████████████████████████████████████████████████████████████████████████████████████████████████| 422/422 [00:07<00:00, 57.43it/s, loss=0.0337]\n"
     ]
    },
    {
     "name": "stdout",
     "output_type": "stream",
     "text": [
      "Epoch 8, Train Loss: 0.03271711800000255, Val Loss: 0.03301987797021866\n"
     ]
    },
    {
     "name": "stderr",
     "output_type": "stream",
     "text": [
      "Epoch 9: 100%|████████████████████████████████████████████████████████████████████████████████████████████████████████████| 422/422 [00:07<00:00, 57.32it/s, loss=0.0337]\n"
     ]
    },
    {
     "name": "stdout",
     "output_type": "stream",
     "text": [
      "Epoch 9, Train Loss: 0.032624945574179644, Val Loss: 0.03306172043085098\n"
     ]
    },
    {
     "name": "stderr",
     "output_type": "stream",
     "text": [
      "Epoch 10: 100%|███████████████████████████████████████████████████████████████████████████████████████████████████████████| 422/422 [00:07<00:00, 57.70it/s, loss=0.0334]\n"
     ]
    },
    {
     "name": "stdout",
     "output_type": "stream",
     "text": [
      "Epoch 10, Train Loss: 0.032520282792889675, Val Loss: 0.03328833729028702\n"
     ]
    },
    {
     "name": "stderr",
     "output_type": "stream",
     "text": [
      "Epoch 11: 100%|███████████████████████████████████████████████████████████████████████████████████████████████████████████| 422/422 [00:07<00:00, 57.53it/s, loss=0.0334]\n"
     ]
    },
    {
     "name": "stdout",
     "output_type": "stream",
     "text": [
      "Epoch 11, Train Loss: 0.0324179617979374, Val Loss: 0.033071719110012054\n"
     ]
    },
    {
     "name": "stderr",
     "output_type": "stream",
     "text": [
      "Epoch 12: 100%|████████████████████████████████████████████████████████████████████████████████████████████████████████████| 422/422 [00:07<00:00, 57.58it/s, loss=0.033]\n"
     ]
    },
    {
     "name": "stdout",
     "output_type": "stream",
     "text": [
      "Epoch 12, Train Loss: 0.032363086872650264, Val Loss: 0.0332498699426651\n"
     ]
    },
    {
     "name": "stderr",
     "output_type": "stream",
     "text": [
      "Epoch 13: 100%|███████████████████████████████████████████████████████████████████████████████████████████████████████████| 422/422 [00:07<00:00, 57.79it/s, loss=0.0329]\n"
     ]
    },
    {
     "name": "stdout",
     "output_type": "stream",
     "text": [
      "Epoch 13, Train Loss: 0.03226183632927201, Val Loss: 0.033119793981313705\n",
      "Early stopping....\n",
      "Best val loss is tensor(0.0330, device='cuda:0')\n"
     ]
    }
   ],
   "source": [
    "sigmas = [0.25,0.5,0.75]\n",
    "for sigma in sigmas:\n",
    "    print(\"Training with noisgy data, sigma =\"+str(sigma))\n",
    "    model = Autoencoder()\n",
    "    loss_fn = criterion = nn.MSELoss()\n",
    "    optimizer = torch.optim.Adam(model.parameters(), lr=1e-3)\n",
    "    # optimizer = optim.SGD(model.parameters(), lr=0.001, momentum=0.9)\n",
    "    \n",
    "    device = \"cuda\" if torch.cuda.is_available() else \"cpu\"\n",
    "    print(\"Utilising\",device)\n",
    "    model = model.to(device)\n",
    "    model_path = 'models/ae_noise_'+str(sigma)+'.pt'\n",
    "    early_stopping = EarlyStopping(patience=5, path=model_path)\n",
    "\n",
    "    print(\"Adding gaussian noise\")\n",
    "    noisy_train_data = [(add_gaussian_noise(images.numpy(), sigma), labels) for images, labels in train_loader]\n",
    "    noisy_val_data = [(add_gaussian_noise(images.numpy(), sigma), labels) for images, labels in val_loader]\n",
    "    \n",
    "    print(\"Training........\")\n",
    "    for epoch_num in range(20):\n",
    "        model.train()\n",
    "        epoch_loss = 0\n",
    "      \n",
    "\n",
    "        progress_bar = tqdm(noisy_train_data, desc=f\"Epoch {epoch_num}\", total=len(train_loader))\n",
    "        for batch_num, (input, _) in enumerate(progress_bar):\n",
    "            input = torch.tensor(input).float()\n",
    "            input = input.to(device)\n",
    "            pred = model(input)\n",
    "            loss = loss_fn(pred, input)\n",
    "            loss.backward()\n",
    "            optimizer.step()\n",
    "            optimizer.zero_grad()\n",
    "            epoch_loss += loss.item()\n",
    "            progress_bar.set_postfix({'loss': loss.item()})\n",
    "    \n",
    "        epoch_loss /= len(train_loader)\n",
    "        model.eval()\n",
    "    \n",
    "        with torch.no_grad():\n",
    "            val_loss = 0\n",
    "            for batch_num, (input, labels) in enumerate(noisy_val_data):\n",
    "                input = torch.tensor(input).float()\n",
    "                (input, labels) = (input.to(device), labels.to(device))\n",
    "                pred = model(input)\n",
    "                val_loss += loss_fn(pred, input)\n",
    "            val_loss /= len(val_loader)\n",
    "    \n",
    "        if epoch_num % 1 == 0:\n",
    "            print(f\"Epoch {epoch_num}, Train Loss: {epoch_loss}, Val Loss: {val_loss}\")\n",
    "    \n",
    "        early_stopping(val_loss, model)\n",
    "        if early_stopping.early_stop:\n",
    "            print(\"Early stopping....\")\n",
    "            break\n",
    "    print(\"Best val loss is\",early_stopping.best_score)"
   ]
  },
  {
   "cell_type": "code",
   "execution_count": 11,
   "id": "79559d87-67bc-450d-9333-0cbe2f93b424",
   "metadata": {},
   "outputs": [
    {
     "name": "stdout",
     "output_type": "stream",
     "text": [
      "Testing with sigma= 0.25\n",
      "Adding gaussian noise\n",
      "Utilising cuda\n"
     ]
    },
    {
     "name": "stderr",
     "output_type": "stream",
     "text": [
      "100%|████████████████████████████████████████████████████████████████████████████████████████████████████████████████████████████████████| 79/79 [00:01<00:00, 57.24it/s]\n"
     ]
    },
    {
     "name": "stdout",
     "output_type": "stream",
     "text": [
      "Testing with sigma= 0.5\n",
      "Adding gaussian noise\n",
      "Utilising cuda\n"
     ]
    },
    {
     "name": "stderr",
     "output_type": "stream",
     "text": [
      "100%|████████████████████████████████████████████████████████████████████████████████████████████████████████████████████████████████████| 79/79 [00:01<00:00, 56.52it/s]\n"
     ]
    },
    {
     "name": "stdout",
     "output_type": "stream",
     "text": [
      "Testing with sigma= 0.75\n",
      "Adding gaussian noise\n",
      "Utilising cuda\n"
     ]
    },
    {
     "name": "stderr",
     "output_type": "stream",
     "text": [
      "100%|████████████████████████████████████████████████████████████████████████████████████████████████████████████████████████████████████| 79/79 [00:01<00:00, 55.89it/s]\n"
     ]
    }
   ],
   "source": [
    "sigmas = [0.25,0.5,0.75]\n",
    "avg_ssim = []\n",
    "for sigma in sigmas:\n",
    "    print(\"Testing with sigma=\",sigma)\n",
    "    model = Autoencoder()\n",
    "    print(\"Adding gaussian noise\")\n",
    "    noisy_test_data = [(add_gaussian_noise(images.numpy(), sigma), labels) for images, labels in test_loader]\n",
    "    \n",
    "    device = \"cuda\" if torch.cuda.is_available() else \"cpu\"\n",
    "    print(\"Utilising\",device)\n",
    "    model = model.to(device)\n",
    "    model_path = 'models/ae_noise_'+str(sigma)+'.pt'\n",
    "    state_dict = torch.load(model_path)\n",
    "    model.load_state_dict(state_dict)\n",
    "    model.eval()\n",
    "    \n",
    "    ssim_scores = []\n",
    "    with torch.no_grad():\n",
    "        for input_images, _ in tqdm(noisy_test_data):\n",
    "            input_images = torch.tensor(input_images).float()\n",
    "            input_images = input_images.to(device)\n",
    "            output_images = model(input_images)\n",
    "            input_images_np = input_images.permute(0, 2, 3, 1).cpu().numpy()\n",
    "            output_images_np = output_images.permute(0, 2, 3, 1).cpu().numpy()\n",
    "            batch_ssim_scores = ssim(input_images_np, output_images_np, data_range=output_images_np.max() - output_images_np.min(),channel_axis=-1)\n",
    "            ssim_scores.append(batch_ssim_scores)\n",
    "    ssim_temp = np.mean(ssim_scores)\n",
    "    avg_ssim.append(ssim_temp)\n",
    "    "
   ]
  },
  {
   "cell_type": "code",
   "execution_count": 12,
   "id": "e57072a4-8fa8-42c4-bf9a-e9782281f16e",
   "metadata": {},
   "outputs": [
    {
     "data": {
      "image/png": "[encoded data removed]",
      "text/plain": [
       "<Figure size 640x480 with 1 Axes>"
      ]
     },
     "metadata": {},
     "output_type": "display_data"
    }
   ],
   "source": [
    "import matplotlib.pyplot as plt\n",
    "plt.plot(sigmas, avg_ssim, marker='*')\n",
    "plt.xlabel('Sigma')\n",
    "plt.ylabel('Average SSIM Test Score')\n",
    "plt.title('Average SSIM Test Score vs. Sigma')\n",
    "plt.grid(True)\n",
    "plt.show()"
   ]
  },
  {
   "cell_type": "markdown",
   "id": "6766c72e-ae49-4d7a-bb3b-c4d4bf1ca088",
   "metadata": {},
   "source": [
    "# Observations\n",
    "1. As noise variance increases there is a drop in similairty score.\n",
    "2. As variance increases randomness increases in the data making it difficult for the model to learn, lesser the randomness higher the learning."
   ]
  },
  {
   "cell_type": "markdown",
   "id": "79b0eb2e-8021-4c1d-a766-cf297147ee19",
   "metadata": {},
   "source": [
    "# Autoencoder with different bottleneck dimensions"
   ]
  },
  {
   "cell_type": "code",
   "execution_count": 13,
   "id": "455a2201-0d7e-4f25-b399-f243bdff4d21",
   "metadata": {},
   "outputs": [
    {
     "name": "stdout",
     "output_type": "stream",
     "text": [
      "Adding gaussian noise\n",
      "Training with noisgy data, d=256\n",
      "Utilising cuda\n",
      "Training........\n"
     ]
    },
    {
     "name": "stderr",
     "output_type": "stream",
     "text": [
      "Epoch 0: 100%|███████████████████████████████████████████████████████████████████████████████████████████████████████████| 422/422 [00:09<00:00, 46.39it/s, loss=0.00701]\n"
     ]
    },
    {
     "name": "stdout",
     "output_type": "stream",
     "text": [
      "Epoch 0, Train Loss: 0.015421570898850242, Val Loss: 0.006745513062924147\n"
     ]
    },
    {
     "name": "stderr",
     "output_type": "stream",
     "text": [
      "Epoch 1: 100%|███████████████████████████████████████████████████████████████████████████████████████████████████████████| 422/422 [00:09<00:00, 46.39it/s, loss=0.00509]\n"
     ]
    },
    {
     "name": "stdout",
     "output_type": "stream",
     "text": [
      "Epoch 1, Train Loss: 0.005585604710327858, Val Loss: 0.004914213437587023\n"
     ]
    },
    {
     "name": "stderr",
     "output_type": "stream",
     "text": [
      "Epoch 2: 100%|████████████████████████████████████████████████████████████████████████████████████████████████████████████| 422/422 [00:09<00:00, 46.45it/s, loss=0.0039]\n"
     ]
    },
    {
     "name": "stdout",
     "output_type": "stream",
     "text": [
      "Epoch 2, Train Loss: 0.004279309744677414, Val Loss: 0.004099525976926088\n"
     ]
    },
    {
     "name": "stderr",
     "output_type": "stream",
     "text": [
      "Epoch 3: 100%|███████████████████████████████████████████████████████████████████████████████████████████████████████████| 422/422 [00:09<00:00, 46.36it/s, loss=0.00351]\n"
     ]
    },
    {
     "name": "stdout",
     "output_type": "stream",
     "text": [
      "Epoch 3, Train Loss: 0.0036865971431851176, Val Loss: 0.003639655653387308\n"
     ]
    },
    {
     "name": "stderr",
     "output_type": "stream",
     "text": [
      "Epoch 4: 100%|███████████████████████████████████████████████████████████████████████████████████████████████████████████| 422/422 [00:09<00:00, 46.37it/s, loss=0.00346]\n"
     ]
    },
    {
     "name": "stdout",
     "output_type": "stream",
     "text": [
      "Epoch 4, Train Loss: 0.0033498084298401224, Val Loss: 0.0032770968973636627\n"
     ]
    },
    {
     "name": "stderr",
     "output_type": "stream",
     "text": [
      "Epoch 5: 100%|███████████████████████████████████████████████████████████████████████████████████████████████████████████| 422/422 [00:09<00:00, 46.36it/s, loss=0.00308]\n"
     ]
    },
    {
     "name": "stdout",
     "output_type": "stream",
     "text": [
      "Epoch 5, Train Loss: 0.0031586536151131887, Val Loss: 0.0032840559724718332\n"
     ]
    },
    {
     "name": "stderr",
     "output_type": "stream",
     "text": [
      "Epoch 6: 100%|███████████████████████████████████████████████████████████████████████████████████████████████████████████| 422/422 [00:09<00:00, 46.48it/s, loss=0.00312]\n"
     ]
    },
    {
     "name": "stdout",
     "output_type": "stream",
     "text": [
      "Epoch 6, Train Loss: 0.003006593901355049, Val Loss: 0.0031349940691143274\n"
     ]
    },
    {
     "name": "stderr",
     "output_type": "stream",
     "text": [
      "Epoch 7: 100%|███████████████████████████████████████████████████████████████████████████████████████████████████████████| 422/422 [00:09<00:00, 46.46it/s, loss=0.00294]\n"
     ]
    },
    {
     "name": "stdout",
     "output_type": "stream",
     "text": [
      "Epoch 7, Train Loss: 0.0029286021296093816, Val Loss: 0.0031775617972016335\n"
     ]
    },
    {
     "name": "stderr",
     "output_type": "stream",
     "text": [
      "Epoch 8: 100%|███████████████████████████████████████████████████████████████████████████████████████████████████████████| 422/422 [00:09<00:00, 46.46it/s, loss=0.00291]\n"
     ]
    },
    {
     "name": "stdout",
     "output_type": "stream",
     "text": [
      "Epoch 8, Train Loss: 0.002821720638356538, Val Loss: 0.0030851587653160095\n"
     ]
    },
    {
     "name": "stderr",
     "output_type": "stream",
     "text": [
      "Epoch 9: 100%|███████████████████████████████████████████████████████████████████████████████████████████████████████████| 422/422 [00:08<00:00, 46.98it/s, loss=0.00298]\n"
     ]
    },
    {
     "name": "stdout",
     "output_type": "stream",
     "text": [
      "Epoch 9, Train Loss: 0.00278286144834771, Val Loss: 0.0029570655897259712\n"
     ]
    },
    {
     "name": "stderr",
     "output_type": "stream",
     "text": [
      "Epoch 10: 100%|███████████████████████████████████████████████████████████████████████████████████████████████████████████| 422/422 [00:09<00:00, 46.56it/s, loss=0.0027]\n"
     ]
    },
    {
     "name": "stdout",
     "output_type": "stream",
     "text": [
      "Epoch 10, Train Loss: 0.002718398054527622, Val Loss: 0.0029945874121040106\n"
     ]
    },
    {
     "name": "stderr",
     "output_type": "stream",
     "text": [
      "Epoch 11: 100%|██████████████████████████████████████████████████████████████████████████████████████████████████████████| 422/422 [00:09<00:00, 46.42it/s, loss=0.00252]\n"
     ]
    },
    {
     "name": "stdout",
     "output_type": "stream",
     "text": [
      "Epoch 11, Train Loss: 0.00263691518093808, Val Loss: 0.0028413082472980022\n"
     ]
    },
    {
     "name": "stderr",
     "output_type": "stream",
     "text": [
      "Epoch 12: 100%|██████████████████████████████████████████████████████████████████████████████████████████████████████████| 422/422 [00:09<00:00, 46.40it/s, loss=0.00256]\n"
     ]
    },
    {
     "name": "stdout",
     "output_type": "stream",
     "text": [
      "Epoch 12, Train Loss: 0.0025711736522650267, Val Loss: 0.002849370473995805\n"
     ]
    },
    {
     "name": "stderr",
     "output_type": "stream",
     "text": [
      "Epoch 13: 100%|███████████████████████████████████████████████████████████████████████████████████████████████████████████| 422/422 [00:09<00:00, 46.55it/s, loss=0.0025]\n"
     ]
    },
    {
     "name": "stdout",
     "output_type": "stream",
     "text": [
      "Epoch 13, Train Loss: 0.0025580962496408, Val Loss: 0.002949449932202697\n"
     ]
    },
    {
     "name": "stderr",
     "output_type": "stream",
     "text": [
      "Epoch 14: 100%|██████████████████████████████████████████████████████████████████████████████████████████████████████████| 422/422 [00:09<00:00, 46.10it/s, loss=0.00269]\n"
     ]
    },
    {
     "name": "stdout",
     "output_type": "stream",
     "text": [
      "Epoch 14, Train Loss: 0.0025301685510423933, Val Loss: 0.0028539958875626326\n"
     ]
    },
    {
     "name": "stderr",
     "output_type": "stream",
     "text": [
      "Epoch 15: 100%|██████████████████████████████████████████████████████████████████████████████████████████████████████████| 422/422 [00:09<00:00, 46.34it/s, loss=0.00274]\n"
     ]
    },
    {
     "name": "stdout",
     "output_type": "stream",
     "text": [
      "Epoch 15, Train Loss: 0.002469063531806013, Val Loss: 0.0029504483100026846\n"
     ]
    },
    {
     "name": "stderr",
     "output_type": "stream",
     "text": [
      "Epoch 16: 100%|███████████████████████████████████████████████████████████████████████████████████████████████████████████| 422/422 [00:09<00:00, 46.01it/s, loss=0.0027]\n"
     ]
    },
    {
     "name": "stdout",
     "output_type": "stream",
     "text": [
      "Epoch 16, Train Loss: 0.002424589049852325, Val Loss: 0.003141263034194708\n",
      "Early stopping....\n",
      "Best val loss is tensor(0.0028, device='cuda:0')\n",
      "Training with noisgy data, d=512\n",
      "Utilising cuda\n",
      "Training........\n"
     ]
    },
    {
     "name": "stderr",
     "output_type": "stream",
     "text": [
      "Epoch 0: 100%|███████████████████████████████████████████████████████████████████████████████████████████████████████████| 422/422 [00:12<00:00, 33.16it/s, loss=0.00643]\n"
     ]
    },
    {
     "name": "stdout",
     "output_type": "stream",
     "text": [
      "Epoch 0, Train Loss: 0.015612960113344882, Val Loss: 0.006202372256666422\n"
     ]
    },
    {
     "name": "stderr",
     "output_type": "stream",
     "text": [
      "Epoch 1: 100%|███████████████████████████████████████████████████████████████████████████████████████████████████████████| 422/422 [00:12<00:00, 33.07it/s, loss=0.00426]\n"
     ]
    },
    {
     "name": "stdout",
     "output_type": "stream",
     "text": [
      "Epoch 1, Train Loss: 0.005114527111343368, Val Loss: 0.00418202904984355\n"
     ]
    },
    {
     "name": "stderr",
     "output_type": "stream",
     "text": [
      "Epoch 2: 100%|███████████████████████████████████████████████████████████████████████████████████████████████████████████| 422/422 [00:12<00:00, 33.07it/s, loss=0.00355]\n"
     ]
    },
    {
     "name": "stdout",
     "output_type": "stream",
     "text": [
      "Epoch 2, Train Loss: 0.0038100211004951697, Val Loss: 0.0035868710838258266\n"
     ]
    },
    {
     "name": "stderr",
     "output_type": "stream",
     "text": [
      "Epoch 3: 100%|███████████████████████████████████████████████████████████████████████████████████████████████████████████| 422/422 [00:12<00:00, 33.09it/s, loss=0.00316]\n"
     ]
    },
    {
     "name": "stdout",
     "output_type": "stream",
     "text": [
      "Epoch 3, Train Loss: 0.0032072754585629956, Val Loss: 0.0030337045900523663\n"
     ]
    },
    {
     "name": "stderr",
     "output_type": "stream",
     "text": [
      "Epoch 4: 100%|███████████████████████████████████████████████████████████████████████████████████████████████████████████| 422/422 [00:12<00:00, 33.06it/s, loss=0.00268]\n"
     ]
    },
    {
     "name": "stdout",
     "output_type": "stream",
     "text": [
      "Epoch 4, Train Loss: 0.0028416111136199598, Val Loss: 0.003214666387066245\n"
     ]
    },
    {
     "name": "stderr",
     "output_type": "stream",
     "text": [
      "Epoch 5: 100%|███████████████████████████████████████████████████████████████████████████████████████████████████████████| 422/422 [00:12<00:00, 32.91it/s, loss=0.00275]\n"
     ]
    },
    {
     "name": "stdout",
     "output_type": "stream",
     "text": [
      "Epoch 5, Train Loss: 0.0026138092460711066, Val Loss: 0.002653659088537097\n"
     ]
    },
    {
     "name": "stderr",
     "output_type": "stream",
     "text": [
      "Epoch 6: 100%|███████████████████████████████████████████████████████████████████████████████████████████████████████████| 422/422 [00:12<00:00, 32.90it/s, loss=0.00229]\n"
     ]
    },
    {
     "name": "stdout",
     "output_type": "stream",
     "text": [
      "Epoch 6, Train Loss: 0.0024273057983552606, Val Loss: 0.002447495935484767\n"
     ]
    },
    {
     "name": "stderr",
     "output_type": "stream",
     "text": [
      "Epoch 7: 100%|███████████████████████████████████████████████████████████████████████████████████████████████████████████| 422/422 [00:12<00:00, 32.89it/s, loss=0.00228]\n"
     ]
    },
    {
     "name": "stdout",
     "output_type": "stream",
     "text": [
      "Epoch 7, Train Loss: 0.002311975025390915, Val Loss: 0.0025264816358685493\n"
     ]
    },
    {
     "name": "stderr",
     "output_type": "stream",
     "text": [
      "Epoch 8: 100%|███████████████████████████████████████████████████████████████████████████████████████████████████████████| 422/422 [00:12<00:00, 32.94it/s, loss=0.00233]\n"
     ]
    },
    {
     "name": "stdout",
     "output_type": "stream",
     "text": [
      "Epoch 8, Train Loss: 0.00222938414304451, Val Loss: 0.002342633670195937\n"
     ]
    },
    {
     "name": "stderr",
     "output_type": "stream",
     "text": [
      "Epoch 9: 100%|███████████████████████████████████████████████████████████████████████████████████████████████████████████| 422/422 [00:12<00:00, 32.89it/s, loss=0.00205]\n"
     ]
    },
    {
     "name": "stdout",
     "output_type": "stream",
     "text": [
      "Epoch 9, Train Loss: 0.002140408741272721, Val Loss: 0.002356013748794794\n"
     ]
    },
    {
     "name": "stderr",
     "output_type": "stream",
     "text": [
      "Epoch 10: 100%|██████████████████████████████████████████████████████████████████████████████████████████████████████████| 422/422 [00:12<00:00, 32.93it/s, loss=0.00219]\n"
     ]
    },
    {
     "name": "stdout",
     "output_type": "stream",
     "text": [
      "Epoch 10, Train Loss: 0.0020745721840414425, Val Loss: 0.002484031254425645\n"
     ]
    },
    {
     "name": "stderr",
     "output_type": "stream",
     "text": [
      "Epoch 11: 100%|██████████████████████████████████████████████████████████████████████████████████████████████████████████| 422/422 [00:12<00:00, 33.00it/s, loss=0.00211]\n"
     ]
    },
    {
     "name": "stdout",
     "output_type": "stream",
     "text": [
      "Epoch 11, Train Loss: 0.002017571675255718, Val Loss: 0.0024605761282145977\n"
     ]
    },
    {
     "name": "stderr",
     "output_type": "stream",
     "text": [
      "Epoch 12: 100%|██████████████████████████████████████████████████████████████████████████████████████████████████████████| 422/422 [00:12<00:00, 33.07it/s, loss=0.00215]\n"
     ]
    },
    {
     "name": "stdout",
     "output_type": "stream",
     "text": [
      "Epoch 12, Train Loss: 0.001980747711972744, Val Loss: 0.0023296214640140533\n"
     ]
    },
    {
     "name": "stderr",
     "output_type": "stream",
     "text": [
      "Epoch 13: 100%|██████████████████████████████████████████████████████████████████████████████████████████████████████████| 422/422 [00:12<00:00, 33.09it/s, loss=0.00196]\n"
     ]
    },
    {
     "name": "stdout",
     "output_type": "stream",
     "text": [
      "Epoch 13, Train Loss: 0.0019354184262423612, Val Loss: 0.002343570813536644\n"
     ]
    },
    {
     "name": "stderr",
     "output_type": "stream",
     "text": [
      "Epoch 14: 100%|██████████████████████████████████████████████████████████████████████████████████████████████████████████| 422/422 [00:12<00:00, 33.07it/s, loss=0.00205]\n"
     ]
    },
    {
     "name": "stdout",
     "output_type": "stream",
     "text": [
      "Epoch 14, Train Loss: 0.001896838395761423, Val Loss: 0.0024015503004193306\n"
     ]
    },
    {
     "name": "stderr",
     "output_type": "stream",
     "text": [
      "Epoch 15: 100%|██████████████████████████████████████████████████████████████████████████████████████████████████████████| 422/422 [00:12<00:00, 32.94it/s, loss=0.00181]\n"
     ]
    },
    {
     "name": "stdout",
     "output_type": "stream",
     "text": [
      "Epoch 15, Train Loss: 0.0018854573701720207, Val Loss: 0.002347724512219429\n"
     ]
    },
    {
     "name": "stderr",
     "output_type": "stream",
     "text": [
      "Epoch 16: 100%|██████████████████████████████████████████████████████████████████████████████████████████████████████████| 422/422 [00:12<00:00, 32.86it/s, loss=0.00181]\n"
     ]
    },
    {
     "name": "stdout",
     "output_type": "stream",
     "text": [
      "Epoch 16, Train Loss: 0.0018275119598747465, Val Loss: 0.0022816751152276993\n"
     ]
    },
    {
     "name": "stderr",
     "output_type": "stream",
     "text": [
      "Epoch 17: 100%|██████████████████████████████████████████████████████████████████████████████████████████████████████████| 422/422 [00:12<00:00, 32.82it/s, loss=0.00175]\n"
     ]
    },
    {
     "name": "stdout",
     "output_type": "stream",
     "text": [
      "Epoch 17, Train Loss: 0.0018144095640947326, Val Loss: 0.002309707459062338\n"
     ]
    },
    {
     "name": "stderr",
     "output_type": "stream",
     "text": [
      "Epoch 18: 100%|██████████████████████████████████████████████████████████████████████████████████████████████████████████| 422/422 [00:12<00:00, 33.09it/s, loss=0.00184]\n"
     ]
    },
    {
     "name": "stdout",
     "output_type": "stream",
     "text": [
      "Epoch 18, Train Loss: 0.0017972632200386534, Val Loss: 0.002293619327247143\n"
     ]
    },
    {
     "name": "stderr",
     "output_type": "stream",
     "text": [
      "Epoch 19: 100%|██████████████████████████████████████████████████████████████████████████████████████████████████████████| 422/422 [00:12<00:00, 33.09it/s, loss=0.00176]\n"
     ]
    },
    {
     "name": "stdout",
     "output_type": "stream",
     "text": [
      "Epoch 19, Train Loss: 0.0017459811835871984, Val Loss: 0.002278790809214115\n",
      "Best val loss is tensor(0.0023, device='cuda:0')\n",
      "Training with noisgy data, d=768\n",
      "Utilising cuda\n",
      "Training........\n"
     ]
    },
    {
     "name": "stderr",
     "output_type": "stream",
     "text": [
      "Epoch 0: 100%|███████████████████████████████████████████████████████████████████████████████████████████████████████████| 422/422 [00:17<00:00, 24.57it/s, loss=0.00726]\n"
     ]
    },
    {
     "name": "stdout",
     "output_type": "stream",
     "text": [
      "Epoch 0, Train Loss: 0.01669595489649199, Val Loss: 0.007072741631418467\n"
     ]
    },
    {
     "name": "stderr",
     "output_type": "stream",
     "text": [
      "Epoch 1: 100%|███████████████████████████████████████████████████████████████████████████████████████████████████████████| 422/422 [00:17<00:00, 24.48it/s, loss=0.00491]\n"
     ]
    },
    {
     "name": "stdout",
     "output_type": "stream",
     "text": [
      "Epoch 1, Train Loss: 0.0055901025338054265, Val Loss: 0.004948627669364214\n"
     ]
    },
    {
     "name": "stderr",
     "output_type": "stream",
     "text": [
      "Epoch 2: 100%|███████████████████████████████████████████████████████████████████████████████████████████████████████████| 422/422 [00:17<00:00, 24.57it/s, loss=0.00359]\n"
     ]
    },
    {
     "name": "stdout",
     "output_type": "stream",
     "text": [
      "Epoch 2, Train Loss: 0.0040340320117798105, Val Loss: 0.0036403259728103876\n"
     ]
    },
    {
     "name": "stderr",
     "output_type": "stream",
     "text": [
      "Epoch 3: 100%|███████████████████████████████████████████████████████████████████████████████████████████████████████████| 422/422 [00:17<00:00, 24.50it/s, loss=0.00323]\n"
     ]
    },
    {
     "name": "stdout",
     "output_type": "stream",
     "text": [
      "Epoch 3, Train Loss: 0.0033074782485963327, Val Loss: 0.003172192955389619\n"
     ]
    },
    {
     "name": "stderr",
     "output_type": "stream",
     "text": [
      "Epoch 4: 100%|███████████████████████████████████████████████████████████████████████████████████████████████████████████| 422/422 [00:17<00:00, 24.49it/s, loss=0.00264]\n"
     ]
    },
    {
     "name": "stdout",
     "output_type": "stream",
     "text": [
      "Epoch 4, Train Loss: 0.00285681892490959, Val Loss: 0.002774057211354375\n"
     ]
    },
    {
     "name": "stderr",
     "output_type": "stream",
     "text": [
      "Epoch 5: 100%|███████████████████████████████████████████████████████████████████████████████████████████████████████████| 422/422 [00:17<00:00, 24.49it/s, loss=0.00232]\n"
     ]
    },
    {
     "name": "stdout",
     "output_type": "stream",
     "text": [
      "Epoch 5, Train Loss: 0.002550652884586904, Val Loss: 0.002450523665174842\n"
     ]
    },
    {
     "name": "stderr",
     "output_type": "stream",
     "text": [
      "Epoch 6: 100%|███████████████████████████████████████████████████████████████████████████████████████████████████████████| 422/422 [00:17<00:00, 24.52it/s, loss=0.00218]\n"
     ]
    },
    {
     "name": "stdout",
     "output_type": "stream",
     "text": [
      "Epoch 6, Train Loss: 0.002317066836530581, Val Loss: 0.00247485120780766\n"
     ]
    },
    {
     "name": "stderr",
     "output_type": "stream",
     "text": [
      "Epoch 7: 100%|███████████████████████████████████████████████████████████████████████████████████████████████████████████| 422/422 [00:17<00:00, 24.57it/s, loss=0.00203]\n"
     ]
    },
    {
     "name": "stdout",
     "output_type": "stream",
     "text": [
      "Epoch 7, Train Loss: 0.00212627137714326, Val Loss: 0.002199356909841299\n"
     ]
    },
    {
     "name": "stderr",
     "output_type": "stream",
     "text": [
      "Epoch 8: 100%|███████████████████████████████████████████████████████████████████████████████████████████████████████████| 422/422 [00:17<00:00, 24.48it/s, loss=0.00193]\n"
     ]
    },
    {
     "name": "stdout",
     "output_type": "stream",
     "text": [
      "Epoch 8, Train Loss: 0.0019893925573557653, Val Loss: 0.002170245861634612\n"
     ]
    },
    {
     "name": "stderr",
     "output_type": "stream",
     "text": [
      "Epoch 9: 100%|███████████████████████████████████████████████████████████████████████████████████████████████████████████| 422/422 [00:17<00:00, 24.48it/s, loss=0.00186]\n"
     ]
    },
    {
     "name": "stdout",
     "output_type": "stream",
     "text": [
      "Epoch 9, Train Loss: 0.0018824552598528529, Val Loss: 0.0020877630449831486\n"
     ]
    },
    {
     "name": "stderr",
     "output_type": "stream",
     "text": [
      "Epoch 10: 100%|██████████████████████████████████████████████████████████████████████████████████████████████████████████| 422/422 [00:17<00:00, 24.40it/s, loss=0.00177]\n"
     ]
    },
    {
     "name": "stdout",
     "output_type": "stream",
     "text": [
      "Epoch 10, Train Loss: 0.0017832324128946669, Val Loss: 0.0020845946855843067\n"
     ]
    },
    {
     "name": "stderr",
     "output_type": "stream",
     "text": [
      "Epoch 11: 100%|██████████████████████████████████████████████████████████████████████████████████████████████████████████| 422/422 [00:17<00:00, 24.35it/s, loss=0.00163]\n"
     ]
    },
    {
     "name": "stdout",
     "output_type": "stream",
     "text": [
      "Epoch 11, Train Loss: 0.0017115102774106071, Val Loss: 0.0019345174077898264\n"
     ]
    },
    {
     "name": "stderr",
     "output_type": "stream",
     "text": [
      "Epoch 12: 100%|██████████████████████████████████████████████████████████████████████████████████████████████████████████| 422/422 [00:17<00:00, 24.49it/s, loss=0.00151]\n"
     ]
    },
    {
     "name": "stdout",
     "output_type": "stream",
     "text": [
      "Epoch 12, Train Loss: 0.0016434529944658455, Val Loss: 0.0018265984253957868\n"
     ]
    },
    {
     "name": "stderr",
     "output_type": "stream",
     "text": [
      "Epoch 13: 100%|██████████████████████████████████████████████████████████████████████████████████████████████████████████| 422/422 [00:17<00:00, 24.56it/s, loss=0.00154]\n"
     ]
    },
    {
     "name": "stdout",
     "output_type": "stream",
     "text": [
      "Epoch 13, Train Loss: 0.001590822803759197, Val Loss: 0.0018184991786256433\n"
     ]
    },
    {
     "name": "stderr",
     "output_type": "stream",
     "text": [
      "Epoch 14: 100%|██████████████████████████████████████████████████████████████████████████████████████████████████████████| 422/422 [00:17<00:00, 24.58it/s, loss=0.00144]\n"
     ]
    },
    {
     "name": "stdout",
     "output_type": "stream",
     "text": [
      "Epoch 14, Train Loss: 0.0015572795900405867, Val Loss: 0.001764449174515903\n"
     ]
    },
    {
     "name": "stderr",
     "output_type": "stream",
     "text": [
      "Epoch 15: 100%|██████████████████████████████████████████████████████████████████████████████████████████████████████████| 422/422 [00:17<00:00, 24.77it/s, loss=0.00142]\n"
     ]
    },
    {
     "name": "stdout",
     "output_type": "stream",
     "text": [
      "Epoch 15, Train Loss: 0.001524760298181537, Val Loss: 0.0017641754820942879\n"
     ]
    },
    {
     "name": "stderr",
     "output_type": "stream",
     "text": [
      "Epoch 16: 100%|██████████████████████████████████████████████████████████████████████████████████████████████████████████| 422/422 [00:16<00:00, 24.89it/s, loss=0.00141]\n"
     ]
    },
    {
     "name": "stdout",
     "output_type": "stream",
     "text": [
      "Epoch 16, Train Loss: 0.0014772505562319928, Val Loss: 0.0017869153525680304\n"
     ]
    },
    {
     "name": "stderr",
     "output_type": "stream",
     "text": [
      "Epoch 17: 100%|██████████████████████████████████████████████████████████████████████████████████████████████████████████| 422/422 [00:16<00:00, 24.93it/s, loss=0.00142]\n"
     ]
    },
    {
     "name": "stdout",
     "output_type": "stream",
     "text": [
      "Epoch 17, Train Loss: 0.001441097991834549, Val Loss: 0.0017543126596137881\n"
     ]
    },
    {
     "name": "stderr",
     "output_type": "stream",
     "text": [
      "Epoch 18: 100%|██████████████████████████████████████████████████████████████████████████████████████████████████████████| 422/422 [00:17<00:00, 24.58it/s, loss=0.00137]\n"
     ]
    },
    {
     "name": "stdout",
     "output_type": "stream",
     "text": [
      "Epoch 18, Train Loss: 0.0014326598413037003, Val Loss: 0.001973707228899002\n"
     ]
    },
    {
     "name": "stderr",
     "output_type": "stream",
     "text": [
      "Epoch 19: 100%|██████████████████████████████████████████████████████████████████████████████████████████████████████████| 422/422 [00:17<00:00, 24.53it/s, loss=0.00156]\n"
     ]
    },
    {
     "name": "stdout",
     "output_type": "stream",
     "text": [
      "Epoch 19, Train Loss: 0.0014023880101298974, Val Loss: 0.0017712871776893735\n",
      "Best val loss is tensor(0.0018, device='cuda:0')\n"
     ]
    }
   ],
   "source": [
    "sigma = 0.25\n",
    "bottle_neck_dimensions = [256, 512, 768]\n",
    "print(\"Adding gaussian noise\")\n",
    "noisy_train_data = [(add_gaussian_noise(images.numpy(), sigma), labels) for images, labels in train_loader]\n",
    "noisy_val_data = [(add_gaussian_noise(images.numpy(), sigma), labels) for images, labels in val_loader]\n",
    "noisy_test_data = [(add_gaussian_noise(images.numpy(), sigma), labels) for images, labels in test_loader]\n",
    "\n",
    "for bottle_neck_dimension in bottle_neck_dimensions:\n",
    "    print(\"Training with noisgy data, d=\"+str(bottle_neck_dimension))\n",
    "    model = Autoencoder(bottle_neck_dimension=bottle_neck_dimension)\n",
    "    loss_fn = criterion = nn.MSELoss()\n",
    "    optimizer = torch.optim.Adam(model.parameters(), lr=1e-3)\n",
    "    # optimizer = optim.SGD(model.parameters(), lr=0.001, momentum=0.9)\n",
    "    \n",
    "    device = \"cuda\" if torch.cuda.is_available() else \"cpu\"\n",
    "    print(\"Utilising\",device)\n",
    "    model = model.to(device)\n",
    "    model_path = 'models/ae_noise_'+str(sigma)+'_'+str(bottle_neck_dimension)+'.pt'\n",
    "    early_stopping = EarlyStopping(patience=5, path=model_path)\n",
    "\n",
    "    \n",
    "    print(\"Training........\")\n",
    "    for epoch_num in range(20):\n",
    "        model.train()\n",
    "        epoch_loss = 0\n",
    "      \n",
    "\n",
    "        progress_bar = tqdm(noisy_train_data, desc=f\"Epoch {epoch_num}\", total=len(train_loader))\n",
    "        for batch_num, (input, _) in enumerate(progress_bar):\n",
    "            input = torch.tensor(input).float()\n",
    "            input = input.to(device)\n",
    "            pred = model(input)\n",
    "            loss = loss_fn(pred, input)\n",
    "            loss.backward()\n",
    "            optimizer.step()\n",
    "            optimizer.zero_grad()\n",
    "            epoch_loss += loss.item()\n",
    "            progress_bar.set_postfix({'loss': loss.item()})\n",
    "    \n",
    "        epoch_loss /= len(train_loader)\n",
    "        model.eval()\n",
    "    \n",
    "        with torch.no_grad():\n",
    "            val_loss = 0\n",
    "            for batch_num, (input, labels) in enumerate(noisy_val_data):\n",
    "                input = torch.tensor(input).float()\n",
    "                (input, labels) = (input.to(device), labels.to(device))\n",
    "                pred = model(input)\n",
    "                val_loss += loss_fn(pred, input)\n",
    "            val_loss /= len(val_loader)\n",
    "    \n",
    "        if epoch_num % 1 == 0:\n",
    "            print(f\"Epoch {epoch_num}, Train Loss: {epoch_loss}, Val Loss: {val_loss}\")\n",
    "    \n",
    "        early_stopping(val_loss, model)\n",
    "        if early_stopping.early_stop:\n",
    "            print(\"Early stopping....\")\n",
    "            break\n",
    "    print(\"Best val loss is\",early_stopping.best_score)\n",
    "    "
   ]
  },
  {
   "cell_type": "code",
   "execution_count": 16,
   "id": "6afd496e-1167-48a9-bb66-54386fcffa93",
   "metadata": {},
   "outputs": [
    {
     "name": "stdout",
     "output_type": "stream",
     "text": [
      "Utilising cuda\n"
     ]
    },
    {
     "name": "stderr",
     "output_type": "stream",
     "text": [
      "100%|████████████████████████████████████████████████████████████████████████████████████████████████████████████████████████████████████| 79/79 [00:01<00:00, 53.76it/s]\n"
     ]
    },
    {
     "name": "stdout",
     "output_type": "stream",
     "text": [
      "Utilising cuda\n"
     ]
    },
    {
     "name": "stderr",
     "output_type": "stream",
     "text": [
      "100%|████████████████████████████████████████████████████████████████████████████████████████████████████████████████████████████████████| 79/79 [00:01<00:00, 50.90it/s]\n"
     ]
    },
    {
     "name": "stdout",
     "output_type": "stream",
     "text": [
      "Utilising cuda\n"
     ]
    },
    {
     "name": "stderr",
     "output_type": "stream",
     "text": [
      "100%|████████████████████████████████████████████████████████████████████████████████████████████████████████████████████████████████████| 79/79 [00:01<00:00, 44.77it/s]\n"
     ]
    }
   ],
   "source": [
    "avg_ssim = []\n",
    "for bottle_neck_dimension in bottle_neck_dimensions:\n",
    "    model = Autoencoder(bottle_neck_dimension=bottle_neck_dimension)\n",
    "    \n",
    "    device = \"cuda\" if torch.cuda.is_available() else \"cpu\"\n",
    "    print(\"Utilising\",device)\n",
    "    model = model.to(device)\n",
    "    model_path = 'models/ae_noise_'+str(sigma)+'_'+str(bottle_neck_dimension)+'.pt'\n",
    "    state_dict = torch.load(model_path)\n",
    "    model.load_state_dict(state_dict)\n",
    "    model.eval()\n",
    "    \n",
    "    ssim_scores = []\n",
    "    with torch.no_grad():\n",
    "        for input_images, _ in tqdm(noisy_test_data):\n",
    "            input_images = torch.tensor(input_images).float()\n",
    "            input_images = input_images.to(device)\n",
    "            output_images = model(input_images)\n",
    "            input_images_np = input_images.permute(0, 2, 3, 1).cpu().numpy()\n",
    "            output_images_np = output_images.permute(0, 2, 3, 1).cpu().numpy()\n",
    "            batch_ssim_scores = ssim(input_images_np, output_images_np, data_range=output_images_np.max() - output_images_np.min(),channel_axis=-1)\n",
    "            ssim_scores.append(batch_ssim_scores)\n",
    "    ssim_temp = np.mean(ssim_scores)\n",
    "    avg_ssim.append(ssim_temp)"
   ]
  },
  {
   "cell_type": "code",
   "execution_count": 17,
   "id": "d5521f90-4b49-4159-9a7f-6da8bddbcba3",
   "metadata": {},
   "outputs": [
    {
     "data": {
      "image/png": "[encoded data removed]",
      "text/plain": [
       "<Figure size 640x480 with 1 Axes>"
      ]
     },
     "metadata": {},
     "output_type": "display_data"
    }
   ],
   "source": [
    "import matplotlib.pyplot as plt\n",
    "plt.plot(bottle_neck_dimensions, avg_ssim, marker='*')\n",
    "plt.xlabel('bottle_neck_dimensions')\n",
    "plt.ylabel('Average SSIM Test Score')\n",
    "plt.title('Average SSIM Test Score vs. bottle_neck_dimensions')\n",
    "plt.grid(True)\n",
    "plt.show()"
   ]
  },
  {
   "cell_type": "markdown",
   "id": "71db6b85-20f4-43ce-a6d1-2f612012dd3f",
   "metadata": {},
   "source": [
    "# Observations\n",
    "1. For a fixed variance, the performance increases as increase in bottle neck dimension\n",
    "2. As dimension of bottleneck layer increases, it fecilitate the model to encode information very well resulting in better performance. "
   ]
  },
  {
   "cell_type": "code",
   "execution_count": null,
   "id": "ad653b1c-39db-46a7-9b7d-1c829dee86fb",
   "metadata": {},
   "outputs": [],
   "source": []
  }
 ],
 "metadata": {
  "kernelspec": {
   "display_name": "Python 3 (ipykernel)",
   "language": "python",
   "name": "python3"
  },
  "language_info": {
   "codemirror_mode": {
    "name": "ipython",
    "version": 3
   },
   "file_extension": ".py",
   "mimetype": "text/x-python",
   "name": "python",
   "nbconvert_exporter": "python",
   "pygments_lexer": "ipython3",
   "version": "3.10.12"
  }
 },
 "nbformat": 4,
 "nbformat_minor": 5
}
