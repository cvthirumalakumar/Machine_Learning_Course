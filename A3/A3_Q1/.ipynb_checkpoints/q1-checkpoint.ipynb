{
 "cells": [
  {
   "cell_type": "code",
   "execution_count": 2,
   "id": "fb60f3fd-d07f-4794-86f9-35b2ddaa959d",
   "metadata": {},
   "outputs": [],
   "source": [
    "import glob"
   ]
  },
  {
   "cell_type": "code",
   "execution_count": 1,
   "id": "87bb23ad-1cad-4f52-a989-262168c70b20",
   "metadata": {},
   "outputs": [],
   "source": [
    "def unpickle(file):\n",
    "    import pickle\n",
    "    with open(file, 'rb') as fo:\n",
    "        dict = pickle.load(fo, encoding='bytes')\n",
    "    return dict"
   ]
  },
  {
   "cell_type": "code",
   "execution_count": 6,
   "id": "6e3f9a6f-8ba3-4409-9bc6-a49410bda07f",
   "metadata": {},
   "outputs": [
    {
     "name": "stdout",
     "output_type": "stream",
     "text": [
      "extracting data/cifar-10-batches-py/data_batch_4\n",
      "extracting data/cifar-10-batches-py/data_batch_3\n",
      "extracting data/cifar-10-batches-py/data_batch_1\n",
      "extracting data/cifar-10-batches-py/data_batch_2\n",
      "extracting data/cifar-10-batches-py/data_batch_5\n"
     ]
    }
   ],
   "source": [
    "data_path = 'data/cifar-10-batches-py'\n",
    "data = {}\n",
    "for file in glob.glob(data_path+\"/data_batch_*\"):\n",
    "    print(f'extracting {file}')\n",
    "    data[file.split(\"/\")[-1]] = unpickle(file)"
   ]
  },
  {
   "cell_type": "code",
   "execution_count": 27,
   "id": "ad2637d9-65ac-4b09-8fb3-708819e3d360",
   "metadata": {},
   "outputs": [
    {
     "data": {
      "text/plain": [
       "(10000, 3072)"
      ]
     },
     "execution_count": 27,
     "metadata": {},
     "output_type": "execute_result"
    }
   ],
   "source": [
    "data['data_batch_4'][b'data'].shape"
   ]
  },
  {
   "cell_type": "code",
   "execution_count": null,
   "id": "d9257bab-394c-440f-99dd-7ae05366f1c1",
   "metadata": {},
   "outputs": [],
   "source": []
  }
 ],
 "metadata": {
  "kernelspec": {
   "display_name": "Python 3 (ipykernel)",
   "language": "python",
   "name": "python3"
  },
  "language_info": {
   "codemirror_mode": {
    "name": "ipython",
    "version": 3
   },
   "file_extension": ".py",
   "mimetype": "text/x-python",
   "name": "python",
   "nbconvert_exporter": "python",
   "pygments_lexer": "ipython3",
   "version": "3.10.12"
  }
 },
 "nbformat": 4,
 "nbformat_minor": 5
}
