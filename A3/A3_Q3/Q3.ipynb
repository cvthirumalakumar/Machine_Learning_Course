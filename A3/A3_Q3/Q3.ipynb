{
 "cells": [
  {
   "cell_type": "markdown",
   "id": "135c0a2e-ba8c-4100-b0e7-8c1f706fdc06",
   "metadata": {},
   "source": [
    "# Sentiment Classification Using RNNs\n",
    "\n",
    "* Given the IMDB Movie Review Dataset, create an RNN model that predicts whether the given review is negative or positive.\n",
    "* You need to create your Dataset, Dataloader and Model. Keep your code modular and avoid hardcoding any parameter. This will allow you to experiment more easily.\n",
    "* Plot graphs for loss and accuracy for each epoch of a training loop. Try using wandb for logging training and validation losses, accuracies.\n",
    "* Use tqdm to keep track of the status of the training loop for an epoch"
   ]
  },
  {
   "cell_type": "markdown",
   "id": "4ff10896-2337-48c6-9913-ccdbcb185b40",
   "metadata": {},
   "source": [
    "### 1. RNN Model\n",
    "#### 1.1 Build a Dataset from the IMDB Movie Review Dataset by taking reviews with word count between 100 and 500. Perform text processing on the movie reviews and create a word to index mapping for representing any review as a list of numbers.\n",
    "#### 1.2 Create Dataloaders for the train, test and validation datasets with appropriate batch sizes.\n",
    "#### 1.3 Create the Model class for the RNN Model. Create functions for running model training and testing."
   ]
  },
  {
   "cell_type": "raw",
   "id": "e88e5e36-8669-43d9-b7fd-58e38af6f3f0",
   "metadata": {
    "scrolled": true
   },
   "source": [
    "!pip install datasets\n",
    "!pip install -U nltk\n",
    "!pip install contractions\n",
    "!pip install torch"
   ]
  },
  {
   "cell_type": "code",
   "execution_count": 1,
   "id": "ea61f8f1-5d12-40a1-891b-8b48d6f91c82",
   "metadata": {},
   "outputs": [
    {
     "name": "stderr",
     "output_type": "stream",
     "text": [
      "/home2/chowdam.v/kumar/kumar_env/lib/python3.11/site-packages/tqdm/auto.py:21: TqdmWarning: IProgress not found. Please update jupyter and ipywidgets. See https://ipywidgets.readthedocs.io/en/stable/user_install.html\n",
      "  from .autonotebook import tqdm as notebook_tqdm\n"
     ]
    }
   ],
   "source": [
    "from datasets import load_dataset\n",
    "from nltk.stem import PorterStemmer\n",
    "import contractions\n",
    "import re\n",
    "import torch\n",
    "import torch.nn as nn\n",
    "from torch.utils.data import Dataset\n",
    "from torchtext.vocab import build_vocab_from_iterator, Vocab\n",
    "from torch.nn.utils.rnn import pad_sequence\n",
    "from torch.utils.data import DataLoader, random_split\n",
    "import random\n",
    "import numpy as np\n",
    "from tqdm import tqdm\n",
    "from sklearn.metrics import accuracy_score\n",
    "random_seed = 123\n",
    "random.seed(random_seed)\n",
    "np.random.seed(random_seed)\n",
    "torch.manual_seed(random_seed)\n",
    "torch.cuda.manual_seed_all(random_seed)\n"
   ]
  },
  {
   "cell_type": "code",
   "execution_count": 2,
   "id": "41a36f1f-f8db-428f-aa9f-b1ff08784f00",
   "metadata": {},
   "outputs": [],
   "source": [
    "# Load the IMDb dataset\n",
    "imdb_dataset = load_dataset(\"imdb\")"
   ]
  },
  {
   "cell_type": "code",
   "execution_count": 3,
   "id": "ffa19362-ff3e-4a9a-92a7-81356bfeaf7e",
   "metadata": {},
   "outputs": [],
   "source": [
    "def pre_process(text, stemming=False):\n",
    "    t = contractions.fix(text) \n",
    "    t = re.sub(r'[^\\w\\s]', ' ', t) \n",
    "    t = re.sub(r'\\s+', ' ', t)\n",
    "    if stemming:\n",
    "        stemmer = PorterStemmer()\n",
    "        t = \" \".join(stemmer.stem(word) for word in t.split())\n",
    "    t = re.sub(r'\\b\\d+\\b', '<num>', t)\n",
    "    return t.lower()"
   ]
  },
  {
   "cell_type": "code",
   "execution_count": 4,
   "id": "43764792-5283-494c-8dda-9443d79df376",
   "metadata": {},
   "outputs": [],
   "source": [
    "UNKNOWN_TOKEN = \"<unk>\"\n",
    "PAD_TOKEN = \"<pad>\"\n",
    "\n",
    "class IMDBDataset(Dataset):\n",
    "  def __init__(self, data, vocabulary_words:Vocab|None=None, stemming=False):\n",
    "    \"\"\"Initialize the dataset. Setup Code goes here\"\"\"\n",
    "      \n",
    "    self.sentences_original = [example['text'] for example in data]\n",
    "    self.labels_original = [example['label'] for example in data]\n",
    "\n",
    "    self.sentences = []\n",
    "    self.labels = []\n",
    "      \n",
    "    for sentence,label in zip(self.sentences_original,self.labels_original):\n",
    "        sentence = pre_process(sentence, stemming=stemming).split()\n",
    "        if 100 <= len(sentence) <= 500:\n",
    "            self.sentences.append(sentence)\n",
    "            self.labels.append(label)\n",
    "\n",
    "    if vocabulary_words is None:\n",
    "      self.vocabulary_words = build_vocab_from_iterator(self.sentences, specials=[PAD_TOKEN, UNKNOWN_TOKEN])\n",
    "      self.vocabulary_words.set_default_index(self.vocabulary_words[UNKNOWN_TOKEN])\n",
    "    else:\n",
    "      self.vocabulary_words = vocabulary_words\n",
    "\n",
    "  def __len__(self) -> int:\n",
    "    \"\"\"Returns number of datapoints.\"\"\"\n",
    "    return len(self.sentences)\n",
    "\n",
    "  def __getitem__(self, index: int) -> tuple[torch.Tensor, torch.Tensor]:\n",
    "    \"\"\"Get the datapoint at `index`.\"\"\"\n",
    "    return torch.tensor(self.vocabulary_words.lookup_indices(self.sentences[index])), torch.tensor(self.labels[index])\n",
    "\n",
    "  def collate(self, batch: list[tuple[torch.Tensor, torch.Tensor]]) -> tuple[torch.Tensor, torch.Tensor]:\n",
    "    \"\"\"Given a list of datapoints, batch them together\"\"\"\n",
    "    sentences = [i[0] for i in batch]\n",
    "    labels = [i[1] for i in batch]\n",
    "\n",
    "    features = np.zeros((len(sentences), 500),dtype=int)\n",
    "    for ii, review in enumerate(sentences):\n",
    "        if len(review) != 0:\n",
    "            features[ii, -len(review):] = np.array(review)\n",
    "    padded_sentences = torch.tensor(features)\n",
    "    # padded_sentences = pad_sequence(sentences, batch_first=True, padding_value=self.vocabulary_words[PAD_TOKEN])\n",
    "    # if padded_sentences.size(1) < 500:\n",
    "    #   padded_sentences = torch.cat([padded_sentences, torch.full((padded_sentences.size(0), 500 - padded_sentences.size(1)), self.vocabulary_words[PAD_TOKEN])], dim=1)\n",
    "    padded_labels = torch.tensor(labels)\n",
    "    return padded_sentences, padded_labels\n"
   ]
  },
  {
   "cell_type": "code",
   "execution_count": 5,
   "id": "6a79fdbf-6857-4419-97ef-777a57609501",
   "metadata": {},
   "outputs": [],
   "source": [
    "dataset = IMDBDataset(imdb_dataset['train'])\n",
    "test_dataset = IMDBDataset(imdb_dataset['test'],vocabulary_words=dataset.vocabulary_words)\n"
   ]
  },
  {
   "cell_type": "code",
   "execution_count": 23,
   "id": "acdf6203-5ea1-4181-bdbc-b8b95acf65b3",
   "metadata": {},
   "outputs": [],
   "source": [
    "train_size, val_size = 0.8, 0.2\n",
    "batch_size = 64\n",
    "\n",
    "train_dataset, val_dataset = random_split(dataset, [train_size, val_size])\n",
    "\n",
    "train_loader = DataLoader(train_dataset, batch_size=batch_size, shuffle=True, collate_fn=dataset.collate)\n",
    "val_loader = DataLoader(val_dataset, batch_size=batch_size, shuffle=False, collate_fn=dataset.collate)\n",
    "test_loader = DataLoader(test_dataset, batch_size=batch_size, shuffle=False, collate_fn=dataset.collate)"
   ]
  },
  {
   "cell_type": "raw",
   "id": "921d157c-d9a1-4186-936b-b75c25ea61e2",
   "metadata": {},
   "source": [
    "for input,label in train_loader:\n",
    "    print(input.shape, label.shape)\n",
    "    # print(input[0])\n",
    "    # break"
   ]
  },
  {
   "cell_type": "code",
   "execution_count": 66,
   "id": "88f2bf35-3a71-485c-a2bf-3eeac503baea",
   "metadata": {},
   "outputs": [],
   "source": [
    "\n",
    "class RNNModel(nn.Module):\n",
    "    def __init__(self, vocab_size, num_classes, hidden_size, num_layers, bidirectionality=False, embedding_dim=256, rnn_type='rnn', what_to_pick='last'):\n",
    "        super(RNNModel, self).__init__()\n",
    "        self.bidirectionality = bidirectionality\n",
    "        self.embedding = nn.Embedding(vocab_size, embedding_dim)\n",
    "        self.hidden_size = hidden_size\n",
    "        self.num_layers = num_layers\n",
    "        self.rnn_type = rnn_type\n",
    "        self.what_to_pick = what_to_pick\n",
    "        \n",
    "        if self.rnn_type == 'rnn':\n",
    "            self.rnn = nn.RNN(embedding_dim, hidden_size, num_layers, batch_first=True, bidirectional=bidirectionality)\n",
    "        elif self.rnn_type == 'lstm':\n",
    "            self.rnn = nn.LSTM(embedding_dim, hidden_size, num_layers, batch_first=True, bidirectional=bidirectionality)\n",
    "            \n",
    "        self.dropout = nn.Dropout(0.2)\n",
    "        if self.bidirectionality:\n",
    "            self.fc = nn.Linear(hidden_size * 2, num_classes)\n",
    "        else:\n",
    "            self.fc = nn.Linear(hidden_size, num_classes)\n",
    "        self.sigmoid = nn.Sigmoid()\n",
    "\n",
    "    def forward(self, x):\n",
    "        embedded = self.embedding(x)\n",
    "        out, _ = self.rnn(embedded)\n",
    "        if self.what_to_pick == 'last':\n",
    "            out = out[:, -1]  \n",
    "        else:\n",
    "            out = torch.mean(out, dim=1)\n",
    "        out = self.dropout(out)\n",
    "        out = self.fc(out)\n",
    "        out = self.sigmoid(out)\n",
    "        return out.squeeze() \n",
    "        \n",
    "class EarlyStopping:\n",
    "    def __init__(self, patience=5, delta=0, path='checkpoint.pt'):\n",
    "        self.patience = patience\n",
    "        self.counter = 0\n",
    "        self.best_score = None\n",
    "        self.early_stop = False\n",
    "        self.delta = delta\n",
    "        self.path = path\n",
    "\n",
    "    def __call__(self, score, model):\n",
    "\n",
    "        if self.best_score is None:\n",
    "            self.best_score = score\n",
    "            self.save_checkpoint(score, model)\n",
    "        elif score < self.best_score - self.delta:\n",
    "            self.best_score = score\n",
    "            self.save_checkpoint(score, model)\n",
    "            self.counter = 0\n",
    "        else:\n",
    "            self.counter += 1\n",
    "            if self.counter >= self.patience:\n",
    "                self.early_stop = True\n",
    "\n",
    "    def save_checkpoint(self, score, model):\n",
    "        torch.save(model.state_dict(), self.path)\n"
   ]
  },
  {
   "cell_type": "code",
   "execution_count": 52,
   "id": "8dad5867-f01d-4ab3-a90b-a62e3fae731c",
   "metadata": {},
   "outputs": [],
   "source": [
    "def train(model, model_name, n_epochs=25):\n",
    "  val_accuracies_epoch_wise = []\n",
    "  train_loss_epoch_wise = []\n",
    "  val_loss_epoch_wise = []\n",
    "  device = \"cuda\" if torch.cuda.is_available() else \"cpu\"\n",
    "  # device =  \"cpu\"\n",
    "  print(\"Utilising\",device)\n",
    "  loss_fn = torch.nn.BCELoss()\n",
    "  optimizer = torch.optim.Adam(model.parameters(), lr=1e-4)\n",
    "  # optimizer = torch.optim.SGD(model.parameters(), lr=0.001, momentum=0.9)\n",
    "\n",
    "  model = model.to(device)\n",
    "  model_path = 'models/sentiment_'+model_name+\".pt\"\n",
    "  early_stopping = EarlyStopping(patience=5, path=model_path)\n",
    "\n",
    "  for epoch_num in range(n_epochs):\n",
    "      model.train()\n",
    "      epoch_loss = 0\n",
    "\n",
    "      progress_bar = tqdm(train_loader, desc=f\"Epoch {epoch_num}\", total=len(train_loader))\n",
    "\n",
    "      for batch_num, (words, tags) in enumerate(progress_bar):\n",
    "          (words, tags) = (words.to(device), tags.to(device))\n",
    "          optimizer.zero_grad()\n",
    "          pred = model(words)\n",
    "          loss = loss_fn(pred, tags.float())\n",
    "          loss.backward()\n",
    "          optimizer.step()\n",
    "          epoch_loss += loss.item()\n",
    "          progress_bar.set_postfix({'loss': loss.item()})\n",
    "\n",
    "      epoch_loss /= len(train_loader)\n",
    "      train_loss_epoch_wise.append(epoch_loss)\n",
    "      model.eval()\n",
    "\n",
    "      with torch.no_grad():\n",
    "        val_loss = 0\n",
    "        all_predictions = []\n",
    "        all_ground_truth = []\n",
    "        for batch_num, (words, tags) in enumerate(val_loader):\n",
    "            (words, tags) = (words.to(device), tags.to(device))\n",
    "            pred = model(words)\n",
    "            val_loss += loss_fn(pred, tags.float()).item()\n",
    "            predictions = (pred >= 0.5).int().cpu().numpy()\n",
    "            ground_truth = tags.cpu().numpy()\n",
    "            all_predictions += list(predictions)\n",
    "            all_ground_truth += list(ground_truth)\n",
    "\n",
    "        accuracy_val = accuracy_score(all_ground_truth, all_predictions)\n",
    "        val_accuracies_epoch_wise.append( accuracy_val*100)\n",
    "          \n",
    "        val_loss /= len(val_loader)\n",
    "        val_loss_epoch_wise.append(val_loss)\n",
    "\n",
    "        early_stopping(val_loss, model)\n",
    "        if early_stopping.early_stop:\n",
    "            print(\"Early stopping....\")\n",
    "            break\n",
    "\n",
    "      if epoch_num % 1 == 0:\n",
    "          print(f\"Epoch {epoch_num}, Train Loss: {epoch_loss:.4f}, Val Loss: {val_loss:.4f}\")\n",
    "  print(\"best val loss is\",early_stopping.best_score)\n",
    "  return train_loss_epoch_wise, val_loss_epoch_wise, val_accuracies_epoch_wise\n",
    "\n",
    "def test(model, model_name):\n",
    "  device = \"cuda\" if torch.cuda.is_available() else \"cpu\"\n",
    "  print(\"Utilising\",device)\n",
    "  # device =  \"cpu\"\n",
    "  model = model.to(device)\n",
    "  model_path = 'models/sentiment_'+model_name+\".pt\"\n",
    "  state_dict = torch.load(model_path)\n",
    "  model.load_state_dict(state_dict)\n",
    "  model.eval()\n",
    "\n",
    "  with torch.no_grad():\n",
    "    all_predictions = []\n",
    "    all_ground_truth = []\n",
    "    for batch_num, (words, tags) in enumerate(val_loader):\n",
    "        (words, tags) = (words.to(device), tags.to(device))\n",
    "        pred = model(words)\n",
    "        predictions = (pred >= 0.5).int().cpu().numpy()\n",
    "        ground_truth = tags.cpu().numpy()\n",
    "        all_predictions += list(predictions)\n",
    "        all_ground_truth += list(ground_truth)\n",
    "\n",
    "    accuracy_val = accuracy_score(all_ground_truth, all_predictions)\n",
    "\n",
    "    all_predictions = []\n",
    "    all_ground_truth = []\n",
    "    for batch_num, (words, tags) in enumerate(test_loader):\n",
    "        (words, tags) = (words.to(device), tags.to(device))\n",
    "        pred = model(words)\n",
    "        predictions = (pred >= 0.5).int().cpu().numpy()\n",
    "        ground_truth = tags.cpu().numpy().flatten()\n",
    "        all_predictions.append(predictions)\n",
    "        all_ground_truth.append(ground_truth)\n",
    "    all_predictions = np.concatenate(all_predictions)\n",
    "    all_ground_truth = np.concatenate(all_ground_truth)\n",
    "\n",
    "    accuracy_test = accuracy_score(all_ground_truth, all_predictions)\n",
    "\n",
    "    return accuracy_val, accuracy_test"
   ]
  },
  {
   "cell_type": "code",
   "execution_count": 53,
   "id": "6c57b0c9-223a-4158-92ef-275383f60e2e",
   "metadata": {},
   "outputs": [
    {
     "name": "stdout",
     "output_type": "stream",
     "text": [
      "Utilising cuda\n"
     ]
    },
    {
     "name": "stderr",
     "output_type": "stream",
     "text": [
      "Epoch 0: 100%|█████████████████████████████████████████████████████████████████████████████████████████████████████████████| 251/251 [00:20<00:00, 12.06it/s, loss=0.656]\n"
     ]
    },
    {
     "name": "stdout",
     "output_type": "stream",
     "text": [
      "Epoch 0, Train Loss: 0.6640, Val Loss: 0.6457\n"
     ]
    },
    {
     "name": "stderr",
     "output_type": "stream",
     "text": [
      "Epoch 1: 100%|█████████████████████████████████████████████████████████████████████████████████████████████████████████████| 251/251 [00:20<00:00, 12.03it/s, loss=0.498]\n"
     ]
    },
    {
     "name": "stdout",
     "output_type": "stream",
     "text": [
      "Epoch 1, Train Loss: 0.5874, Val Loss: 0.5674\n"
     ]
    },
    {
     "name": "stderr",
     "output_type": "stream",
     "text": [
      "Epoch 2: 100%|██████████████████████████████████████████████████████████████████████████████████████████████████████████████| 251/251 [00:20<00:00, 12.03it/s, loss=0.64]\n"
     ]
    },
    {
     "name": "stdout",
     "output_type": "stream",
     "text": [
      "Epoch 2, Train Loss: 0.5438, Val Loss: 0.5994\n"
     ]
    },
    {
     "name": "stderr",
     "output_type": "stream",
     "text": [
      "Epoch 3: 100%|█████████████████████████████████████████████████████████████████████████████████████████████████████████████| 251/251 [00:21<00:00, 11.91it/s, loss=0.652]\n"
     ]
    },
    {
     "name": "stdout",
     "output_type": "stream",
     "text": [
      "Epoch 3, Train Loss: 0.5143, Val Loss: 0.6409\n"
     ]
    },
    {
     "name": "stderr",
     "output_type": "stream",
     "text": [
      "Epoch 4: 100%|█████████████████████████████████████████████████████████████████████████████████████████████████████████████| 251/251 [00:20<00:00, 12.00it/s, loss=0.458]\n"
     ]
    },
    {
     "name": "stdout",
     "output_type": "stream",
     "text": [
      "Epoch 4, Train Loss: 0.5164, Val Loss: 0.6061\n"
     ]
    },
    {
     "name": "stderr",
     "output_type": "stream",
     "text": [
      "Epoch 5: 100%|█████████████████████████████████████████████████████████████████████████████████████████████████████████████| 251/251 [00:20<00:00, 12.02it/s, loss=0.478]\n"
     ]
    },
    {
     "name": "stdout",
     "output_type": "stream",
     "text": [
      "Epoch 5, Train Loss: 0.4907, Val Loss: 0.5887\n"
     ]
    },
    {
     "name": "stderr",
     "output_type": "stream",
     "text": [
      "Epoch 6: 100%|█████████████████████████████████████████████████████████████████████████████████████████████████████████████| 251/251 [00:20<00:00, 11.96it/s, loss=0.519]\n"
     ]
    },
    {
     "name": "stdout",
     "output_type": "stream",
     "text": [
      "Early stopping....\n",
      "best val loss is 0.5674418736071813\n",
      "Utilising cuda\n"
     ]
    }
   ],
   "source": [
    "model_name =  'main_rnn'\n",
    "embedding_dim = 512\n",
    "hidden_layers = 2\n",
    "hidden_dim = 768\n",
    "bidirectionality = False\n",
    "model = RNNModel(len(dataset.vocabulary_words), 1, hidden_dim, hidden_layers,bidirectionality=bidirectionality, embedding_dim=embedding_dim, rnn_type='rnn')\n",
    "train_loss_epoch_wise, val_loss_epoch_wise, val_accuracies_epoch_wise = train(model, model_name, n_epochs=20)\n",
    "accuracy_val, accuracy_test = test(model, model_name)"
   ]
  },
  {
   "cell_type": "code",
   "execution_count": 55,
   "id": "9d8d1be0-c3b8-4dce-9a3a-19f3306cb7a7",
   "metadata": {},
   "outputs": [
    {
     "data": {
      "image/png": "[encoded data removed]",
      "text/plain": [
       "<Figure size 640x480 with 1 Axes>"
      ]
     },
     "metadata": {},
     "output_type": "display_data"
    }
   ],
   "source": [
    "# plot training and validation losses\n",
    "import matplotlib.pyplot as plt\n",
    "\n",
    "plt.plot(range(1, len(train_loss_epoch_wise)+1), train_loss_epoch_wise, label='Train Loss')\n",
    "plt.plot(range(1, len(train_loss_epoch_wise)+1), val_loss_epoch_wise, label='Val Loss')\n",
    "plt.xlabel('Epoch')\n",
    "plt.ylabel('Loss')\n",
    "plt.title('Training and Validation Loss')\n",
    "plt.legend()\n",
    "plt.show()"
   ]
  },
  {
   "cell_type": "code",
   "execution_count": 56,
   "id": "3a1ecc03-a148-41c8-b108-114f3a35147c",
   "metadata": {},
   "outputs": [
    {
     "data": {
      "image/png": "[encoded data removed]",
      "text/plain": [
       "<Figure size 640x480 with 1 Axes>"
      ]
     },
     "metadata": {},
     "output_type": "display_data"
    }
   ],
   "source": [
    "# plot validation accuracy\n",
    "plt.plot(range(1, len(val_accuracies_epoch_wise)+1), val_accuracies_epoch_wise, label='Train Loss')\n",
    "plt.xlabel('Epoch')\n",
    "plt.ylabel('Val accuracy')\n",
    "plt.title('Validation accuracy')\n",
    "plt.show()"
   ]
  },
  {
   "cell_type": "code",
   "execution_count": 59,
   "id": "2a016482-5ba8-4b1e-8fbd-31a7ba102c81",
   "metadata": {},
   "outputs": [
    {
     "name": "stdout",
     "output_type": "stream",
     "text": [
      "Final Validation accuracy is 72.07274539113104\n",
      "Final Test accuracy is 71.86192468619247\n"
     ]
    }
   ],
   "source": [
    "# find the classification accuracy on test set\n",
    "print(f\"Final Validation accuracy is {accuracy_val*100}\")\n",
    "print(f\"Final Test accuracy is {accuracy_test*100}\")\n"
   ]
  },
  {
   "cell_type": "markdown",
   "id": "b64b3465-04c8-453f-918a-271fc86e0aeb",
   "metadata": {},
   "source": [
    "#### 1.2 Incorporate stemming/lemmatization when doing text preprocessing using the NLTK library. What changes do you observe in accuracy ?"
   ]
  },
  {
   "cell_type": "code",
   "execution_count": 60,
   "id": "8cda00c4-dfc1-4b2c-ad66-eb6b19a31cfc",
   "metadata": {},
   "outputs": [],
   "source": [
    "dataset = IMDBDataset(imdb_dataset['train'], stemming=True)\n",
    "test_dataset = IMDBDataset(imdb_dataset['test'],vocabulary_words=dataset.vocabulary_words, stemming=True)\n"
   ]
  },
  {
   "cell_type": "code",
   "execution_count": 61,
   "id": "2ff177c7-5ef5-4329-8c18-f6fd810f00f4",
   "metadata": {},
   "outputs": [],
   "source": [
    "train_size, val_size = 0.8, 0.2\n",
    "batch_size = 64\n",
    "\n",
    "train_dataset, val_dataset = random_split(dataset, [train_size, val_size])\n",
    "\n",
    "train_loader = DataLoader(train_dataset, batch_size=batch_size, shuffle=True, collate_fn=dataset.collate)\n",
    "val_loader = DataLoader(val_dataset, batch_size=batch_size, shuffle=False, collate_fn=dataset.collate)\n",
    "test_loader = DataLoader(test_dataset, batch_size=batch_size, shuffle=False, collate_fn=dataset.collate)"
   ]
  },
  {
   "cell_type": "code",
   "execution_count": 62,
   "id": "d83bc809-93b5-4eda-b15d-9e85c2a594c2",
   "metadata": {},
   "outputs": [
    {
     "name": "stdout",
     "output_type": "stream",
     "text": [
      "Utilising cuda\n"
     ]
    },
    {
     "name": "stderr",
     "output_type": "stream",
     "text": [
      "Epoch 0: 100%|█████████████████████████████████████████████████████████████████████████████████████████████████████████████| 251/251 [00:20<00:00, 12.29it/s, loss=0.648]\n"
     ]
    },
    {
     "name": "stdout",
     "output_type": "stream",
     "text": [
      "Epoch 0, Train Loss: 0.6623, Val Loss: 0.6413\n"
     ]
    },
    {
     "name": "stderr",
     "output_type": "stream",
     "text": [
      "Epoch 1: 100%|█████████████████████████████████████████████████████████████████████████████████████████████████████████████| 251/251 [00:20<00:00, 12.29it/s, loss=0.381]\n"
     ]
    },
    {
     "name": "stdout",
     "output_type": "stream",
     "text": [
      "Epoch 1, Train Loss: 0.5929, Val Loss: 0.5620\n"
     ]
    },
    {
     "name": "stderr",
     "output_type": "stream",
     "text": [
      "Epoch 2: 100%|█████████████████████████████████████████████████████████████████████████████████████████████████████████████| 251/251 [00:20<00:00, 12.16it/s, loss=0.491]\n"
     ]
    },
    {
     "name": "stdout",
     "output_type": "stream",
     "text": [
      "Epoch 2, Train Loss: 0.5385, Val Loss: 0.5332\n"
     ]
    },
    {
     "name": "stderr",
     "output_type": "stream",
     "text": [
      "Epoch 3: 100%|█████████████████████████████████████████████████████████████████████████████████████████████████████████████| 251/251 [00:20<00:00, 12.27it/s, loss=0.668]\n"
     ]
    },
    {
     "name": "stdout",
     "output_type": "stream",
     "text": [
      "Epoch 3, Train Loss: 0.5386, Val Loss: 0.6576\n"
     ]
    },
    {
     "name": "stderr",
     "output_type": "stream",
     "text": [
      "Epoch 4: 100%|█████████████████████████████████████████████████████████████████████████████████████████████████████████████| 251/251 [00:20<00:00, 12.29it/s, loss=0.525]\n"
     ]
    },
    {
     "name": "stdout",
     "output_type": "stream",
     "text": [
      "Epoch 4, Train Loss: 0.5189, Val Loss: 0.6220\n"
     ]
    },
    {
     "name": "stderr",
     "output_type": "stream",
     "text": [
      "Epoch 5: 100%|█████████████████████████████████████████████████████████████████████████████████████████████████████████████| 251/251 [00:20<00:00, 12.04it/s, loss=0.422]\n"
     ]
    },
    {
     "name": "stdout",
     "output_type": "stream",
     "text": [
      "Epoch 5, Train Loss: 0.4815, Val Loss: 0.6142\n"
     ]
    },
    {
     "name": "stderr",
     "output_type": "stream",
     "text": [
      "Epoch 6: 100%|█████████████████████████████████████████████████████████████████████████████████████████████████████████████| 251/251 [00:20<00:00, 12.11it/s, loss=0.306]\n"
     ]
    },
    {
     "name": "stdout",
     "output_type": "stream",
     "text": [
      "Epoch 6, Train Loss: 0.4476, Val Loss: 0.5445\n"
     ]
    },
    {
     "name": "stderr",
     "output_type": "stream",
     "text": [
      "Epoch 7: 100%|█████████████████████████████████████████████████████████████████████████████████████████████████████████████| 251/251 [00:20<00:00, 12.16it/s, loss=0.328]\n"
     ]
    },
    {
     "name": "stdout",
     "output_type": "stream",
     "text": [
      "Early stopping....\n",
      "best val loss is 0.5331530372301737\n",
      "Utilising cuda\n"
     ]
    }
   ],
   "source": [
    "model_name =  'main_rnn_stemming'\n",
    "embedding_dim = 512\n",
    "hidden_layers = 2\n",
    "hidden_dim = 768\n",
    "bidirectionality = False\n",
    "model = RNNModel(len(dataset.vocabulary_words), 1, hidden_dim, hidden_layers,bidirectionality=bidirectionality, embedding_dim=embedding_dim, rnn_type='rnn')\n",
    "train_loss_epoch_wise, val_loss_epoch_wise, val_accuracies_epoch_wise = train(model, model_name, n_epochs=20)\n",
    "accuracy_val, accuracy_test = test(model, model_name)"
   ]
  },
  {
   "cell_type": "code",
   "execution_count": 65,
   "id": "b8bcb3ce-f30d-4291-ac9a-1fdbf8cddbdb",
   "metadata": {},
   "outputs": [
    {
     "name": "stdout",
     "output_type": "stream",
     "text": [
      "Final Validation accuracy is 75.11210762331838\n",
      "Final Test accuracy is 74.96015142458657\n",
      "Accuracy improved about 3% when stemming performed in data pre-processing\n"
     ]
    }
   ],
   "source": [
    "print(f\"Final Validation accuracy is {accuracy_val*100}\")\n",
    "print(f\"Final Test accuracy is {accuracy_test*100}\")\n",
    "print(\"Accuracy improved about 3% when stemming performed in data pre-processing\")"
   ]
  },
  {
   "cell_type": "markdown",
   "id": "36b53d0b-feb8-46c3-9033-12f4a2caa2cd",
   "metadata": {},
   "source": [
    "#### 1.3 In the Model class, experiment with only picking the last output and mean of all outputs in the RNN layer. What changes do you observe ?"
   ]
  },
  {
   "cell_type": "code",
   "execution_count": 67,
   "id": "e2d77161-29e0-41a3-b814-1483d50f859c",
   "metadata": {},
   "outputs": [
    {
     "name": "stdout",
     "output_type": "stream",
     "text": [
      "Utilising cuda\n"
     ]
    },
    {
     "name": "stderr",
     "output_type": "stream",
     "text": [
      "Epoch 0: 100%|█████████████████████████████████████████████████████████████████████████████████████████████████████████████| 251/251 [00:20<00:00, 12.27it/s, loss=0.741]\n"
     ]
    },
    {
     "name": "stdout",
     "output_type": "stream",
     "text": [
      "Epoch 0, Train Loss: 0.6925, Val Loss: 0.6866\n"
     ]
    },
    {
     "name": "stderr",
     "output_type": "stream",
     "text": [
      "Epoch 1: 100%|███████████████████████████████████████████████████████████████████████████████████████████████████████████████| 251/251 [00:20<00:00, 12.28it/s, loss=0.6]\n"
     ]
    },
    {
     "name": "stdout",
     "output_type": "stream",
     "text": [
      "Epoch 1, Train Loss: 0.5425, Val Loss: 0.4830\n"
     ]
    },
    {
     "name": "stderr",
     "output_type": "stream",
     "text": [
      "Epoch 2: 100%|█████████████████████████████████████████████████████████████████████████████████████████████████████████████| 251/251 [00:20<00:00, 12.12it/s, loss=0.585]\n"
     ]
    },
    {
     "name": "stdout",
     "output_type": "stream",
     "text": [
      "Epoch 2, Train Loss: 0.4400, Val Loss: 0.4529\n"
     ]
    },
    {
     "name": "stderr",
     "output_type": "stream",
     "text": [
      "Epoch 3: 100%|██████████████████████████████████████████████████████████████████████████████████████████████████████████████| 251/251 [00:20<00:00, 12.11it/s, loss=0.41]\n"
     ]
    },
    {
     "name": "stdout",
     "output_type": "stream",
     "text": [
      "Epoch 3, Train Loss: 0.3988, Val Loss: 0.4123\n"
     ]
    },
    {
     "name": "stderr",
     "output_type": "stream",
     "text": [
      "Epoch 4: 100%|█████████████████████████████████████████████████████████████████████████████████████████████████████████████| 251/251 [00:20<00:00, 12.15it/s, loss=0.384]\n"
     ]
    },
    {
     "name": "stdout",
     "output_type": "stream",
     "text": [
      "Epoch 4, Train Loss: 0.3584, Val Loss: 0.4058\n"
     ]
    },
    {
     "name": "stderr",
     "output_type": "stream",
     "text": [
      "Epoch 5: 100%|█████████████████████████████████████████████████████████████████████████████████████████████████████████████| 251/251 [00:20<00:00, 12.07it/s, loss=0.229]\n"
     ]
    },
    {
     "name": "stdout",
     "output_type": "stream",
     "text": [
      "Epoch 5, Train Loss: 0.3302, Val Loss: 0.3966\n"
     ]
    },
    {
     "name": "stderr",
     "output_type": "stream",
     "text": [
      "Epoch 6: 100%|█████████████████████████████████████████████████████████████████████████████████████████████████████████████| 251/251 [00:20<00:00, 12.05it/s, loss=0.344]\n"
     ]
    },
    {
     "name": "stdout",
     "output_type": "stream",
     "text": [
      "Epoch 6, Train Loss: 0.3110, Val Loss: 0.3937\n"
     ]
    },
    {
     "name": "stderr",
     "output_type": "stream",
     "text": [
      "Epoch 7: 100%|█████████████████████████████████████████████████████████████████████████████████████████████████████████████| 251/251 [00:20<00:00, 12.10it/s, loss=0.372]\n"
     ]
    },
    {
     "name": "stdout",
     "output_type": "stream",
     "text": [
      "Epoch 7, Train Loss: 0.2738, Val Loss: 0.3923\n"
     ]
    },
    {
     "name": "stderr",
     "output_type": "stream",
     "text": [
      "Epoch 8: 100%|█████████████████████████████████████████████████████████████████████████████████████████████████████████████| 251/251 [00:20<00:00, 12.02it/s, loss=0.239]\n"
     ]
    },
    {
     "name": "stdout",
     "output_type": "stream",
     "text": [
      "Epoch 8, Train Loss: 0.2468, Val Loss: 0.4301\n"
     ]
    },
    {
     "name": "stderr",
     "output_type": "stream",
     "text": [
      "Epoch 9: 100%|█████████████████████████████████████████████████████████████████████████████████████████████████████████████| 251/251 [00:20<00:00, 12.00it/s, loss=0.156]\n"
     ]
    },
    {
     "name": "stdout",
     "output_type": "stream",
     "text": [
      "Epoch 9, Train Loss: 0.2229, Val Loss: 0.3947\n"
     ]
    },
    {
     "name": "stderr",
     "output_type": "stream",
     "text": [
      "Epoch 10: 100%|████████████████████████████████████████████████████████████████████████████████████████████████████████████| 251/251 [00:20<00:00, 12.06it/s, loss=0.121]\n"
     ]
    },
    {
     "name": "stdout",
     "output_type": "stream",
     "text": [
      "Epoch 10, Train Loss: 0.1972, Val Loss: 0.4233\n"
     ]
    },
    {
     "name": "stderr",
     "output_type": "stream",
     "text": [
      "Epoch 11: 100%|████████████████████████████████████████████████████████████████████████████████████████████████████████████| 251/251 [00:20<00:00, 12.00it/s, loss=0.129]\n"
     ]
    },
    {
     "name": "stdout",
     "output_type": "stream",
     "text": [
      "Epoch 11, Train Loss: 0.1750, Val Loss: 0.3719\n"
     ]
    },
    {
     "name": "stderr",
     "output_type": "stream",
     "text": [
      "Epoch 12: 100%|█████████████████████████████████████████████████████████████████████████████████████████████████████████████| 251/251 [00:20<00:00, 12.00it/s, loss=0.26]\n"
     ]
    },
    {
     "name": "stdout",
     "output_type": "stream",
     "text": [
      "Epoch 12, Train Loss: 0.1469, Val Loss: 0.4747\n"
     ]
    },
    {
     "name": "stderr",
     "output_type": "stream",
     "text": [
      "Epoch 13: 100%|█████████████████████████████████████████████████████████████████████████████████████████████████████████████| 251/251 [00:20<00:00, 12.31it/s, loss=0.29]\n"
     ]
    },
    {
     "name": "stdout",
     "output_type": "stream",
     "text": [
      "Epoch 13, Train Loss: 0.1250, Val Loss: 0.4331\n"
     ]
    },
    {
     "name": "stderr",
     "output_type": "stream",
     "text": [
      "Epoch 14: 100%|████████████████████████████████████████████████████████████████████████████████████████████████████████████| 251/251 [00:20<00:00, 12.45it/s, loss=0.128]\n"
     ]
    },
    {
     "name": "stdout",
     "output_type": "stream",
     "text": [
      "Epoch 14, Train Loss: 0.1036, Val Loss: 0.4490\n"
     ]
    },
    {
     "name": "stderr",
     "output_type": "stream",
     "text": [
      "Epoch 15: 100%|████████████████████████████████████████████████████████████████████████████████████████████████████████████| 251/251 [00:19<00:00, 12.63it/s, loss=0.088]\n"
     ]
    },
    {
     "name": "stdout",
     "output_type": "stream",
     "text": [
      "Epoch 15, Train Loss: 0.0808, Val Loss: 0.5065\n"
     ]
    },
    {
     "name": "stderr",
     "output_type": "stream",
     "text": [
      "Epoch 16: 100%|███████████████████████████████████████████████████████████████████████████████████████████████████████████| 251/251 [00:19<00:00, 12.69it/s, loss=0.0741]\n"
     ]
    },
    {
     "name": "stdout",
     "output_type": "stream",
     "text": [
      "Early stopping....\n",
      "best val loss is 0.3718691368897756\n",
      "Utilising cuda\n"
     ]
    }
   ],
   "source": [
    "model_name =  'main_rnn_stemming_mean'\n",
    "embedding_dim = 512\n",
    "hidden_layers = 2\n",
    "hidden_dim = 768\n",
    "bidirectionality = False\n",
    "model = RNNModel(len(dataset.vocabulary_words), 1, hidden_dim, hidden_layers,bidirectionality=bidirectionality, embedding_dim=embedding_dim, rnn_type='rnn', what_to_pick='mean')\n",
    "train_loss_epoch_wise, val_loss_epoch_wise, val_accuracies_epoch_wise = train(model, model_name, n_epochs=20)\n",
    "accuracy_val, accuracy_test = test(model, model_name)"
   ]
  },
  {
   "cell_type": "code",
   "execution_count": 69,
   "id": "711dcc46-a8ae-4bdd-8045-edbcf17926b6",
   "metadata": {},
   "outputs": [
    {
     "name": "stdout",
     "output_type": "stream",
     "text": [
      "Final Validation accuracy is 84.42949676133532\n",
      "Final Test accuracy is 80.98226738394102\n",
      "Accuracy improved about 6% when picked mean instead of last layer.\n",
      "The above models trained by picking last layer, so just performed with mean.\n"
     ]
    }
   ],
   "source": [
    "print(f\"Final Validation accuracy is {accuracy_val*100}\")\n",
    "print(f\"Final Test accuracy is {accuracy_test*100}\")\n",
    "print(\"Accuracy improved about 6% when picked mean instead of last layer.\\nThe above models trained by picking last layer, so just performed with mean.\")"
   ]
  },
  {
   "cell_type": "markdown",
   "id": "ac4b5aa1-90ca-4a78-8931-805dfd123fa8",
   "metadata": {},
   "source": [
    "### 2. Hyperparameter Tuning\n",
    "#### 2.1 Starting with the best configurations based on the above experiments, experiment with 5 different hyperparameter configurations. You can change the size of embedding layer, hidden state, batch in the dataloader.\n"
   ]
  },
  {
   "cell_type": "code",
   "execution_count": 76,
   "id": "5324dffb-e784-4663-bc12-e073e5f2cc0c",
   "metadata": {},
   "outputs": [],
   "source": [
    "model_configs_rnn = {\n",
    "    'model_1':{\n",
    "        'hidden_layers':1,\n",
    "        'hidden_dim':128,\n",
    "        'embedding_size':128,\n",
    "        'bidirectionality':False\n",
    "    },\n",
    "    'model_2':{\n",
    "        'hidden_layers':2,\n",
    "        'hidden_dim':256,\n",
    "        'embedding_size':512,\n",
    "        'bidirectionality':False\n",
    "        },\n",
    "    'model_3':{\n",
    "        'hidden_layers':3,\n",
    "        'hidden_dim':512,\n",
    "        'embedding_size':128,\n",
    "        'bidirectionality':False\n",
    "    },\n",
    "    'model_4':{\n",
    "        'hidden_layers':7,\n",
    "        'hidden_dim':256,\n",
    "        'embedding_size':128,\n",
    "        'bidirectionality':False\n",
    "    },\n",
    "    'model_5':{\n",
    "        'hidden_layers':10,\n",
    "        'hidden_dim':512,\n",
    "        'embedding_size':512,\n",
    "        'bidirectionality':False\n",
    "    }\n",
    "}"
   ]
  },
  {
   "cell_type": "code",
   "execution_count": 77,
   "id": "b80fa69d-a467-4849-80e2-2618df83f193",
   "metadata": {},
   "outputs": [
    {
     "name": "stdout",
     "output_type": "stream",
     "text": [
      "model_1\n",
      "Utilising cuda\n"
     ]
    },
    {
     "name": "stderr",
     "output_type": "stream",
     "text": [
      "Epoch 0: 100%|█████████████████████████████████████████████████████████████████████████████████████████████████████████████| 251/251 [00:03<00:00, 77.20it/s, loss=0.712]\n"
     ]
    },
    {
     "name": "stdout",
     "output_type": "stream",
     "text": [
      "Epoch 0, Train Loss: 0.6928, Val Loss: 0.6901\n"
     ]
    },
    {
     "name": "stderr",
     "output_type": "stream",
     "text": [
      "Epoch 1: 100%|█████████████████████████████████████████████████████████████████████████████████████████████████████████████| 251/251 [00:03<00:00, 78.42it/s, loss=0.675]\n"
     ]
    },
    {
     "name": "stdout",
     "output_type": "stream",
     "text": [
      "Epoch 1, Train Loss: 0.6891, Val Loss: 0.6847\n"
     ]
    },
    {
     "name": "stderr",
     "output_type": "stream",
     "text": [
      "Epoch 2: 100%|█████████████████████████████████████████████████████████████████████████████████████████████████████████████| 251/251 [00:03<00:00, 79.21it/s, loss=0.622]\n"
     ]
    },
    {
     "name": "stdout",
     "output_type": "stream",
     "text": [
      "Epoch 2, Train Loss: 0.6757, Val Loss: 0.6151\n"
     ]
    },
    {
     "name": "stderr",
     "output_type": "stream",
     "text": [
      "Epoch 3: 100%|█████████████████████████████████████████████████████████████████████████████████████████████████████████████| 251/251 [00:03<00:00, 79.62it/s, loss=0.557]\n"
     ]
    },
    {
     "name": "stdout",
     "output_type": "stream",
     "text": [
      "Epoch 3, Train Loss: 0.6033, Val Loss: 0.5819\n"
     ]
    },
    {
     "name": "stderr",
     "output_type": "stream",
     "text": [
      "Epoch 4: 100%|█████████████████████████████████████████████████████████████████████████████████████████████████████████████| 251/251 [00:03<00:00, 79.23it/s, loss=0.563]\n"
     ]
    },
    {
     "name": "stdout",
     "output_type": "stream",
     "text": [
      "Epoch 4, Train Loss: 0.5790, Val Loss: 0.5692\n"
     ]
    },
    {
     "name": "stderr",
     "output_type": "stream",
     "text": [
      "Epoch 5: 100%|█████████████████████████████████████████████████████████████████████████████████████████████████████████████| 251/251 [00:03<00:00, 75.35it/s, loss=0.527]\n"
     ]
    },
    {
     "name": "stdout",
     "output_type": "stream",
     "text": [
      "Epoch 5, Train Loss: 0.5502, Val Loss: 0.5437\n"
     ]
    },
    {
     "name": "stderr",
     "output_type": "stream",
     "text": [
      "Epoch 6: 100%|█████████████████████████████████████████████████████████████████████████████████████████████████████████████| 251/251 [00:03<00:00, 76.59it/s, loss=0.639]\n"
     ]
    },
    {
     "name": "stdout",
     "output_type": "stream",
     "text": [
      "Epoch 6, Train Loss: 0.5258, Val Loss: 0.5362\n"
     ]
    },
    {
     "name": "stderr",
     "output_type": "stream",
     "text": [
      "Epoch 7: 100%|█████████████████████████████████████████████████████████████████████████████████████████████████████████████| 251/251 [00:02<00:00, 92.56it/s, loss=0.487]\n"
     ]
    },
    {
     "name": "stdout",
     "output_type": "stream",
     "text": [
      "Epoch 7, Train Loss: 0.5057, Val Loss: 0.5181\n"
     ]
    },
    {
     "name": "stderr",
     "output_type": "stream",
     "text": [
      "Epoch 8: 100%|█████████████████████████████████████████████████████████████████████████████████████████████████████████████| 251/251 [00:02<00:00, 92.53it/s, loss=0.555]\n"
     ]
    },
    {
     "name": "stdout",
     "output_type": "stream",
     "text": [
      "Epoch 8, Train Loss: 0.4888, Val Loss: 0.5037\n"
     ]
    },
    {
     "name": "stderr",
     "output_type": "stream",
     "text": [
      "Epoch 9: 100%|█████████████████████████████████████████████████████████████████████████████████████████████████████████████| 251/251 [00:02<00:00, 90.95it/s, loss=0.421]\n"
     ]
    },
    {
     "name": "stdout",
     "output_type": "stream",
     "text": [
      "Epoch 9, Train Loss: 0.4687, Val Loss: 0.4917\n"
     ]
    },
    {
     "name": "stderr",
     "output_type": "stream",
     "text": [
      "Epoch 10: 100%|████████████████████████████████████████████████████████████████████████████████████████████████████████████| 251/251 [00:03<00:00, 75.27it/s, loss=0.423]\n"
     ]
    },
    {
     "name": "stdout",
     "output_type": "stream",
     "text": [
      "Epoch 10, Train Loss: 0.4529, Val Loss: 0.4816\n"
     ]
    },
    {
     "name": "stderr",
     "output_type": "stream",
     "text": [
      "Epoch 11: 100%|████████████████████████████████████████████████████████████████████████████████████████████████████████████| 251/251 [00:03<00:00, 77.53it/s, loss=0.389]\n"
     ]
    },
    {
     "name": "stdout",
     "output_type": "stream",
     "text": [
      "Epoch 11, Train Loss: 0.4379, Val Loss: 0.4782\n"
     ]
    },
    {
     "name": "stderr",
     "output_type": "stream",
     "text": [
      "Epoch 12: 100%|█████████████████████████████████████████████████████████████████████████████████████████████████████████████| 251/251 [00:03<00:00, 78.54it/s, loss=0.51]\n"
     ]
    },
    {
     "name": "stdout",
     "output_type": "stream",
     "text": [
      "Epoch 12, Train Loss: 0.4251, Val Loss: 0.4719\n"
     ]
    },
    {
     "name": "stderr",
     "output_type": "stream",
     "text": [
      "Epoch 13: 100%|████████████████████████████████████████████████████████████████████████████████████████████████████████████| 251/251 [00:03<00:00, 78.04it/s, loss=0.392]\n"
     ]
    },
    {
     "name": "stdout",
     "output_type": "stream",
     "text": [
      "Epoch 13, Train Loss: 0.4078, Val Loss: 0.4570\n"
     ]
    },
    {
     "name": "stderr",
     "output_type": "stream",
     "text": [
      "Epoch 14: 100%|████████████████████████████████████████████████████████████████████████████████████████████████████████████| 251/251 [00:03<00:00, 78.91it/s, loss=0.363]\n"
     ]
    },
    {
     "name": "stdout",
     "output_type": "stream",
     "text": [
      "Epoch 14, Train Loss: 0.3934, Val Loss: 0.4526\n"
     ]
    },
    {
     "name": "stderr",
     "output_type": "stream",
     "text": [
      "Epoch 15: 100%|████████████████████████████████████████████████████████████████████████████████████████████████████████████| 251/251 [00:03<00:00, 79.09it/s, loss=0.465]\n"
     ]
    },
    {
     "name": "stdout",
     "output_type": "stream",
     "text": [
      "Epoch 15, Train Loss: 0.3832, Val Loss: 0.4609\n"
     ]
    },
    {
     "name": "stderr",
     "output_type": "stream",
     "text": [
      "Epoch 16: 100%|████████████████████████████████████████████████████████████████████████████████████████████████████████████| 251/251 [00:03<00:00, 79.13it/s, loss=0.419]\n"
     ]
    },
    {
     "name": "stdout",
     "output_type": "stream",
     "text": [
      "Epoch 16, Train Loss: 0.3714, Val Loss: 0.4367\n"
     ]
    },
    {
     "name": "stderr",
     "output_type": "stream",
     "text": [
      "Epoch 17: 100%|████████████████████████████████████████████████████████████████████████████████████████████████████████████| 251/251 [00:03<00:00, 78.17it/s, loss=0.352]\n"
     ]
    },
    {
     "name": "stdout",
     "output_type": "stream",
     "text": [
      "Epoch 17, Train Loss: 0.3583, Val Loss: 0.4480\n"
     ]
    },
    {
     "name": "stderr",
     "output_type": "stream",
     "text": [
      "Epoch 18: 100%|█████████████████████████████████████████████████████████████████████████████████████████████████████████████| 251/251 [00:03<00:00, 73.54it/s, loss=0.33]\n"
     ]
    },
    {
     "name": "stdout",
     "output_type": "stream",
     "text": [
      "Epoch 18, Train Loss: 0.3479, Val Loss: 0.4598\n"
     ]
    },
    {
     "name": "stderr",
     "output_type": "stream",
     "text": [
      "Epoch 19: 100%|████████████████████████████████████████████████████████████████████████████████████████████████████████████| 251/251 [00:03<00:00, 77.58it/s, loss=0.301]\n"
     ]
    },
    {
     "name": "stdout",
     "output_type": "stream",
     "text": [
      "Epoch 19, Train Loss: 0.3377, Val Loss: 0.4249\n",
      "best val loss is 0.4249321543981159\n",
      "Utilising cuda\n",
      "Final Validation accuracy with model_1 is 81.7887394120578\n",
      "Final Test accuracy with model_1 is 80.60370591751345\n",
      "model_2\n",
      "Utilising cuda\n"
     ]
    },
    {
     "name": "stderr",
     "output_type": "stream",
     "text": [
      "Epoch 0: 100%|█████████████████████████████████████████████████████████████████████████████████████████████████████████████| 251/251 [00:05<00:00, 47.17it/s, loss=0.678]\n"
     ]
    },
    {
     "name": "stdout",
     "output_type": "stream",
     "text": [
      "Epoch 0, Train Loss: 0.6911, Val Loss: 0.6732\n"
     ]
    },
    {
     "name": "stderr",
     "output_type": "stream",
     "text": [
      "Epoch 1: 100%|█████████████████████████████████████████████████████████████████████████████████████████████████████████████| 251/251 [00:05<00:00, 48.58it/s, loss=0.604]\n"
     ]
    },
    {
     "name": "stdout",
     "output_type": "stream",
     "text": [
      "Epoch 1, Train Loss: 0.5704, Val Loss: 0.5041\n"
     ]
    },
    {
     "name": "stderr",
     "output_type": "stream",
     "text": [
      "Epoch 2: 100%|█████████████████████████████████████████████████████████████████████████████████████████████████████████████| 251/251 [00:05<00:00, 47.76it/s, loss=0.373]\n"
     ]
    },
    {
     "name": "stdout",
     "output_type": "stream",
     "text": [
      "Epoch 2, Train Loss: 0.4666, Val Loss: 0.4690\n"
     ]
    },
    {
     "name": "stderr",
     "output_type": "stream",
     "text": [
      "Epoch 3: 100%|█████████████████████████████████████████████████████████████████████████████████████████████████████████████| 251/251 [00:05<00:00, 47.55it/s, loss=0.335]\n"
     ]
    },
    {
     "name": "stdout",
     "output_type": "stream",
     "text": [
      "Epoch 3, Train Loss: 0.4055, Val Loss: 0.4362\n"
     ]
    },
    {
     "name": "stderr",
     "output_type": "stream",
     "text": [
      "Epoch 4: 100%|█████████████████████████████████████████████████████████████████████████████████████████████████████████████| 251/251 [00:05<00:00, 47.42it/s, loss=0.348]\n"
     ]
    },
    {
     "name": "stdout",
     "output_type": "stream",
     "text": [
      "Epoch 4, Train Loss: 0.3654, Val Loss: 0.4279\n"
     ]
    },
    {
     "name": "stderr",
     "output_type": "stream",
     "text": [
      "Epoch 5: 100%|█████████████████████████████████████████████████████████████████████████████████████████████████████████████| 251/251 [00:05<00:00, 47.19it/s, loss=0.304]\n"
     ]
    },
    {
     "name": "stdout",
     "output_type": "stream",
     "text": [
      "Epoch 5, Train Loss: 0.3360, Val Loss: 0.4528\n"
     ]
    },
    {
     "name": "stderr",
     "output_type": "stream",
     "text": [
      "Epoch 6: 100%|█████████████████████████████████████████████████████████████████████████████████████████████████████████████| 251/251 [00:05<00:00, 47.56it/s, loss=0.285]\n"
     ]
    },
    {
     "name": "stdout",
     "output_type": "stream",
     "text": [
      "Epoch 6, Train Loss: 0.3067, Val Loss: 0.4012\n"
     ]
    },
    {
     "name": "stderr",
     "output_type": "stream",
     "text": [
      "Epoch 7: 100%|█████████████████████████████████████████████████████████████████████████████████████████████████████████████| 251/251 [00:05<00:00, 48.96it/s, loss=0.487]\n"
     ]
    },
    {
     "name": "stdout",
     "output_type": "stream",
     "text": [
      "Epoch 7, Train Loss: 0.2805, Val Loss: 0.4286\n"
     ]
    },
    {
     "name": "stderr",
     "output_type": "stream",
     "text": [
      "Epoch 8: 100%|█████████████████████████████████████████████████████████████████████████████████████████████████████████████| 251/251 [00:05<00:00, 48.26it/s, loss=0.278]\n"
     ]
    },
    {
     "name": "stdout",
     "output_type": "stream",
     "text": [
      "Epoch 8, Train Loss: 0.2576, Val Loss: 0.4331\n"
     ]
    },
    {
     "name": "stderr",
     "output_type": "stream",
     "text": [
      "Epoch 9: 100%|█████████████████████████████████████████████████████████████████████████████████████████████████████████████| 251/251 [00:05<00:00, 47.67it/s, loss=0.166]\n"
     ]
    },
    {
     "name": "stdout",
     "output_type": "stream",
     "text": [
      "Epoch 9, Train Loss: 0.2347, Val Loss: 0.4360\n"
     ]
    },
    {
     "name": "stderr",
     "output_type": "stream",
     "text": [
      "Epoch 10: 100%|████████████████████████████████████████████████████████████████████████████████████████████████████████████| 251/251 [00:05<00:00, 48.07it/s, loss=0.208]\n"
     ]
    },
    {
     "name": "stdout",
     "output_type": "stream",
     "text": [
      "Epoch 10, Train Loss: 0.2159, Val Loss: 0.4248\n"
     ]
    },
    {
     "name": "stderr",
     "output_type": "stream",
     "text": [
      "Epoch 11: 100%|██████████████████████████████████████████████████████████████████████████████████████████████████████████████| 251/251 [00:05<00:00, 47.50it/s, loss=0.2]\n"
     ]
    },
    {
     "name": "stdout",
     "output_type": "stream",
     "text": [
      "Early stopping....\n",
      "best val loss is 0.40118585621553754\n",
      "Utilising cuda\n",
      "Final Validation accuracy with model_2 is 83.25859491778775\n",
      "Final Test accuracy with model_2 is 82.43674038653118\n",
      "model_3\n",
      "Utilising cuda\n"
     ]
    },
    {
     "name": "stderr",
     "output_type": "stream",
     "text": [
      "Epoch 0: 100%|█████████████████████████████████████████████████████████████████████████████████████████████████████████████| 251/251 [00:15<00:00, 16.54it/s, loss=0.746]\n"
     ]
    },
    {
     "name": "stdout",
     "output_type": "stream",
     "text": [
      "Epoch 0, Train Loss: 0.6936, Val Loss: 0.6944\n"
     ]
    },
    {
     "name": "stderr",
     "output_type": "stream",
     "text": [
      "Epoch 1: 100%|█████████████████████████████████████████████████████████████████████████████████████████████████████████████| 251/251 [00:15<00:00, 15.79it/s, loss=0.684]\n"
     ]
    },
    {
     "name": "stdout",
     "output_type": "stream",
     "text": [
      "Epoch 1, Train Loss: 0.6824, Val Loss: 0.6382\n"
     ]
    },
    {
     "name": "stderr",
     "output_type": "stream",
     "text": [
      "Epoch 2: 100%|█████████████████████████████████████████████████████████████████████████████████████████████████████████████| 251/251 [00:16<00:00, 15.49it/s, loss=0.631]\n"
     ]
    },
    {
     "name": "stdout",
     "output_type": "stream",
     "text": [
      "Epoch 2, Train Loss: 0.5974, Val Loss: 0.5348\n"
     ]
    },
    {
     "name": "stderr",
     "output_type": "stream",
     "text": [
      "Epoch 3: 100%|█████████████████████████████████████████████████████████████████████████████████████████████████████████████| 251/251 [00:15<00:00, 16.46it/s, loss=0.387]\n"
     ]
    },
    {
     "name": "stdout",
     "output_type": "stream",
     "text": [
      "Epoch 3, Train Loss: 0.5065, Val Loss: 0.5051\n"
     ]
    },
    {
     "name": "stderr",
     "output_type": "stream",
     "text": [
      "Epoch 4: 100%|██████████████████████████████████████████████████████████████████████████████████████████████████████████████| 251/251 [00:15<00:00, 15.74it/s, loss=0.41]\n"
     ]
    },
    {
     "name": "stdout",
     "output_type": "stream",
     "text": [
      "Epoch 4, Train Loss: 0.4646, Val Loss: 0.4705\n"
     ]
    },
    {
     "name": "stderr",
     "output_type": "stream",
     "text": [
      "Epoch 5: 100%|█████████████████████████████████████████████████████████████████████████████████████████████████████████████| 251/251 [00:15<00:00, 15.92it/s, loss=0.424]\n"
     ]
    },
    {
     "name": "stdout",
     "output_type": "stream",
     "text": [
      "Epoch 5, Train Loss: 0.4391, Val Loss: 0.4705\n"
     ]
    },
    {
     "name": "stderr",
     "output_type": "stream",
     "text": [
      "Epoch 6: 100%|█████████████████████████████████████████████████████████████████████████████████████████████████████████████| 251/251 [00:15<00:00, 16.35it/s, loss=0.335]\n"
     ]
    },
    {
     "name": "stdout",
     "output_type": "stream",
     "text": [
      "Epoch 6, Train Loss: 0.4173, Val Loss: 0.4472\n"
     ]
    },
    {
     "name": "stderr",
     "output_type": "stream",
     "text": [
      "Epoch 7: 100%|█████████████████████████████████████████████████████████████████████████████████████████████████████████████| 251/251 [00:15<00:00, 15.78it/s, loss=0.394]\n"
     ]
    },
    {
     "name": "stdout",
     "output_type": "stream",
     "text": [
      "Epoch 7, Train Loss: 0.3962, Val Loss: 0.4381\n"
     ]
    },
    {
     "name": "stderr",
     "output_type": "stream",
     "text": [
      "Epoch 8: 100%|█████████████████████████████████████████████████████████████████████████████████████████████████████████████| 251/251 [00:15<00:00, 16.51it/s, loss=0.316]\n"
     ]
    },
    {
     "name": "stdout",
     "output_type": "stream",
     "text": [
      "Epoch 8, Train Loss: 0.3798, Val Loss: 0.4267\n"
     ]
    },
    {
     "name": "stderr",
     "output_type": "stream",
     "text": [
      "Epoch 9: 100%|█████████████████████████████████████████████████████████████████████████████████████████████████████████████| 251/251 [00:15<00:00, 16.58it/s, loss=0.311]\n"
     ]
    },
    {
     "name": "stdout",
     "output_type": "stream",
     "text": [
      "Epoch 9, Train Loss: 0.3667, Val Loss: 0.4293\n"
     ]
    },
    {
     "name": "stderr",
     "output_type": "stream",
     "text": [
      "Epoch 10: 100%|████████████████████████████████████████████████████████████████████████████████████████████████████████████| 251/251 [00:15<00:00, 16.52it/s, loss=0.361]\n"
     ]
    },
    {
     "name": "stdout",
     "output_type": "stream",
     "text": [
      "Epoch 10, Train Loss: 0.3488, Val Loss: 0.4163\n"
     ]
    },
    {
     "name": "stderr",
     "output_type": "stream",
     "text": [
      "Epoch 11: 100%|████████████████████████████████████████████████████████████████████████████████████████████████████████████| 251/251 [00:15<00:00, 15.69it/s, loss=0.409]\n"
     ]
    },
    {
     "name": "stdout",
     "output_type": "stream",
     "text": [
      "Epoch 11, Train Loss: 0.3325, Val Loss: 0.4090\n"
     ]
    },
    {
     "name": "stderr",
     "output_type": "stream",
     "text": [
      "Epoch 12: 100%|████████████████████████████████████████████████████████████████████████████████████████████████████████████| 251/251 [00:16<00:00, 15.61it/s, loss=0.206]\n"
     ]
    },
    {
     "name": "stdout",
     "output_type": "stream",
     "text": [
      "Epoch 12, Train Loss: 0.3166, Val Loss: 0.4220\n"
     ]
    },
    {
     "name": "stderr",
     "output_type": "stream",
     "text": [
      "Epoch 13: 100%|████████████████████████████████████████████████████████████████████████████████████████████████████████████| 251/251 [00:15<00:00, 16.50it/s, loss=0.206]\n"
     ]
    },
    {
     "name": "stdout",
     "output_type": "stream",
     "text": [
      "Epoch 13, Train Loss: 0.3059, Val Loss: 0.4064\n"
     ]
    },
    {
     "name": "stderr",
     "output_type": "stream",
     "text": [
      "Epoch 14: 100%|████████████████████████████████████████████████████████████████████████████████████████████████████████████| 251/251 [00:15<00:00, 16.68it/s, loss=0.424]\n"
     ]
    },
    {
     "name": "stdout",
     "output_type": "stream",
     "text": [
      "Epoch 14, Train Loss: 0.2931, Val Loss: 0.4077\n"
     ]
    },
    {
     "name": "stderr",
     "output_type": "stream",
     "text": [
      "Epoch 15: 100%|████████████████████████████████████████████████████████████████████████████████████████████████████████████| 251/251 [00:14<00:00, 16.79it/s, loss=0.301]\n"
     ]
    },
    {
     "name": "stdout",
     "output_type": "stream",
     "text": [
      "Epoch 15, Train Loss: 0.2802, Val Loss: 0.4002\n"
     ]
    },
    {
     "name": "stderr",
     "output_type": "stream",
     "text": [
      "Epoch 16: 100%|████████████████████████████████████████████████████████████████████████████████████████████████████████████| 251/251 [00:15<00:00, 16.66it/s, loss=0.232]\n"
     ]
    },
    {
     "name": "stdout",
     "output_type": "stream",
     "text": [
      "Epoch 16, Train Loss: 0.2657, Val Loss: 0.4038\n"
     ]
    },
    {
     "name": "stderr",
     "output_type": "stream",
     "text": [
      "Epoch 17: 100%|████████████████████████████████████████████████████████████████████████████████████████████████████████████| 251/251 [00:15<00:00, 16.43it/s, loss=0.205]\n"
     ]
    },
    {
     "name": "stdout",
     "output_type": "stream",
     "text": [
      "Epoch 17, Train Loss: 0.2488, Val Loss: 0.4275\n"
     ]
    },
    {
     "name": "stderr",
     "output_type": "stream",
     "text": [
      "Epoch 18: 100%|████████████████████████████████████████████████████████████████████████████████████████████████████████████| 251/251 [00:14<00:00, 16.73it/s, loss=0.193]\n"
     ]
    },
    {
     "name": "stdout",
     "output_type": "stream",
     "text": [
      "Epoch 18, Train Loss: 0.2404, Val Loss: 0.3981\n"
     ]
    },
    {
     "name": "stderr",
     "output_type": "stream",
     "text": [
      "Epoch 19: 100%|████████████████████████████████████████████████████████████████████████████████████████████████████████████| 251/251 [00:14<00:00, 16.84it/s, loss=0.323]\n"
     ]
    },
    {
     "name": "stdout",
     "output_type": "stream",
     "text": [
      "Epoch 19, Train Loss: 0.2231, Val Loss: 0.4137\n",
      "best val loss is 0.39812897453232415\n",
      "Utilising cuda\n",
      "Final Validation accuracy with model_3 is 83.70702541106128\n",
      "Final Test accuracy with model_3 is 82.66088862323173\n",
      "model_4\n",
      "Utilising cuda\n"
     ]
    },
    {
     "name": "stderr",
     "output_type": "stream",
     "text": [
      "Epoch 0: 100%|█████████████████████████████████████████████████████████████████████████████████████████████████████████████| 251/251 [00:09<00:00, 27.01it/s, loss=0.694]\n"
     ]
    },
    {
     "name": "stdout",
     "output_type": "stream",
     "text": [
      "Epoch 0, Train Loss: 0.6934, Val Loss: 0.6922\n"
     ]
    },
    {
     "name": "stderr",
     "output_type": "stream",
     "text": [
      "Epoch 1: 100%|█████████████████████████████████████████████████████████████████████████████████████████████████████████████| 251/251 [00:09<00:00, 26.83it/s, loss=0.615]\n"
     ]
    },
    {
     "name": "stdout",
     "output_type": "stream",
     "text": [
      "Epoch 1, Train Loss: 0.6797, Val Loss: 0.6195\n"
     ]
    },
    {
     "name": "stderr",
     "output_type": "stream",
     "text": [
      "Epoch 2: 100%|█████████████████████████████████████████████████████████████████████████████████████████████████████████████| 251/251 [00:09<00:00, 25.80it/s, loss=0.464]\n"
     ]
    },
    {
     "name": "stdout",
     "output_type": "stream",
     "text": [
      "Epoch 2, Train Loss: 0.5779, Val Loss: 0.5447\n"
     ]
    },
    {
     "name": "stderr",
     "output_type": "stream",
     "text": [
      "Epoch 3: 100%|█████████████████████████████████████████████████████████████████████████████████████████████████████████████| 251/251 [00:09<00:00, 26.20it/s, loss=0.534]\n"
     ]
    },
    {
     "name": "stdout",
     "output_type": "stream",
     "text": [
      "Epoch 3, Train Loss: 0.5222, Val Loss: 0.5286\n"
     ]
    },
    {
     "name": "stderr",
     "output_type": "stream",
     "text": [
      "Epoch 4: 100%|█████████████████████████████████████████████████████████████████████████████████████████████████████████████| 251/251 [00:09<00:00, 26.78it/s, loss=0.478]\n"
     ]
    },
    {
     "name": "stdout",
     "output_type": "stream",
     "text": [
      "Epoch 4, Train Loss: 0.4926, Val Loss: 0.4968\n"
     ]
    },
    {
     "name": "stderr",
     "output_type": "stream",
     "text": [
      "Epoch 5: 100%|█████████████████████████████████████████████████████████████████████████████████████████████████████████████| 251/251 [00:09<00:00, 26.78it/s, loss=0.483]\n"
     ]
    },
    {
     "name": "stdout",
     "output_type": "stream",
     "text": [
      "Epoch 5, Train Loss: 0.4641, Val Loss: 0.4821\n"
     ]
    },
    {
     "name": "stderr",
     "output_type": "stream",
     "text": [
      "Epoch 6: 100%|█████████████████████████████████████████████████████████████████████████████████████████████████████████████| 251/251 [00:09<00:00, 26.90it/s, loss=0.473]\n"
     ]
    },
    {
     "name": "stdout",
     "output_type": "stream",
     "text": [
      "Epoch 6, Train Loss: 0.4465, Val Loss: 0.4732\n"
     ]
    },
    {
     "name": "stderr",
     "output_type": "stream",
     "text": [
      "Epoch 7: 100%|█████████████████████████████████████████████████████████████████████████████████████████████████████████████| 251/251 [00:09<00:00, 27.05it/s, loss=0.333]\n"
     ]
    },
    {
     "name": "stdout",
     "output_type": "stream",
     "text": [
      "Epoch 7, Train Loss: 0.4239, Val Loss: 0.4681\n"
     ]
    },
    {
     "name": "stderr",
     "output_type": "stream",
     "text": [
      "Epoch 8: 100%|█████████████████████████████████████████████████████████████████████████████████████████████████████████████| 251/251 [00:09<00:00, 26.63it/s, loss=0.625]\n"
     ]
    },
    {
     "name": "stdout",
     "output_type": "stream",
     "text": [
      "Epoch 8, Train Loss: 0.4058, Val Loss: 0.4632\n"
     ]
    },
    {
     "name": "stderr",
     "output_type": "stream",
     "text": [
      "Epoch 9: 100%|█████████████████████████████████████████████████████████████████████████████████████████████████████████████| 251/251 [00:09<00:00, 26.76it/s, loss=0.271]\n"
     ]
    },
    {
     "name": "stdout",
     "output_type": "stream",
     "text": [
      "Epoch 9, Train Loss: 0.3877, Val Loss: 0.4534\n"
     ]
    },
    {
     "name": "stderr",
     "output_type": "stream",
     "text": [
      "Epoch 10: 100%|████████████████████████████████████████████████████████████████████████████████████████████████████████████| 251/251 [00:09<00:00, 26.87it/s, loss=0.318]\n"
     ]
    },
    {
     "name": "stdout",
     "output_type": "stream",
     "text": [
      "Epoch 10, Train Loss: 0.3749, Val Loss: 0.4343\n"
     ]
    },
    {
     "name": "stderr",
     "output_type": "stream",
     "text": [
      "Epoch 11: 100%|████████████████████████████████████████████████████████████████████████████████████████████████████████████| 251/251 [00:09<00:00, 26.87it/s, loss=0.263]\n"
     ]
    },
    {
     "name": "stdout",
     "output_type": "stream",
     "text": [
      "Epoch 11, Train Loss: 0.3585, Val Loss: 0.4381\n"
     ]
    },
    {
     "name": "stderr",
     "output_type": "stream",
     "text": [
      "Epoch 12: 100%|████████████████████████████████████████████████████████████████████████████████████████████████████████████| 251/251 [00:09<00:00, 26.94it/s, loss=0.453]\n"
     ]
    },
    {
     "name": "stdout",
     "output_type": "stream",
     "text": [
      "Epoch 12, Train Loss: 0.3439, Val Loss: 0.4407\n"
     ]
    },
    {
     "name": "stderr",
     "output_type": "stream",
     "text": [
      "Epoch 13: 100%|████████████████████████████████████████████████████████████████████████████████████████████████████████████| 251/251 [00:09<00:00, 26.79it/s, loss=0.285]\n"
     ]
    },
    {
     "name": "stdout",
     "output_type": "stream",
     "text": [
      "Epoch 13, Train Loss: 0.3342, Val Loss: 0.4424\n"
     ]
    },
    {
     "name": "stderr",
     "output_type": "stream",
     "text": [
      "Epoch 14: 100%|████████████████████████████████████████████████████████████████████████████████████████████████████████████| 251/251 [00:09<00:00, 26.82it/s, loss=0.323]\n"
     ]
    },
    {
     "name": "stdout",
     "output_type": "stream",
     "text": [
      "Epoch 14, Train Loss: 0.3225, Val Loss: 0.4249\n"
     ]
    },
    {
     "name": "stderr",
     "output_type": "stream",
     "text": [
      "Epoch 15: 100%|████████████████████████████████████████████████████████████████████████████████████████████████████████████| 251/251 [00:09<00:00, 26.78it/s, loss=0.343]\n"
     ]
    },
    {
     "name": "stdout",
     "output_type": "stream",
     "text": [
      "Epoch 15, Train Loss: 0.3076, Val Loss: 0.4307\n"
     ]
    },
    {
     "name": "stderr",
     "output_type": "stream",
     "text": [
      "Epoch 16: 100%|████████████████████████████████████████████████████████████████████████████████████████████████████████████| 251/251 [00:09<00:00, 26.57it/s, loss=0.419]\n"
     ]
    },
    {
     "name": "stdout",
     "output_type": "stream",
     "text": [
      "Epoch 16, Train Loss: 0.2965, Val Loss: 0.4395\n"
     ]
    },
    {
     "name": "stderr",
     "output_type": "stream",
     "text": [
      "Epoch 17: 100%|█████████████████████████████████████████████████████████████████████████████████████████████████████████████| 251/251 [00:09<00:00, 26.89it/s, loss=0.29]\n"
     ]
    },
    {
     "name": "stdout",
     "output_type": "stream",
     "text": [
      "Epoch 17, Train Loss: 0.2877, Val Loss: 0.4302\n"
     ]
    },
    {
     "name": "stderr",
     "output_type": "stream",
     "text": [
      "Epoch 18: 100%|████████████████████████████████████████████████████████████████████████████████████████████████████████████| 251/251 [00:09<00:00, 26.71it/s, loss=0.185]\n"
     ]
    },
    {
     "name": "stdout",
     "output_type": "stream",
     "text": [
      "Epoch 18, Train Loss: 0.2761, Val Loss: 0.4248\n"
     ]
    },
    {
     "name": "stderr",
     "output_type": "stream",
     "text": [
      "Epoch 19: 100%|████████████████████████████████████████████████████████████████████████████████████████████████████████████| 251/251 [00:09<00:00, 26.42it/s, loss=0.347]\n"
     ]
    },
    {
     "name": "stdout",
     "output_type": "stream",
     "text": [
      "Epoch 19, Train Loss: 0.2650, Val Loss: 0.4272\n",
      "best val loss is 0.4247560290590165\n",
      "Utilising cuda\n",
      "Final Validation accuracy with model_4 is 82.90981564524166\n",
      "Final Test accuracy with model_4 is 81.06694560669456\n",
      "model_5\n",
      "Utilising cuda\n"
     ]
    },
    {
     "name": "stderr",
     "output_type": "stream",
     "text": [
      "Epoch 0: 100%|█████████████████████████████████████████████████████████████████████████████████████████████████████████████| 251/251 [00:46<00:00,  5.40it/s, loss=0.718]\n"
     ]
    },
    {
     "name": "stdout",
     "output_type": "stream",
     "text": [
      "Epoch 0, Train Loss: 0.6961, Val Loss: 0.6958\n"
     ]
    },
    {
     "name": "stderr",
     "output_type": "stream",
     "text": [
      "Epoch 1: 100%|█████████████████████████████████████████████████████████████████████████████████████████████████████████████| 251/251 [00:48<00:00,  5.18it/s, loss=0.704]\n"
     ]
    },
    {
     "name": "stdout",
     "output_type": "stream",
     "text": [
      "Epoch 1, Train Loss: 0.6979, Val Loss: 0.6930\n"
     ]
    },
    {
     "name": "stderr",
     "output_type": "stream",
     "text": [
      "Epoch 2: 100%|█████████████████████████████████████████████████████████████████████████████████████████████████████████████| 251/251 [00:48<00:00,  5.17it/s, loss=0.699]\n"
     ]
    },
    {
     "name": "stdout",
     "output_type": "stream",
     "text": [
      "Epoch 2, Train Loss: 0.6974, Val Loss: 0.6936\n"
     ]
    },
    {
     "name": "stderr",
     "output_type": "stream",
     "text": [
      "Epoch 3: 100%|███████████████████████████████████████████████████████████████████████████████████████████████████████████████| 251/251 [00:48<00:00,  5.15it/s, loss=0.7]\n"
     ]
    },
    {
     "name": "stdout",
     "output_type": "stream",
     "text": [
      "Epoch 3, Train Loss: 0.6973, Val Loss: 0.6927\n"
     ]
    },
    {
     "name": "stderr",
     "output_type": "stream",
     "text": [
      "Epoch 4: 100%|█████████████████████████████████████████████████████████████████████████████████████████████████████████████| 251/251 [00:48<00:00,  5.18it/s, loss=0.683]\n"
     ]
    },
    {
     "name": "stdout",
     "output_type": "stream",
     "text": [
      "Epoch 4, Train Loss: 0.6980, Val Loss: 0.6940\n"
     ]
    },
    {
     "name": "stderr",
     "output_type": "stream",
     "text": [
      "Epoch 5: 100%|█████████████████████████████████████████████████████████████████████████████████████████████████████████████| 251/251 [00:47<00:00,  5.32it/s, loss=0.692]\n"
     ]
    },
    {
     "name": "stdout",
     "output_type": "stream",
     "text": [
      "Epoch 5, Train Loss: 0.6973, Val Loss: 0.6927\n"
     ]
    },
    {
     "name": "stderr",
     "output_type": "stream",
     "text": [
      "Epoch 6: 100%|█████████████████████████████████████████████████████████████████████████████████████████████████████████████| 251/251 [00:47<00:00,  5.30it/s, loss=0.691]\n"
     ]
    },
    {
     "name": "stdout",
     "output_type": "stream",
     "text": [
      "Epoch 6, Train Loss: 0.6968, Val Loss: 0.6927\n"
     ]
    },
    {
     "name": "stderr",
     "output_type": "stream",
     "text": [
      "Epoch 7: 100%|█████████████████████████████████████████████████████████████████████████████████████████████████████████████| 251/251 [00:48<00:00,  5.18it/s, loss=0.693]\n"
     ]
    },
    {
     "name": "stdout",
     "output_type": "stream",
     "text": [
      "Epoch 7, Train Loss: 0.6943, Val Loss: 0.6928\n"
     ]
    },
    {
     "name": "stderr",
     "output_type": "stream",
     "text": [
      "Epoch 8: 100%|█████████████████████████████████████████████████████████████████████████████████████████████████████████████| 251/251 [00:48<00:00,  5.17it/s, loss=0.691]\n"
     ]
    },
    {
     "name": "stdout",
     "output_type": "stream",
     "text": [
      "Epoch 8, Train Loss: 0.6931, Val Loss: 0.6928\n"
     ]
    },
    {
     "name": "stderr",
     "output_type": "stream",
     "text": [
      "Epoch 9: 100%|█████████████████████████████████████████████████████████████████████████████████████████████████████████████| 251/251 [00:46<00:00,  5.38it/s, loss=0.691]\n"
     ]
    },
    {
     "name": "stdout",
     "output_type": "stream",
     "text": [
      "Epoch 9, Train Loss: 0.6930, Val Loss: 0.6926\n"
     ]
    },
    {
     "name": "stderr",
     "output_type": "stream",
     "text": [
      "Epoch 10: 100%|████████████████████████████████████████████████████████████████████████████████████████████████████████████| 251/251 [00:47<00:00,  5.27it/s, loss=0.694]\n"
     ]
    },
    {
     "name": "stdout",
     "output_type": "stream",
     "text": [
      "Epoch 10, Train Loss: 0.6955, Val Loss: 0.6937\n"
     ]
    },
    {
     "name": "stderr",
     "output_type": "stream",
     "text": [
      "Epoch 11: 100%|████████████████████████████████████████████████████████████████████████████████████████████████████████████| 251/251 [00:46<00:00,  5.39it/s, loss=0.682]\n"
     ]
    },
    {
     "name": "stdout",
     "output_type": "stream",
     "text": [
      "Epoch 11, Train Loss: 0.6973, Val Loss: 0.6958\n"
     ]
    },
    {
     "name": "stderr",
     "output_type": "stream",
     "text": [
      "Epoch 12: 100%|████████████████████████████████████████████████████████████████████████████████████████████████████████████| 251/251 [00:48<00:00,  5.16it/s, loss=0.709]\n"
     ]
    },
    {
     "name": "stdout",
     "output_type": "stream",
     "text": [
      "Epoch 12, Train Loss: 0.6962, Val Loss: 0.6926\n"
     ]
    },
    {
     "name": "stderr",
     "output_type": "stream",
     "text": [
      "Epoch 13: 100%|████████████████████████████████████████████████████████████████████████████████████████████████████████████| 251/251 [00:46<00:00,  5.36it/s, loss=0.684]\n"
     ]
    },
    {
     "name": "stdout",
     "output_type": "stream",
     "text": [
      "Epoch 13, Train Loss: 0.6966, Val Loss: 0.6945\n"
     ]
    },
    {
     "name": "stderr",
     "output_type": "stream",
     "text": [
      "Epoch 14: 100%|████████████████████████████████████████████████████████████████████████████████████████████████████████████| 251/251 [00:48<00:00,  5.21it/s, loss=0.689]\n"
     ]
    },
    {
     "name": "stdout",
     "output_type": "stream",
     "text": [
      "Epoch 14, Train Loss: 0.6955, Val Loss: 0.6946\n"
     ]
    },
    {
     "name": "stderr",
     "output_type": "stream",
     "text": [
      "Epoch 15: 100%|█████████████████████████████████████████████████████████████████████████████████████████████████████████████| 251/251 [00:48<00:00,  5.16it/s, loss=0.69]\n"
     ]
    },
    {
     "name": "stdout",
     "output_type": "stream",
     "text": [
      "Epoch 15, Train Loss: 0.6964, Val Loss: 0.6933\n"
     ]
    },
    {
     "name": "stderr",
     "output_type": "stream",
     "text": [
      "Epoch 16: 100%|████████████████████████████████████████████████████████████████████████████████████████████████████████████| 251/251 [00:47<00:00,  5.28it/s, loss=0.737]\n"
     ]
    },
    {
     "name": "stdout",
     "output_type": "stream",
     "text": [
      "Epoch 16, Train Loss: 0.6957, Val Loss: 0.6927\n"
     ]
    },
    {
     "name": "stderr",
     "output_type": "stream",
     "text": [
      "Epoch 17: 100%|████████████████████████████████████████████████████████████████████████████████████████████████████████████| 251/251 [00:46<00:00,  5.38it/s, loss=0.696]\n"
     ]
    },
    {
     "name": "stdout",
     "output_type": "stream",
     "text": [
      "Early stopping....\n",
      "best val loss is 0.6926305852239094\n",
      "Utilising cuda\n",
      "Final Validation accuracy with model_5 is 51.59441953163926\n",
      "Final Test accuracy with model_5 is 50.95138473799562\n"
     ]
    }
   ],
   "source": [
    "accs = []\n",
    "for model_name in model_configs_rnn:\n",
    "    print(f\"{model_name}\")\n",
    "    hidden_dim = model_configs_rnn[model_name]['hidden_dim']\n",
    "    hidden_layers = model_configs_rnn[model_name]['hidden_layers']\n",
    "    embedding_dim = model_configs_rnn[model_name]['embedding_size']\n",
    "    bidirectionality = model_configs_rnn[model_name]['bidirectionality']\n",
    "    model = RNNModel(len(dataset.vocabulary_words), 1, hidden_dim, hidden_layers,bidirectionality=bidirectionality, embedding_dim=embedding_dim,rnn_type='rnn',what_to_pick='mean')\n",
    "    train_loss_epoch_wise, val_loss_epoch_wise, val_accuracies_epoch_wise = train(model, 'hyp_para_tuning_'+model_name, n_epochs=20)\n",
    "    accuracy_val, accuracy_test = test(model, 'hyp_para_tuning_'+model_name)\n",
    "    accs.append(accuracy_test*100)\n",
    "    print(f\"Final Validation accuracy with {model_name} is {accuracy_val*100}\")\n",
    "    print(f\"Final Test accuracy with {model_name} is {accuracy_test*100}\")"
   ]
  },
  {
   "cell_type": "code",
   "execution_count": 78,
   "id": "c8429736-be06-4209-88bd-1e7721f8594e",
   "metadata": {},
   "outputs": [
    {
     "data": {
      "image/png": "[encoded data removed]",
      "text/plain": [
       "<Figure size 640x480 with 1 Axes>"
      ]
     },
     "metadata": {},
     "output_type": "display_data"
    }
   ],
   "source": [
    "# plot validation accuracy\n",
    "plt.plot(range(1, len(accs)+1), accs, label='Train Loss')\n",
    "plt.xlabel('model')\n",
    "plt.ylabel('Val accuracy')\n",
    "plt.title('Validation accuracy')\n",
    "plt.show()"
   ]
  },
  {
   "cell_type": "markdown",
   "id": "e4027716-a3f1-41a8-a624-51a6f169c8f0",
   "metadata": {},
   "source": [
    "## Observation\n",
    "Model 1,2,3 and 4 are performing in similar range, whereas model 5 performed very low. Model 3 is the best configuration selected for LSTM for next part"
   ]
  },
  {
   "cell_type": "markdown",
   "id": "14032146-4135-44d9-a93b-5dc8a202fb48",
   "metadata": {},
   "source": [
    "### 3. After RNNs\n",
    "#### 3.1 Keeping all the parameters same, replace the RNN layer with the LSTM layer using nn.LSTM. What changes do you observe ? Explain why LSTM layer would affect performance."
   ]
  },
  {
   "cell_type": "code",
   "execution_count": 80,
   "id": "2014f91d-e314-4458-a230-af54102d9dcd",
   "metadata": {},
   "outputs": [
    {
     "name": "stdout",
     "output_type": "stream",
     "text": [
      "Utilising cuda\n"
     ]
    },
    {
     "name": "stderr",
     "output_type": "stream",
     "text": [
      "Epoch 0: 100%|█████████████████████████████████████████████████████████████████████████████████████████████████████████████| 251/251 [00:39<00:00,  6.37it/s, loss=0.663]\n"
     ]
    },
    {
     "name": "stdout",
     "output_type": "stream",
     "text": [
      "Epoch 0, Train Loss: 0.6875, Val Loss: 0.6378\n"
     ]
    },
    {
     "name": "stderr",
     "output_type": "stream",
     "text": [
      "Epoch 1: 100%|█████████████████████████████████████████████████████████████████████████████████████████████████████████████| 251/251 [00:39<00:00,  6.33it/s, loss=0.519]\n"
     ]
    },
    {
     "name": "stdout",
     "output_type": "stream",
     "text": [
      "Epoch 1, Train Loss: 0.5719, Val Loss: 0.5290\n"
     ]
    },
    {
     "name": "stderr",
     "output_type": "stream",
     "text": [
      "Epoch 2: 100%|█████████████████████████████████████████████████████████████████████████████████████████████████████████████| 251/251 [00:40<00:00,  6.26it/s, loss=0.482]\n"
     ]
    },
    {
     "name": "stdout",
     "output_type": "stream",
     "text": [
      "Epoch 2, Train Loss: 0.4845, Val Loss: 0.4825\n"
     ]
    },
    {
     "name": "stderr",
     "output_type": "stream",
     "text": [
      "Epoch 3: 100%|█████████████████████████████████████████████████████████████████████████████████████████████████████████████| 251/251 [00:40<00:00,  6.26it/s, loss=0.386]\n"
     ]
    },
    {
     "name": "stdout",
     "output_type": "stream",
     "text": [
      "Epoch 3, Train Loss: 0.4278, Val Loss: 0.4501\n"
     ]
    },
    {
     "name": "stderr",
     "output_type": "stream",
     "text": [
      "Epoch 4: 100%|█████████████████████████████████████████████████████████████████████████████████████████████████████████████| 251/251 [00:39<00:00,  6.30it/s, loss=0.279]\n"
     ]
    },
    {
     "name": "stdout",
     "output_type": "stream",
     "text": [
      "Epoch 4, Train Loss: 0.3795, Val Loss: 0.4046\n"
     ]
    },
    {
     "name": "stderr",
     "output_type": "stream",
     "text": [
      "Epoch 5: 100%|█████████████████████████████████████████████████████████████████████████████████████████████████████████████| 251/251 [00:40<00:00,  6.23it/s, loss=0.204]\n"
     ]
    },
    {
     "name": "stdout",
     "output_type": "stream",
     "text": [
      "Epoch 5, Train Loss: 0.3316, Val Loss: 0.3853\n"
     ]
    },
    {
     "name": "stderr",
     "output_type": "stream",
     "text": [
      "Epoch 6: 100%|█████████████████████████████████████████████████████████████████████████████████████████████████████████████| 251/251 [00:39<00:00,  6.31it/s, loss=0.282]\n"
     ]
    },
    {
     "name": "stdout",
     "output_type": "stream",
     "text": [
      "Epoch 6, Train Loss: 0.3013, Val Loss: 0.4015\n"
     ]
    },
    {
     "name": "stderr",
     "output_type": "stream",
     "text": [
      "Epoch 7: 100%|█████████████████████████████████████████████████████████████████████████████████████████████████████████████| 251/251 [00:40<00:00,  6.24it/s, loss=0.175]\n"
     ]
    },
    {
     "name": "stdout",
     "output_type": "stream",
     "text": [
      "Epoch 7, Train Loss: 0.2754, Val Loss: 0.3660\n"
     ]
    },
    {
     "name": "stderr",
     "output_type": "stream",
     "text": [
      "Epoch 8: 100%|█████████████████████████████████████████████████████████████████████████████████████████████████████████████| 251/251 [00:39<00:00,  6.28it/s, loss=0.232]\n"
     ]
    },
    {
     "name": "stdout",
     "output_type": "stream",
     "text": [
      "Epoch 8, Train Loss: 0.2395, Val Loss: 0.3568\n"
     ]
    },
    {
     "name": "stderr",
     "output_type": "stream",
     "text": [
      "Epoch 9: 100%|█████████████████████████████████████████████████████████████████████████████████████████████████████████████| 251/251 [00:39<00:00,  6.31it/s, loss=0.168]\n"
     ]
    },
    {
     "name": "stdout",
     "output_type": "stream",
     "text": [
      "Epoch 9, Train Loss: 0.2211, Val Loss: 0.3830\n"
     ]
    },
    {
     "name": "stderr",
     "output_type": "stream",
     "text": [
      "Epoch 10: 100%|████████████████████████████████████████████████████████████████████████████████████████████████████████████| 251/251 [00:39<00:00,  6.29it/s, loss=0.179]\n"
     ]
    },
    {
     "name": "stdout",
     "output_type": "stream",
     "text": [
      "Epoch 10, Train Loss: 0.1991, Val Loss: 0.3597\n"
     ]
    },
    {
     "name": "stderr",
     "output_type": "stream",
     "text": [
      "Epoch 11: 100%|█████████████████████████████████████████████████████████████████████████████████████████████████████████████| 251/251 [00:40<00:00,  6.27it/s, loss=0.15]\n"
     ]
    },
    {
     "name": "stdout",
     "output_type": "stream",
     "text": [
      "Epoch 11, Train Loss: 0.1703, Val Loss: 0.3736\n"
     ]
    },
    {
     "name": "stderr",
     "output_type": "stream",
     "text": [
      "Epoch 12: 100%|████████████████████████████████████████████████████████████████████████████████████████████████████████████| 251/251 [00:40<00:00,  6.26it/s, loss=0.295]\n"
     ]
    },
    {
     "name": "stdout",
     "output_type": "stream",
     "text": [
      "Epoch 12, Train Loss: 0.1542, Val Loss: 0.4512\n"
     ]
    },
    {
     "name": "stderr",
     "output_type": "stream",
     "text": [
      "Epoch 13: 100%|████████████████████████████████████████████████████████████████████████████████████████████████████████████| 251/251 [00:40<00:00,  6.25it/s, loss=0.118]\n"
     ]
    },
    {
     "name": "stdout",
     "output_type": "stream",
     "text": [
      "Early stopping....\n",
      "best val loss is 0.35679555577891214\n",
      "Utilising cuda\n",
      "Final Validation accuracy with model_3 is 85.27653213751869\n",
      "Final Test accuracy with model_3 is 85.0916517234509\n"
     ]
    }
   ],
   "source": [
    "model_name = 'model_3'\n",
    "hidden_dim = model_configs_rnn[model_name]['hidden_dim']\n",
    "hidden_layers = model_configs_rnn[model_name]['hidden_layers']\n",
    "embedding_dim = model_configs_rnn[model_name]['embedding_size']\n",
    "bidirectionality = model_configs_rnn[model_name]['bidirectionality']\n",
    "model = RNNModel(len(dataset.vocabulary_words), 1, hidden_dim, hidden_layers,bidirectionality=bidirectionality, embedding_dim=embedding_dim,rnn_type='lstm',what_to_pick='mean')\n",
    "train_loss_epoch_wise, val_loss_epoch_wise, val_accuracies_epoch_wise = train(model, 'lstm_'+model_name, n_epochs=20)\n",
    "accuracy_val, accuracy_test = test(model, 'lstm_'+model_name)\n",
    "accs.append(accuracy_test*100)\n",
    "print(f\"Final Validation accuracy with {model_name} is {accuracy_val*100}\")\n",
    "print(f\"Final Test accuracy with {model_name} is {accuracy_test*100}\")"
   ]
  },
  {
   "cell_type": "markdown",
   "id": "f189e402-e4f9-48db-96c6-137d43823081",
   "metadata": {},
   "source": [
    "# Observation\n",
    "1. With RNN same configuration as model 3, test accuracy is 82.6%\n",
    "2. With LSTM same configuration as model 3, test accuracy is 85.1%\n",
    "3. ~3% improvement is observed.\n",
    "\n",
    "# Reason for LSTM performing better\n",
    "1. RNN can't capture longter dependencies as the current hidden state depends on only one step previous.\n",
    "2. To mitigate this disadvantage LSTM has dedicated memory cell with different gates such as forget gate, cell state, input gate and output gate. Which helps to learn to remeber longterm dependencies.\n",
    "3. This is the main reason for improvement in performance."
   ]
  },
  {
   "cell_type": "code",
   "execution_count": null,
   "id": "a4425112-c174-4fd6-b6d5-83e435b897f3",
   "metadata": {},
   "outputs": [],
   "source": []
  }
 ],
 "metadata": {
  "kernelspec": {
   "display_name": "Python 3 (ipykernel)",
   "language": "python",
   "name": "python3"
  },
  "language_info": {
   "codemirror_mode": {
    "name": "ipython",
    "version": 3
   },
   "file_extension": ".py",
   "mimetype": "text/x-python",
   "name": "python",
   "nbconvert_exporter": "python",
   "pygments_lexer": "ipython3",
   "version": "3.11.5"
  }
 },
 "nbformat": 4,
 "nbformat_minor": 5
}
