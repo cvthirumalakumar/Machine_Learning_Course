{
 "cells": [
  {
   "cell_type": "markdown",
   "metadata": {
    "id": "NBjekUKKzDg3"
   },
   "source": [
    "# Assignment 1\n",
    "\n",
    "## Question 3 (Linear Regression)\n",
    "\n",
    "This assignment will have you working and experimenting with linear regression. The general multiple linear regression model, given $p$ predictors, is defined as: $$Y=\\beta_0+\\beta_1X_1+\\beta_2X_2+...+\\beta_pX_p+\\epsilon,$$ where $Y$ is the response variable, $X_j$ is the $j$<sup>th</sup> predictor and $\\beta_j$ quantifies the association between the response and the variable. A good way to think about $\\beta_j$ is as the average effect on $Y$ of a one unit increase in $X_j$, holding all other predictors fixed. The $\\epsilon$ term is the error term, which is independent of $X$ and has mean zero (the expected value of $Y$ when all variables are set to zero).\n",
    "\n",
    "Work with Numpy only and do not use library functions that directly perform model fitting like `np.polyfit`. However, you may use library functions to compare your results while experimenting. This assignment becomes much easier to complete if accompanied by reading the third chapter in An Introduction to Statistical Learning. The text is freely available for download on the internet at [statlearning.com](statlearning.com)\n",
    "\n",
    "Reference: James, G., Witten, D., Hastie, T., Tibshirani, R., Taylor, J. (2023). Linear Regression. In: An Introduction to Statistical Learning. Springer Texts in Statistics. Springer, Cham. https://doi.org/10.1007/978-3-031-38747-0_3"
   ]
  },
  {
   "cell_type": "markdown",
   "metadata": {
    "id": "5j_YEOpDzJDk"
   },
   "source": [
    "### Imports"
   ]
  },
  {
   "cell_type": "code",
   "execution_count": 1,
   "metadata": {
    "id": "zjmte2ZLzH4Q"
   },
   "outputs": [
    {
     "name": "stderr",
     "output_type": "stream",
     "text": [
      "/tmp/ipykernel_579146/413043453.py:3: DeprecationWarning: \n",
      "Pyarrow will become a required dependency of pandas in the next major release of pandas (pandas 3.0),\n",
      "(to allow more performant data types, such as the Arrow string type, and better interoperability with other libraries)\n",
      "but was not found to be installed on your system.\n",
      "If this would cause problems for you,\n",
      "please provide us feedback at https://github.com/pandas-dev/pandas/issues/54466\n",
      "        \n",
      "  import pandas as pd\n"
     ]
    }
   ],
   "source": [
    "import numpy as np\n",
    "import matplotlib.pyplot as plt\n",
    "import pandas as pd\n",
    "np.random.seed(42)\n",
    "# other imports if necessary"
   ]
  },
  {
   "cell_type": "markdown",
   "metadata": {
    "id": "AjVF377ozMjX"
   },
   "source": [
    "### Part 1: Simple Regression\n",
    "\n",
    "In this part, the function `gen_data()` samples hundred data points from a random 25 degree single-variable polynomial. This data is stored in the `predictor` and `response` variables. Your task is to experiment with linear regression on this dataset. Specifically:\n",
    "\n",
    "1. Fit a line to the curve $(y=\\beta_1x+\\beta_0)$\n",
    "2. Fit a polynomial to the curve $(y=\\sum_{0}^{k}\\beta_kx^k)$ and choose $k$ that satisfactorily minimizes error.\n",
    "    - Note that the original polynomial is a 25 degree polynomial and we might not need exactly that many.\n",
    "    - Check how well the coefficients match when we try to fit a 25 degree polynomial to the data. Get the coefficients from the `gen_data()` function.\n",
    "\n",
    "Report error metrics for all experiments in tabular form (or any other way that helps us compare and choose between the different methods)\n",
    "\n"
   ]
  },
  {
   "cell_type": "code",
   "execution_count": 2,
   "metadata": {
    "id": "9MjixImKzL9Y"
   },
   "outputs": [
    {
     "data": {
      "image/png": "[encoded data removed]",
      "text/plain": [
       "<Figure size 640x480 with 1 Axes>"
      ]
     },
     "metadata": {},
     "output_type": "display_data"
    }
   ],
   "source": [
    "def gen_data():\n",
    "    coeff = np.random.rand(26)\n",
    "    x = np.linspace(-1.1, 0.9, 100)\n",
    "    y = np.zeros_like(x)\n",
    "    for i, c in enumerate(coeff):\n",
    "        y += c * x**i\n",
    "    y += np.random.randn(100) * 0.1\n",
    "\n",
    "    return x, y, coeff\n",
    "\n",
    "predictor, response, coeff = gen_data()\n",
    "\n",
    "plt.plot(predictor, response, 'r+')\n",
    "plt.xlabel('Predictor')\n",
    "plt.ylabel('Response')\n",
    "plt.title('Sampled Data Points')\n",
    "plt.show()"
   ]
  },
  {
   "cell_type": "code",
   "execution_count": 3,
   "metadata": {},
   "outputs": [],
   "source": [
    "def shuffle_data(x,y):\n",
    "    index_array = np.arange(len(x))\n",
    "    np.random.shuffle(index_array)\n",
    "    x_shuffled = x[index_array]\n",
    "    y_shuffled = y[index_array]\n",
    "    return x_shuffled, y_shuffled\n",
    "\n",
    "def mse(y_pred, y_true):\n",
    "    if y_pred.ndim == 1:\n",
    "        y_pred = y_pred.reshape(-1, 1)\n",
    "    if y_true.ndim == 1:\n",
    "        y_true = y_true.reshape(-1, 1)\n",
    "    return np.mean(np.square(y_pred-y_true))\n",
    "    \n",
    "\n",
    "x,y = shuffle_data(predictor, response)\n",
    "test_split = 0.2\n",
    "train_split = 1 - test_split\n",
    "n_train = int(np.floor(x.shape[0]*train_split))\n",
    "x_train, y_train = x[:n_train], y[:n_train]\n",
    "x_test, y_test = x[n_train:], y[n_train:]"
   ]
  },
  {
   "cell_type": "code",
   "execution_count": 4,
   "metadata": {
    "id": "KVbMVmm72vhB"
   },
   "outputs": [],
   "source": [
    "# your code here\n",
    "class LinearRegression():\n",
    "    def __init__(self, learning_rate = 0.001, n_iterations = 10, alpha = 0.01, \n",
    "                 regularisation = None , gradient_clipping = False, gradient_threshold = 10):\n",
    "        self.learning_rate = learning_rate\n",
    "        self.n_iterations = n_iterations\n",
    "        self.regularisation = regularisation\n",
    "        self.alpha = alpha\n",
    "        self.gradients = []\n",
    "        self.loss = []\n",
    "        self.gradient_clipping = gradient_clipping\n",
    "        self.gradient_threshold = gradient_threshold\n",
    "        \n",
    "    def fit(self, x, y):\n",
    "        if x.ndim == 1:\n",
    "            x = x.reshape(-1, 1)\n",
    "        if y.ndim == 1:\n",
    "            y = y.reshape(-1, 1)\n",
    "            \n",
    "        x = np.concatenate((np.ones((x.shape[0], 1)),x), axis =1)\n",
    "        self.weights = np.zeros((x.shape[-1],1))\n",
    "        # max_target_value = y.max()\n",
    "        # self.weights = np.random.rand(x.shape[-1], 1) * max_target_value\n",
    "        for iter in range(self.n_iterations):\n",
    "            preds = np.dot(x,self.weights)\n",
    "            error = preds - y\n",
    "            if self.regularisation == None:\n",
    "                gradients = np.dot(x.T,error)\n",
    "                loss = np.mean(error ** 2)\n",
    "            elif self.regularisation == 'l1':\n",
    "                gradients = np.dot(x.T,error) + self.alpha * np.sign(self.weights)\n",
    "                loss = np.mean(error ** 2) + self.alpha * np.sum(np.abs(self.weights))\n",
    "            elif self.regularisation == 'l2':\n",
    "                gradients = np.dot(x.T,error) + 2 * self.alpha * self.weights\n",
    "                loss = np.mean(error ** 2) + self.alpha * np.sum(self.weights ** 2)\n",
    "\n",
    "            if self.gradient_clipping == True:\n",
    "                gradient_norm = np.linalg.norm(gradients)\n",
    "                if gradient_norm > self.gradient_threshold:\n",
    "                    gradients = (gradients / gradient_norm) * self.gradient_threshold\n",
    "                else:\n",
    "                    gradients = gradients\n",
    "\n",
    "            self.weights -= self.learning_rate*gradients\n",
    "            self.loss.append(loss)\n",
    "            self.gradients.append(gradients)\n",
    "            # print(f\"Iteration : {iter}, Loss : {loss}\")#, end='\\r')\n",
    "            \n",
    "    def predict(self, x_test):\n",
    "        if x_test.ndim == 1:\n",
    "            x_test = x_test.reshape(-1, 1)\n",
    "        x_test = np.concatenate((np.ones((x_test.shape[0], 1)),x_test), axis =1)\n",
    "        return np.dot(x_test, self.weights)"
   ]
  },
  {
   "cell_type": "code",
   "execution_count": 5,
   "metadata": {},
   "outputs": [
    {
     "name": "stdout",
     "output_type": "stream",
     "text": [
      "Error with Linear regression :  3.103543612987014\n"
     ]
    }
   ],
   "source": [
    "model = LinearRegression(regularisation= None, n_iterations = 50)\n",
    "model.fit(x_train, y_train)\n",
    "preds = model.predict(x_test)\n",
    "error = np.mean(np.square(preds-y_test))\n",
    "print(\"Error with Linear regression : \",error)"
   ]
  },
  {
   "cell_type": "code",
   "execution_count": 6,
   "metadata": {},
   "outputs": [
    {
     "data": {
      "image/png": "[encoded data removed]",
      "text/plain": [
       "<Figure size 640x480 with 1 Axes>"
      ]
     },
     "metadata": {},
     "output_type": "display_data"
    }
   ],
   "source": [
    "# Polynomial regression\n",
    "errors = []\n",
    "train_errors = []\n",
    "# if y_train.ndim == 1:\n",
    "#     y_train = y_train.reshape(-1, 1)\n",
    "# if y_test.ndim == 1:\n",
    "#     y_test = y_test.reshape(-1, 1)\n",
    "for order in range(1,26):\n",
    "    x_train_ploy = np.vander(x_train, order + 1, increasing=True)[:,1:]\n",
    "    x_test_poly = np.vander(x_test, order + 1, increasing=True)[:,1:]\n",
    "    model_poly = LinearRegression(learning_rate = 0.001,regularisation= None, n_iterations = 50)\n",
    "    model_poly.fit(x_train_ploy, y_train)\n",
    "    preds_poly = model_poly.predict(x_test_poly)\n",
    "    # error = np.mean(np.square(preds_ploy-y_test))\n",
    "    error = mse(preds_poly, y_test)\n",
    "    errors.append(error)\n",
    "    train_preds = model_poly.predict(x_train_ploy)\n",
    "    # error_t = np.mean(np.square(train_preds-y_train))\n",
    "    error_t = mse(train_preds, y_train)\n",
    "    train_errors.append(error_t)\n",
    "    \n",
    "    # break\n",
    "\n",
    "plt.plot(range(1,26), train_errors, label='Train Error')\n",
    "plt.plot(range(1,26), errors, label='Test Error')\n",
    "plt.xlabel('Order')\n",
    "plt.ylabel('MSE')\n",
    "plt.legend()\n",
    "plt.show()"
   ]
  },
  {
   "cell_type": "code",
   "execution_count": 7,
   "metadata": {},
   "outputs": [
    {
     "data": {
      "image/png": "[encoded data removed]",
      "text/plain": [
       "<Figure size 640x480 with 1 Axes>"
      ]
     },
     "metadata": {},
     "output_type": "display_data"
    }
   ],
   "source": [
    "train_y_pred = model.predict(x_train)\n",
    "# plt.plot(x_train,train_y_pred,'r+')\n",
    "plt.plot(x_train,y_train,'b+')\n",
    "plt.plot(x_train,train_y_pred,'r+')\n",
    "plt.plot(x_train,model_poly.predict(x_train_ploy),'y+')\n",
    "plt.show()\n"
   ]
  },
  {
   "cell_type": "code",
   "execution_count": 8,
   "metadata": {},
   "outputs": [
    {
     "data": {
      "image/png": "[encoded data removed]",
      "text/plain": [
       "<Figure size 640x480 with 1 Axes>"
      ]
     },
     "metadata": {},
     "output_type": "display_data"
    }
   ],
   "source": [
    "test_y_pred = model.predict(x_test)\n",
    "# plt.plot(x_train,train_y_pred,'r+')\n",
    "plt.plot(x_test,y_test,'b+')\n",
    "plt.plot(x_test,test_y_pred,'r+')\n",
    "plt.plot(x_test,model_poly.predict(x_test_poly),'y+')\n",
    "plt.show()\n"
   ]
  },
  {
   "cell_type": "code",
   "execution_count": 9,
   "metadata": {},
   "outputs": [
    {
     "data": {
      "text/plain": [
       "(26, 1)"
      ]
     },
     "execution_count": 9,
     "metadata": {},
     "output_type": "execute_result"
    }
   ],
   "source": [
    "model_poly.weights.shape"
   ]
  },
  {
   "cell_type": "code",
   "execution_count": 10,
   "metadata": {},
   "outputs": [
    {
     "data": {
      "text/plain": [
       "0.1688246981117008"
      ]
     },
     "execution_count": 10,
     "metadata": {},
     "output_type": "execute_result"
    }
   ],
   "source": [
    "np.mean(np.square(coeff.reshape(-1,1)-model_poly.weights))"
   ]
  },
  {
   "cell_type": "markdown",
   "metadata": {},
   "source": [
    "#### Part 1.1 Regularization\n",
    "\n",
    "In this section, you will be required to perform the converse of the previous section. After generating data from a lower degree polynomial, you will try to fit a higher degree polynomial to it. This will result in overfitting. You will then use regularization to reduce the overfitting. Try both L1 and L2 regularization and compare the results."
   ]
  },
  {
   "cell_type": "code",
   "execution_count": 11,
   "metadata": {},
   "outputs": [
    {
     "data": {
      "image/png": "[encoded data removed]",
      "text/plain": [
       "<Figure size 640x480 with 1 Axes>"
      ]
     },
     "metadata": {},
     "output_type": "display_data"
    }
   ],
   "source": [
    "def gen_data_low():\n",
    "    coeff = np.random.rand(np.random.choice([3, 5, 7]))\n",
    "    x = np.linspace(-1.1, 0.9, 100)\n",
    "    y = np.zeros_like(x)\n",
    "    for i, c in enumerate(coeff):\n",
    "        y += c * x**i\n",
    "    y += np.random.randn(100) * 0.1\n",
    "\n",
    "    return x, y, coeff\n",
    "\n",
    "predictor_low, response_low, coeff = gen_data_low()\n",
    "\n",
    "plt.plot(predictor_low, response_low, 'r+')\n",
    "plt.xlabel('Predictor')\n",
    "plt.ylabel('Response')\n",
    "plt.title('Sampled Data Points')\n",
    "plt.show()"
   ]
  },
  {
   "cell_type": "code",
   "execution_count": 12,
   "metadata": {},
   "outputs": [
    {
     "name": "stdout",
     "output_type": "stream",
     "text": [
      "Order of training data :  7\n"
     ]
    }
   ],
   "source": [
    "# your code here\n",
    "x,y = shuffle_data(predictor_low, response_low)\n",
    "test_split = 0.2\n",
    "train_split = 1 - test_split\n",
    "n_train = int(np.floor(x.shape[0]*train_split))\n",
    "x_train, y_train = x[:n_train], y[:n_train]\n",
    "x_test, y_test = x[n_train:], y[n_train:]\n",
    "print(\"Order of training data : \",len(coeff))"
   ]
  },
  {
   "cell_type": "code",
   "execution_count": 13,
   "metadata": {},
   "outputs": [
    {
     "name": "stdout",
     "output_type": "stream",
     "text": [
      "No regularisation - Train:0.050879759748495436 ; Test:0.03956190588675119\n",
      "L1 regularisation - Train:0.052305751663821155 ; Test:0.04038035613519454\n",
      "L2 regularisation - Train:0.05134160903810654 ; Test:0.039920206440684274\n"
     ]
    }
   ],
   "source": [
    "order = len(coeff) + 10 #taking order 6 more than training data for training \n",
    "x_train_poly = np.vander(x_train, order + 1, increasing=True)[:,1:]\n",
    "x_test_poly = np.vander(x_test, order + 1, increasing=True)[:,1:]\n",
    "\n",
    "# No Regularisation\n",
    "model_noreg = LinearRegression(learning_rate = 0.001,regularisation= None, n_iterations = 50)\n",
    "model_noreg.fit(x_train_poly, y_train)\n",
    "y_train_noreg = model_noreg.predict(x_train_poly)\n",
    "y_test_noreg = model_noreg.predict(x_test_poly)\n",
    "\n",
    "# L1 Regularisation\n",
    "model_l1 = LinearRegression(learning_rate = 0.001,regularisation= \"l1\", alpha = 0.1, n_iterations = 50)\n",
    "model_l1.fit(x_train_poly, y_train)\n",
    "y_train_l1 = model_l1.predict(x_train_poly)\n",
    "y_test_l1 = model_l1.predict(x_test_poly)\n",
    "\n",
    "#L2 Regularisation\n",
    "model_l2 = LinearRegression(learning_rate = 0.001,regularisation= \"l2\", alpha = 0.1, n_iterations = 50)\n",
    "model_l2.fit(x_train_poly, y_train)\n",
    "y_train_l2 = model_l2.predict(x_train_poly)\n",
    "y_test_l2 = model_l2.predict(x_test_poly)\n",
    "\n",
    "print(f\"No regularisation - Train:{mse(y_train_noreg, y_train)} ; Test:{mse(y_test_noreg, y_test)}\")\n",
    "print(f\"L1 regularisation - Train:{mse(y_train_l1, y_train)} ; Test:{mse(y_test_l1, y_test)}\")\n",
    "print(f\"L2 regularisation - Train:{mse(y_train_l2, y_train)} ; Test:{mse(y_test_l2, y_test)}\")"
   ]
  },
  {
   "cell_type": "code",
   "execution_count": 14,
   "metadata": {},
   "outputs": [
    {
     "data": {
      "image/png": "[encoded data removed]",
      "text/plain": [
       "<Figure size 640x480 with 1 Axes>"
      ]
     },
     "metadata": {},
     "output_type": "display_data"
    }
   ],
   "source": [
    "plt.plot(x_train,y_train,'b+')\n",
    "plt.plot(x_train,y_train_noreg,'r+')\n",
    "plt.plot(x_train,y_train_l1,'y+')\n",
    "plt.plot(x_train,y_train_l2,'g+')\n",
    "plt.show()\n"
   ]
  },
  {
   "cell_type": "markdown",
   "metadata": {
    "id": "jvlMEbh_b0pN"
   },
   "source": [
    "### Part 2: Credit Data\n",
    "\n",
    "In this part, we work with the credit.csv file that predicts `Balance` after looking at predictors like `Income`, `Age`, `Limit`, etc. Your task is to understand the relationship between the predictors and response using linear regression techniques. Specifically:\n",
    "\n",
    "1. Perform multiple linear regression on the dataset. $(Y=\\sum\\beta_iX_i+\\epsilon)$\n",
    "2. Test whether all the variables are needed to predict `Balance` or if any of them can be discarded.\n",
    "3. Test for [interaction effects](https://en.wikipedia.org/wiki/Interaction_(statistics)#In_regression) between `Rating` and `Age`.\n",
    "\n",
    "As before, perform the above experiments by obtaining and reporting error metrics for all experiments."
   ]
  },
  {
   "cell_type": "code",
   "execution_count": 15,
   "metadata": {
    "colab": {
     "base_uri": "https://localhost:8080/",
     "height": 206
    },
    "id": "14AuOLx02x-U",
    "outputId": "f2e84637-2475-419c-ea4e-611e5d998a44"
   },
   "outputs": [
    {
     "data": {
      "text/html": [
       "<div>\n",
       "<style scoped>\n",
       "    .dataframe tbody tr th:only-of-type {\n",
       "        vertical-align: middle;\n",
       "    }\n",
       "\n",
       "    .dataframe tbody tr th {\n",
       "        vertical-align: top;\n",
       "    }\n",
       "\n",
       "    .dataframe thead th {\n",
       "        text-align: right;\n",
       "    }\n",
       "</style>\n",
       "<table border=\"1\" class=\"dataframe\">\n",
       "  <thead>\n",
       "    <tr style=\"text-align: right;\">\n",
       "      <th></th>\n",
       "      <th>Income</th>\n",
       "      <th>Limit</th>\n",
       "      <th>Rating</th>\n",
       "      <th>Cards</th>\n",
       "      <th>Age</th>\n",
       "      <th>Education</th>\n",
       "      <th>Balance</th>\n",
       "    </tr>\n",
       "  </thead>\n",
       "  <tbody>\n",
       "    <tr>\n",
       "      <th>0</th>\n",
       "      <td>14.891</td>\n",
       "      <td>3606</td>\n",
       "      <td>283</td>\n",
       "      <td>2</td>\n",
       "      <td>34</td>\n",
       "      <td>11</td>\n",
       "      <td>333</td>\n",
       "    </tr>\n",
       "    <tr>\n",
       "      <th>1</th>\n",
       "      <td>106.025</td>\n",
       "      <td>6645</td>\n",
       "      <td>483</td>\n",
       "      <td>3</td>\n",
       "      <td>82</td>\n",
       "      <td>15</td>\n",
       "      <td>903</td>\n",
       "    </tr>\n",
       "    <tr>\n",
       "      <th>2</th>\n",
       "      <td>104.593</td>\n",
       "      <td>7075</td>\n",
       "      <td>514</td>\n",
       "      <td>4</td>\n",
       "      <td>71</td>\n",
       "      <td>11</td>\n",
       "      <td>580</td>\n",
       "    </tr>\n",
       "    <tr>\n",
       "      <th>3</th>\n",
       "      <td>148.924</td>\n",
       "      <td>9504</td>\n",
       "      <td>681</td>\n",
       "      <td>3</td>\n",
       "      <td>36</td>\n",
       "      <td>11</td>\n",
       "      <td>964</td>\n",
       "    </tr>\n",
       "    <tr>\n",
       "      <th>4</th>\n",
       "      <td>55.882</td>\n",
       "      <td>4897</td>\n",
       "      <td>357</td>\n",
       "      <td>2</td>\n",
       "      <td>68</td>\n",
       "      <td>16</td>\n",
       "      <td>331</td>\n",
       "    </tr>\n",
       "  </tbody>\n",
       "</table>\n",
       "</div>"
      ],
      "text/plain": [
       "    Income  Limit  Rating  Cards  Age  Education  Balance\n",
       "0   14.891   3606     283      2   34         11      333\n",
       "1  106.025   6645     483      3   82         15      903\n",
       "2  104.593   7075     514      4   71         11      580\n",
       "3  148.924   9504     681      3   36         11      964\n",
       "4   55.882   4897     357      2   68         16      331"
      ]
     },
     "execution_count": 15,
     "metadata": {},
     "output_type": "execute_result"
    }
   ],
   "source": [
    "credit = pd.read_csv('credit.csv')\n",
    "credit.head()"
   ]
  },
  {
   "cell_type": "code",
   "execution_count": 16,
   "metadata": {},
   "outputs": [
    {
     "name": "stdout",
     "output_type": "stream",
     "text": [
      "Income       False\n",
      "Limit        False\n",
      "Rating       False\n",
      "Cards        False\n",
      "Age          False\n",
      "Education    False\n",
      "Balance      False\n",
      "dtype: bool\n"
     ]
    }
   ],
   "source": [
    "nan_columns = credit.isna().any()\n",
    "print(nan_columns)"
   ]
  },
  {
   "cell_type": "code",
   "execution_count": 17,
   "metadata": {},
   "outputs": [],
   "source": [
    "x, y = credit.iloc[:,:-1].to_numpy(), credit['Balance'].to_numpy()\n",
    "x, y = shuffle_data(x, y)\n",
    "test_split = 0.2\n",
    "train_split = 1 - test_split\n",
    "n_train = int(np.floor(x.shape[0]*train_split))\n",
    "x_train, y_train = x[:n_train], y[:n_train]\n",
    "x_test, y_test = x[n_train:], y[n_train:]"
   ]
  },
  {
   "cell_type": "code",
   "execution_count": 18,
   "metadata": {},
   "outputs": [],
   "source": [
    "class Normaliser():\n",
    "    def __init__(self):\n",
    "        pass\n",
    "\n",
    "    def fit(self, data):\n",
    "        self.mean = np.mean(data, axis=0)\n",
    "        self.std = np.std(data, axis=0)\n",
    "        \n",
    "    def normalise(self, data):\n",
    "        return (data - self.mean) / self.std\n",
    "        "
   ]
  },
  {
   "cell_type": "code",
   "execution_count": 21,
   "metadata": {},
   "outputs": [
    {
     "name": "stdout",
     "output_type": "stream",
     "text": [
      "MSE of test set: 75687.34008443374\n"
     ]
    }
   ],
   "source": [
    "# normaliser = Normaliser()\n",
    "# normaliser.fit(x_train)\n",
    "# x_train_normalised = normaliser.normalise(x_train)\n",
    "model = LinearRegression(n_iterations = 50, learning_rate=0.001, gradient_clipping=True, gradient_threshold = 10, regularisation=None, alpha=1)\n",
    "model.fit(x_train, y_train)\n",
    "preds = model.predict(x_test)\n",
    "print(f\"MSE of test set: {mse(preds, y_test)}\")"
   ]
  },
  {
   "cell_type": "code",
   "execution_count": 24,
   "metadata": {},
   "outputs": [],
   "source": [
    "from sklearn.linear_model import LinearRegression as sk_LinearRegression"
   ]
  },
  {
   "cell_type": "code",
   "execution_count": 25,
   "metadata": {},
   "outputs": [
    {
     "name": "stdout",
     "output_type": "stream",
     "text": [
      "MSE of test set: 22725.464940566882\n"
     ]
    }
   ],
   "source": [
    "model = sk_LinearRegression()\n",
    "model.fit(x_train, y_train)\n",
    "preds = model.predict(x_test)\n",
    "print(f\"MSE of test set: {mse(preds, y_test)}\")"
   ]
  },
  {
   "cell_type": "markdown",
   "metadata": {
    "id": "wDFv0bB-0Wfx"
   },
   "source": [
    "### Part 3: Shark Attacks\n",
    "\n",
    "This is a fun dataset that aims to predict the number of shark attacks (`SharkAttacks`) using variables like `Year`, `Month`, `Temperature`, and `IceCreamSales`. This dataset has been used in popular media to show how correlation does not imply causation. Test whether predictions made with ice cream sales data are any better/worse than predictions made by neglecting ice cream sales data.\n",
    "\n",
    "This sort of analysis reminds us that it is important to look at the data before using it for learning representations."
   ]
  },
  {
   "cell_type": "code",
   "execution_count": 26,
   "metadata": {
    "colab": {
     "base_uri": "https://localhost:8080/",
     "height": 206
    },
    "id": "GgftPmoIDChS",
    "outputId": "07e449f9-be77-4155-ccee-6b8efe63f544"
   },
   "outputs": [
    {
     "data": {
      "text/html": [
       "<div>\n",
       "<style scoped>\n",
       "    .dataframe tbody tr th:only-of-type {\n",
       "        vertical-align: middle;\n",
       "    }\n",
       "\n",
       "    .dataframe tbody tr th {\n",
       "        vertical-align: top;\n",
       "    }\n",
       "\n",
       "    .dataframe thead th {\n",
       "        text-align: right;\n",
       "    }\n",
       "</style>\n",
       "<table border=\"1\" class=\"dataframe\">\n",
       "  <thead>\n",
       "    <tr style=\"text-align: right;\">\n",
       "      <th></th>\n",
       "      <th>Year</th>\n",
       "      <th>Month</th>\n",
       "      <th>SharkAttacks</th>\n",
       "      <th>Temperature</th>\n",
       "      <th>IceCreamSales</th>\n",
       "    </tr>\n",
       "  </thead>\n",
       "  <tbody>\n",
       "    <tr>\n",
       "      <th>0</th>\n",
       "      <td>2008</td>\n",
       "      <td>1</td>\n",
       "      <td>25</td>\n",
       "      <td>11.9</td>\n",
       "      <td>76</td>\n",
       "    </tr>\n",
       "    <tr>\n",
       "      <th>1</th>\n",
       "      <td>2008</td>\n",
       "      <td>2</td>\n",
       "      <td>28</td>\n",
       "      <td>15.2</td>\n",
       "      <td>79</td>\n",
       "    </tr>\n",
       "    <tr>\n",
       "      <th>2</th>\n",
       "      <td>2008</td>\n",
       "      <td>3</td>\n",
       "      <td>32</td>\n",
       "      <td>17.2</td>\n",
       "      <td>91</td>\n",
       "    </tr>\n",
       "    <tr>\n",
       "      <th>3</th>\n",
       "      <td>2008</td>\n",
       "      <td>4</td>\n",
       "      <td>35</td>\n",
       "      <td>18.5</td>\n",
       "      <td>95</td>\n",
       "    </tr>\n",
       "    <tr>\n",
       "      <th>4</th>\n",
       "      <td>2008</td>\n",
       "      <td>5</td>\n",
       "      <td>38</td>\n",
       "      <td>19.4</td>\n",
       "      <td>103</td>\n",
       "    </tr>\n",
       "  </tbody>\n",
       "</table>\n",
       "</div>"
      ],
      "text/plain": [
       "   Year  Month  SharkAttacks  Temperature  IceCreamSales\n",
       "0  2008      1            25         11.9             76\n",
       "1  2008      2            28         15.2             79\n",
       "2  2008      3            32         17.2             91\n",
       "3  2008      4            35         18.5             95\n",
       "4  2008      5            38         19.4            103"
      ]
     },
     "execution_count": 26,
     "metadata": {},
     "output_type": "execute_result"
    }
   ],
   "source": [
    "sharks = pd.read_csv('shark_attacks.csv')\n",
    "sharks.head()"
   ]
  },
  {
   "cell_type": "code",
   "execution_count": 48,
   "metadata": {
    "id": "FVLNM47UDWNV"
   },
   "outputs": [
    {
     "name": "stdout",
     "output_type": "stream",
     "text": [
      "MSE of test set: 76.34407704910672\n"
     ]
    }
   ],
   "source": [
    "# your code here\n",
    "x, y = sharks[['Year','Month','Temperature','IceCreamSales']].to_numpy(), sharks['SharkAttacks'].to_numpy()\n",
    "# x, y = sharks[['IceCreamSales']].to_numpy(), sharks['SharkAttacks'].to_numpy()\n",
    "x_shuffled, y_shuffled = shuffle_data(x, y)\n",
    "test_split = 0.2\n",
    "train_split = 1 - test_split\n",
    "n_train = int(np.floor(x.shape[0]*train_split))\n",
    "x_train, y_train = x_shuffled[:n_train], y_shuffled[:n_train]\n",
    "x_test, y_test = x_shuffled[n_train:], y_shuffled[n_train:]\n",
    "model = LinearRegression(n_iterations = 50, learning_rate=0.001, gradient_clipping=True, gradient_threshold=10)\n",
    "model.fit(x_train, y_train)\n",
    "preds = model.predict(x_test)\n",
    "print(f\"MSE of test set: {mse(preds, y_test)}\")"
   ]
  },
  {
   "cell_type": "code",
   "execution_count": 49,
   "metadata": {},
   "outputs": [
    {
     "name": "stdout",
     "output_type": "stream",
     "text": [
      "MSE of test set: 182.57150188631036\n"
     ]
    }
   ],
   "source": [
    "# your code here\n",
    "x, y = sharks[['Year','Month','Temperature']].to_numpy(), sharks['SharkAttacks'].to_numpy()\n",
    "# x, y = sharks[['IceCreamSales']].to_numpy(), sharks['SharkAttacks'].to_numpy()\n",
    "x_shuffled, y_shuffled = shuffle_data(x, y)\n",
    "test_split = 0.2\n",
    "train_split = 1 - test_split\n",
    "n_train = int(np.floor(x.shape[0]*train_split))\n",
    "x_train, y_train = x_shuffled[:n_train], y_shuffled[:n_train]\n",
    "x_test, y_test = x_shuffled[n_train:], y_shuffled[n_train:]\n",
    "model = LinearRegression(n_iterations = 50, learning_rate=0.001, gradient_clipping=True, gradient_threshold=10)\n",
    "model.fit(x_train, y_train)\n",
    "preds = model.predict(x_test)\n",
    "print(f\"MSE of test set: {mse(preds, y_test)}\")"
   ]
  },
  {
   "cell_type": "code",
   "execution_count": null,
   "metadata": {},
   "outputs": [],
   "source": []
  }
 ],
 "metadata": {
  "colab": {
   "provenance": []
  },
  "kernelspec": {
   "display_name": "Python 3 (ipykernel)",
   "language": "python",
   "name": "python3"
  },
  "language_info": {
   "codemirror_mode": {
    "name": "ipython",
    "version": 3
   },
   "file_extension": ".py",
   "mimetype": "text/x-python",
   "name": "python",
   "nbconvert_exporter": "python",
   "pygments_lexer": "ipython3",
   "version": "3.10.12"
  }
 },
 "nbformat": 4,
 "nbformat_minor": 4
}
